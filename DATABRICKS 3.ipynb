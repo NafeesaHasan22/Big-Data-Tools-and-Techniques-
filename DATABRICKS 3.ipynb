{
 "cells": [
  {
   "cell_type": "markdown",
   "metadata": {
    "application/vnd.databricks.v1+cell": {
     "cellMetadata": {
      "byteLimit": 2048000,
      "rowLimit": 10000
     },
     "inputWidgets": {},
     "nuid": "d8c7ee70-a365-4017-a657-62fd6d896b7b",
     "showTitle": false,
     "title": ""
    }
   },
   "source": [
    "#####REUSABLE CODE FOR CLINICALTRIAL_2023"
   ]
  },
  {
   "cell_type": "code",
   "execution_count": 0,
   "metadata": {
    "application/vnd.databricks.v1+cell": {
     "cellMetadata": {
      "byteLimit": 2048000,
      "rowLimit": 10000
     },
     "inputWidgets": {},
     "nuid": "66f15f9e-297f-4972-b7c0-abfc46f1eecd",
     "showTitle": false,
     "title": ""
    }
   },
   "outputs": [],
   "source": [
    "fileroot = \"clinicaltrial_2023\"\n",
    "import os\n",
    "os.environ ['fileroot'] = fileroot"
   ]
  },
  {
   "cell_type": "code",
   "execution_count": 0,
   "metadata": {
    "application/vnd.databricks.v1+cell": {
     "cellMetadata": {
      "byteLimit": 2048000,
      "rowLimit": 10000
     },
     "inputWidgets": {},
     "nuid": "929a6c7d-8ea8-41ea-9940-c19b74945eb8",
     "showTitle": false,
     "title": ""
    }
   },
   "outputs": [
    {
     "output_type": "stream",
     "name": "stdout",
     "output_type": "stream",
     "text": [
      "Out[2]: True"
     ]
    }
   ],
   "source": [
    "dbutils.fs.cp(\"/FileStore/tables/\" + fileroot + \".zip\", \"file:/tmp/\")"
   ]
  },
  {
   "cell_type": "code",
   "execution_count": 0,
   "metadata": {
    "application/vnd.databricks.v1+cell": {
     "cellMetadata": {
      "byteLimit": 2048000,
      "rowLimit": 10000
     },
     "inputWidgets": {},
     "nuid": "20313141-fb6c-4710-809f-e87d23534dd5",
     "showTitle": false,
     "title": ""
    }
   },
   "outputs": [
    {
     "output_type": "stream",
     "name": "stdout",
     "output_type": "stream",
     "text": [
      "Archive:  /tmp/clinicaltrial_2023.zip\n  inflating: /tmp/clinicaltrial_2023.csv  \n"
     ]
    }
   ],
   "source": [
    "%sh\n",
    "unzip -d /tmp /tmp/$fileroot.zip"
   ]
  },
  {
   "cell_type": "code",
   "execution_count": 0,
   "metadata": {
    "application/vnd.databricks.v1+cell": {
     "cellMetadata": {
      "byteLimit": 2048000,
      "rowLimit": 10000
     },
     "inputWidgets": {},
     "nuid": "c5f2c054-0125-4834-9995-89357527a9ee",
     "showTitle": false,
     "title": ""
    }
   },
   "outputs": [
    {
     "output_type": "stream",
     "name": "stdout",
     "output_type": "stream",
     "text": [
      "Rserv\nRtmpkZiDVr\nchauffeur-daemon-params\nchauffeur-daemon.pid\nchauffeur-env.sh\nclinicaltrial_2023.csv\nclinicaltrial_2023.zip\ncustom-spark.conf\ndriver-daemon-params\ndriver-daemon.pid\ndriver-env.sh\nhsperfdata_root\npython_lsp_logs\nsystemd-private-c9769b09f0794f1eb2ac0bd054087101-apache2.service-JwpEyi\nsystemd-private-c9769b09f0794f1eb2ac0bd054087101-ntp.service-YB6mdh\nsystemd-private-c9769b09f0794f1eb2ac0bd054087101-systemd-logind.service-UkgpKi\nsystemd-private-c9769b09f0794f1eb2ac0bd054087101-systemd-resolved.service-T1vN0f\ntmp.PIallZGiKN\n"
     ]
    }
   ],
   "source": [
    "%sh\n",
    "ls /tmp/"
   ]
  },
  {
   "cell_type": "code",
   "execution_count": 0,
   "metadata": {
    "application/vnd.databricks.v1+cell": {
     "cellMetadata": {
      "byteLimit": 2048000,
      "rowLimit": 10000
     },
     "inputWidgets": {},
     "nuid": "e8d01c96-6fba-4eb9-bafe-38e9f4a912a9",
     "showTitle": false,
     "title": ""
    }
   },
   "outputs": [
    {
     "output_type": "stream",
     "name": "stdout",
     "output_type": "stream",
     "text": [
      "Out[5]: True"
     ]
    }
   ],
   "source": [
    "dbutils.fs.mkdirs(\"/FileStore/tables/\" + fileroot + \".csv\" )"
   ]
  },
  {
   "cell_type": "code",
   "execution_count": 0,
   "metadata": {
    "application/vnd.databricks.v1+cell": {
     "cellMetadata": {
      "byteLimit": 2048000,
      "rowLimit": 10000
     },
     "inputWidgets": {},
     "nuid": "c304caf5-ba16-4702-b3b5-e3781defdf72",
     "showTitle": false,
     "title": ""
    }
   },
   "outputs": [
    {
     "output_type": "stream",
     "name": "stdout",
     "output_type": "stream",
     "text": [
      "Out[6]: True"
     ]
    }
   ],
   "source": [
    "dbutils.fs.mv(\"file:/tmp/\" + fileroot + \".csv\" , \"/FileStore/tables/\" + fileroot + \".csv\"  , True)"
   ]
  },
  {
   "cell_type": "code",
   "execution_count": 0,
   "metadata": {
    "application/vnd.databricks.v1+cell": {
     "cellMetadata": {
      "byteLimit": 2048000,
      "rowLimit": 10000
     },
     "inputWidgets": {},
     "nuid": "a236db66-393b-4f49-b019-63cfe1aca486",
     "showTitle": false,
     "title": ""
    }
   },
   "outputs": [
    {
     "output_type": "stream",
     "name": "stdout",
     "output_type": "stream",
     "text": [
      "Out[7]: [FileInfo(path='dbfs:/FileStore/tables/clinicaltrial_2023.csv/clinicaltrial_2023.csv', name='clinicaltrial_2023.csv', size=292436366, modificationTime=1714475986000)]"
     ]
    }
   ],
   "source": [
    "dbutils.fs.ls(\"/FileStore/tables/\" + fileroot + \".csv\" )"
   ]
  },
  {
   "cell_type": "markdown",
   "metadata": {
    "application/vnd.databricks.v1+cell": {
     "cellMetadata": {
      "byteLimit": 2048000,
      "rowLimit": 10000
     },
     "inputWidgets": {},
     "nuid": "da293771-fcd4-4abe-93cb-a470309b9090",
     "showTitle": false,
     "title": ""
    }
   },
   "source": [
    "#####REUSABLE CODE FOR PHARMA"
   ]
  },
  {
   "cell_type": "code",
   "execution_count": 0,
   "metadata": {
    "application/vnd.databricks.v1+cell": {
     "cellMetadata": {
      "byteLimit": 2048000,
      "rowLimit": 10000
     },
     "inputWidgets": {},
     "nuid": "fa2ae157-0928-45b6-b33a-ad09dbaa7d87",
     "showTitle": false,
     "title": ""
    }
   },
   "outputs": [],
   "source": [
    "fileroot = \"pharma\"\n",
    "import os\n",
    "os.environ ['fileroot'] = fileroot"
   ]
  },
  {
   "cell_type": "code",
   "execution_count": 0,
   "metadata": {
    "application/vnd.databricks.v1+cell": {
     "cellMetadata": {
      "byteLimit": 2048000,
      "rowLimit": 10000
     },
     "inputWidgets": {},
     "nuid": "94315851-cac2-47b2-af53-7fa661198628",
     "showTitle": false,
     "title": ""
    }
   },
   "outputs": [
    {
     "output_type": "stream",
     "name": "stdout",
     "output_type": "stream",
     "text": [
      "Out[9]: True"
     ]
    }
   ],
   "source": [
    "dbutils.fs.cp(\"/FileStore/tables/\" + fileroot + \".zip\", \"file:/tmp/\")"
   ]
  },
  {
   "cell_type": "code",
   "execution_count": 0,
   "metadata": {
    "application/vnd.databricks.v1+cell": {
     "cellMetadata": {
      "byteLimit": 2048000,
      "rowLimit": 10000
     },
     "inputWidgets": {},
     "nuid": "77036489-daa1-4a8f-b141-f069b5777a9d",
     "showTitle": false,
     "title": ""
    }
   },
   "outputs": [
    {
     "output_type": "stream",
     "name": "stdout",
     "output_type": "stream",
     "text": [
      "Archive:  /tmp/pharma.zip\n  inflating: /tmp/pharma.csv         \n"
     ]
    }
   ],
   "source": [
    "%sh\n",
    "unzip -d /tmp /tmp/$fileroot.zip"
   ]
  },
  {
   "cell_type": "code",
   "execution_count": 0,
   "metadata": {
    "application/vnd.databricks.v1+cell": {
     "cellMetadata": {
      "byteLimit": 2048000,
      "rowLimit": 10000
     },
     "inputWidgets": {},
     "nuid": "96635405-3518-4ba1-ac18-1f9e9dd8e6e9",
     "showTitle": false,
     "title": ""
    }
   },
   "outputs": [
    {
     "output_type": "stream",
     "name": "stdout",
     "output_type": "stream",
     "text": [
      "Rserv\nRtmpkZiDVr\nchauffeur-daemon-params\nchauffeur-daemon.pid\nchauffeur-env.sh\nclinicaltrial_2023.zip\ncustom-spark.conf\ndriver-daemon-params\ndriver-daemon.pid\ndriver-env.sh\nhsperfdata_root\npharma.csv\npharma.zip\npython_lsp_logs\nsystemd-private-c9769b09f0794f1eb2ac0bd054087101-apache2.service-JwpEyi\nsystemd-private-c9769b09f0794f1eb2ac0bd054087101-ntp.service-YB6mdh\nsystemd-private-c9769b09f0794f1eb2ac0bd054087101-systemd-logind.service-UkgpKi\nsystemd-private-c9769b09f0794f1eb2ac0bd054087101-systemd-resolved.service-T1vN0f\ntmp.PIallZGiKN\n"
     ]
    }
   ],
   "source": [
    "%sh\n",
    "ls /tmp/"
   ]
  },
  {
   "cell_type": "code",
   "execution_count": 0,
   "metadata": {
    "application/vnd.databricks.v1+cell": {
     "cellMetadata": {
      "byteLimit": 2048000,
      "rowLimit": 10000
     },
     "inputWidgets": {},
     "nuid": "68433bd8-68af-4a09-a869-84e038af6c22",
     "showTitle": false,
     "title": ""
    }
   },
   "outputs": [
    {
     "output_type": "stream",
     "name": "stdout",
     "output_type": "stream",
     "text": [
      "Out[12]: True"
     ]
    }
   ],
   "source": [
    "dbutils.fs.mkdirs(\"/FileStore/tables/\" + fileroot + \".csv\" )"
   ]
  },
  {
   "cell_type": "code",
   "execution_count": 0,
   "metadata": {
    "application/vnd.databricks.v1+cell": {
     "cellMetadata": {
      "byteLimit": 2048000,
      "rowLimit": 10000
     },
     "inputWidgets": {},
     "nuid": "8665f19f-76f7-4d91-8169-16b68f2e1400",
     "showTitle": false,
     "title": ""
    }
   },
   "outputs": [
    {
     "output_type": "stream",
     "name": "stdout",
     "output_type": "stream",
     "text": [
      "Out[13]: True"
     ]
    }
   ],
   "source": [
    "dbutils.fs.mv(\"file:/tmp/\" + fileroot + \".csv\" , \"/FileStore/tables/\" + fileroot + \".csv\"  , True)"
   ]
  },
  {
   "cell_type": "code",
   "execution_count": 0,
   "metadata": {
    "application/vnd.databricks.v1+cell": {
     "cellMetadata": {
      "byteLimit": 2048000,
      "rowLimit": 10000
     },
     "inputWidgets": {},
     "nuid": "47cca87b-2f30-43ee-8064-4b71c2e5d791",
     "showTitle": false,
     "title": ""
    }
   },
   "outputs": [
    {
     "output_type": "stream",
     "name": "stdout",
     "output_type": "stream",
     "text": [
      "Out[14]: [FileInfo(path='dbfs:/FileStore/tables/pharma.csv/pharma.csv', name='pharma.csv', size=678999, modificationTime=1714475992000)]"
     ]
    }
   ],
   "source": [
    "dbutils.fs.ls(\"/FileStore/tables/\" + fileroot + \".csv\" )"
   ]
  },
  {
   "cell_type": "markdown",
   "metadata": {
    "application/vnd.databricks.v1+cell": {
     "cellMetadata": {
      "byteLimit": 2048000,
      "rowLimit": 10000
     },
     "inputWidgets": {},
     "nuid": "e3db0dbc-47f8-4f66-9f55-c1a2b90aa581",
     "showTitle": false,
     "title": ""
    }
   },
   "source": [
    "#####IMPORT NECESSARY LIBRARIES"
   ]
  },
  {
   "cell_type": "code",
   "execution_count": 0,
   "metadata": {
    "application/vnd.databricks.v1+cell": {
     "cellMetadata": {
      "byteLimit": 2048000,
      "rowLimit": 10000
     },
     "inputWidgets": {},
     "nuid": "d63af769-74bb-45ca-b471-9320d28fd25e",
     "showTitle": false,
     "title": ""
    }
   },
   "outputs": [],
   "source": [
    "# Import necessary libraries\n",
    "from pyspark import SparkContext\n",
    "from pyspark.sql import SparkSession\n"
   ]
  },
  {
   "cell_type": "markdown",
   "metadata": {
    "application/vnd.databricks.v1+cell": {
     "cellMetadata": {
      "byteLimit": 2048000,
      "rowLimit": 10000
     },
     "inputWidgets": {},
     "nuid": "e0e6953c-0be4-4cdf-8720-ae70298e6037",
     "showTitle": false,
     "title": ""
    }
   },
   "source": [
    "#####INITIALIZE SPARK SESSION"
   ]
  },
  {
   "cell_type": "code",
   "execution_count": 0,
   "metadata": {
    "application/vnd.databricks.v1+cell": {
     "cellMetadata": {
      "byteLimit": 2048000,
      "rowLimit": 10000
     },
     "inputWidgets": {},
     "nuid": "9fac0308-4e94-45e9-b61e-a0e435e9493e",
     "showTitle": false,
     "title": ""
    }
   },
   "outputs": [],
   "source": [
    "# Create SparkContext\n",
    "sc = SparkContext.getOrCreate()"
   ]
  },
  {
   "cell_type": "code",
   "execution_count": 0,
   "metadata": {
    "application/vnd.databricks.v1+cell": {
     "cellMetadata": {
      "byteLimit": 2048000,
      "rowLimit": 10000
     },
     "inputWidgets": {},
     "nuid": "8a46ec79-291f-43fe-8766-701f1fe612f1",
     "showTitle": false,
     "title": ""
    }
   },
   "outputs": [],
   "source": [
    "# Create SparkSession\n",
    "spark = SparkSession.builder \\\n",
    "    .appName(\"Clinical Trials Analysis\") \\\n",
    "    .getOrCreate()"
   ]
  },
  {
   "cell_type": "markdown",
   "metadata": {
    "application/vnd.databricks.v1+cell": {
     "cellMetadata": {
      "byteLimit": 2048000,
      "rowLimit": 10000
     },
     "inputWidgets": {},
     "nuid": "214b8f8d-d3ac-49a4-8f63-041d138e6bbe",
     "showTitle": false,
     "title": ""
    }
   },
   "source": [
    "#####LOAD AND PREPARE THE DATASETS"
   ]
  },
  {
   "cell_type": "code",
   "execution_count": 0,
   "metadata": {
    "application/vnd.databricks.v1+cell": {
     "cellMetadata": {
      "byteLimit": 2048000,
      "rowLimit": 10000
     },
     "inputWidgets": {},
     "nuid": "74b8e37c-13de-421c-a825-facd6350afb0",
     "showTitle": false,
     "title": ""
    }
   },
   "outputs": [],
   "source": [
    "# Load clinical trial data as RDD\n",
    "clinicaltrial_2023_rdd = sc.textFile(\"/FileStore/tables/clinicaltrial_2023.csv\")\n",
    "clinicaltrial_2023_rdd1 = clinicaltrial_2023_rdd.map(lambda x: x.split(\"\\t\"))\n",
    "header_row = clinicaltrial_2023_rdd1.first()\n",
    "# Filter out the header row\n",
    "clinicaltrial_2023_rdd2 = clinicaltrial_2023_rdd1.filter(lambda row: row != header_row)\n"
   ]
  },
  {
   "cell_type": "code",
   "execution_count": 0,
   "metadata": {
    "application/vnd.databricks.v1+cell": {
     "cellMetadata": {
      "byteLimit": 2048000,
      "rowLimit": 10000
     },
     "inputWidgets": {},
     "nuid": "4ae2bb6e-670a-464f-bd6a-0dab76634952",
     "showTitle": false,
     "title": ""
    }
   },
   "outputs": [
    {
     "output_type": "stream",
     "name": "stdout",
     "output_type": "stream",
     "text": [
      "Out[19]: [['\"NCT03630471',\n  'Effectiveness of a Problem-solving Intervention for Common Adolescent Mental Health Problems in India',\n  'PRIDE',\n  'COMPLETED',\n  'Mental Health Issue (E.G.\", Depression, Psychosis, Personality Disorder,\" Substance Abuse)',\n  \"BEHAVIORAL: PRIDE 'Step 1' problem-solving intervention|BEHAVIORAL: Enhanced usual care\",\n  'Sangath',\n  'Harvard Medical School (HMS and HSDM)|London School of Hygiene and Tropical Medicine',\n  '250.0',\n  'OTHER',\n  'INTERVENTIONAL',\n  'Allocation: RANDOMIZED|Intervention Model: PARALLEL|Masking: DOUBLE (INVESTIGATOR\",\" OUTCOMES_ASSESSOR)|Primary Purpose: TREATMENT',\n  '2018-08-20',\n  '2019-02-28\",,,,,,,,,,,,,,,,,,,,,,,,,,,,,,,,,,,,,,,,,,,,,,,,,,,,,,,,,,,,,,,,,,,,,,,,,,,,,,,,,,,,,,,,,,,,,,,,,,,,,,,,,,,,,,,,,,,,,,,,,,,,,,,,,,,,,,,,,,,,,,,,,,,,,,,,,,,,,,,,,,,,,,,,,,,,,,,,,,,,,,,,,,,,,,,,,,,,,,,,,,,,,'],\n ['\"NCT05992571',\n  'Oral Ketone Monoester Supplementation and Resting-state Brain Connectivity',\n  '',\n  'RECRUITING',\n  'Cerebrovascular Function|Cognition',\n  'OTHER: Placebo|DIETARY_SUPPLEMENT: β-OHB',\n  'McMaster University',\n  'Alzheimer\\'s Society of Brant\", Haldimand Norfolk,\" Hamilton Halton',\n  '30.0',\n  'OTHER',\n  'INTERVENTIONAL',\n  'Allocation: RANDOMIZED|Intervention Model: CROSSOVER|Masking: TRIPLE (PARTICIPANT\", INVESTIGATOR,\" OUTCOMES_ASSESSOR)|Primary Purpose: BASIC_SCIENCE',\n  '2023-10-25',\n  '2024-08\",,,,,,,,,,,,,,,,,,,,,,,,,,,,,,,,,,,,,,,,,,,,,,,,,,,,,,,,,,,,,,,,,,,,,,,,,,,,,,,,,,,,,,,,,,,,,,,,,,,,,,,,,,,,,,,,,,,,,,,,,,,,,,,,,,,,,,,,,,,,,,,,,,,,,,,,,,,,,,,,,,,,,,,,,,,,,,,,,,,,,,,,,,,,,,,,,,,,,,,,,,,,,,'],\n ['\"NCT00237471',\n  'Impact of Tight Glycaemic Control in Acute Myocardial Infarction',\n  '',\n  'TERMINATED',\n  'Myocardial Infarct|Hyperglycemia',\n  'DRUG: Insulin (tight blood glucose control)',\n  'Melbourne Health',\n  'National Health and Medical Research Council\",\" Australia|Bristol-Myers Squibb',\n  '40.0',\n  'OTHER',\n  'INTERVENTIONAL',\n  'Allocation: RANDOMIZED|Intervention Model: PARALLEL|Masking: NONE|Primary Purpose: TREATMENT',\n  '2005-10',\n  '2006-05\",,,,,,,,,,,,,,,,,,,,,,,,,,,,,,,,,,,,,,,,,,,,,,,,,,,,,,,,,,,,,,,,,,,,,,,,,,,,,,,,,,,,,,,,,,,,,,,,,,,,,,,,,,,,,,,,,,,,,,,,,,,,,,,,,,,,,,,,,,,,,,,,,,,,,,,,,,,,,,,,,,,,,,,,,,,,,,,,,,,,,,,,,,,,,,,,,,,,,,,,,,,,,,,,,'],\n ['\"NCT03820271',\n  'New Prognostic Predictive Models of Mortality of Decompensated Cirrhotic Patients Waiting for Liver Transplantation',\n  'SUPERMELD',\n  'RECRUITING',\n  'Decompensated Cirrhosis|Liver Transplantation',\n  'OTHER: SuperMELD',\n  'Assistance Publique - Hôpitaux de Paris',\n  '',\n  '500.0',\n  'OTHER',\n  'INTERVENTIONAL',\n  'Allocation: NA|Intervention Model: SINGLE_GROUP|Masking: NONE|Primary Purpose: OTHER',\n  '2020-10-01',\n  '2023-10-01\",,,,,,,,,,,,,,,,,,,,,,,,,,,,,,,,,,,,,,,,,,,,,,,,,,,,,,,,,,,,,,,,,,,,,,,,,,,,,,,,,,,,,,,,,,,,,,,,,,,,,,,,,,,,,,,,,,,,,,,,,,,,,,,,,,,,,,,,,,,,,,,,,,,,,,,,,,,,,,,,,,,,,,,,,,,,,,,,,,,,,,,,,,,,,,,,,,,,,,,,,,,,,,,,,,'],\n ['\"NCT06229171',\n  'InTake Care: Development and Validation of an Innovative\",\" Personalized Digital Health Solution for Medication Adherence Support in Cardiovascular Prevention',\n  'InTakeCare',\n  'NOT_YET_RECRUITING',\n  'Hypertension|Treatment Adherence and Compliance|Digital Health',\n  'OTHER: adherence support system based on a vocal assistant',\n  'Istituto Auxologico Italiano',\n  'Istituti Clinici Scientifici Maugeri SpA|Politecnico di Milano',\n  '206.0',\n  'OTHER',\n  'INTERVENTIONAL',\n  'Allocation: RANDOMIZED|Intervention Model: PARALLEL|Masking: NONE|Primary Purpose: OTHER',\n  '2024-10-01',\n  '2026-04-01\",,,,,,,,,,,,,,,,,,,,,,,,,,,,,,,,,,,,,,,,,,,,,,,,,,,,,,,,,,,,,,,,,,,,,,,,,,,,,,,,,,,,,,,,,,,,,,,,,,,,,,,,,,,,,,,,,,,,,,,,,,,,,,,,,,,,,,,,,,,,,,,,,,,,,,,,,,,,,,,,,,,,,,,,,,,,,,,,,,,,,,,,,,,,,,,,,,,,,,,,,,,,,,,,,'],\n ['\"NCT02945371',\n  'Tailored Inhibitory Control Training to Reverse EA-linked Deficits in Mid-life',\n  'REV',\n  'COMPLETED',\n  'Smoking|Alcohol Drinking|Prescription Drug Abuse|Substance-Related Disorders|Oral Intake Reduced',\n  'BEHAVIORAL: Person-centered inhibitory control training|BEHAVIORAL: Active behavioral response training',\n  'University of Oregon',\n  '',\n  '103.0',\n  'OTHER',\n  'INTERVENTIONAL',\n  'Allocation: RANDOMIZED|Intervention Model: PARALLEL|Masking: SINGLE (PARTICIPANT)|Primary Purpose: PREVENTION',\n  '2014-09',\n  '2016-05\",,,,,,,,,,,,,,,,,,,,,,,,,,,,,,,,,,,,,,,,,,,,,,,,,,,,,,,,,,,,,,,,,,,,,,,,,,,,,,,,,,,,,,,,,,,,,,,,,,,,,,,,,,,,,,,,,,,,,,,,,,,,,,,,,,,,,,,,,,,,,,,,,,,,,,,,,,,,,,,,,,,,,,,,,,,,,,,,,,,,,,,,,,,,,,,,,,,,,,,,,,,,,,,,,,'],\n ['\"NCT01055171',\n  'Neuromodulation of Trauma Memories in PTSD & Alcohol Dependence',\n  '',\n  'COMPLETED',\n  'Alcohol Dependence|PTSD',\n  'DRUG: Propranolol|DRUG: Placebo',\n  'Medical University of South Carolina',\n  'National Institute on Alcohol Abuse and Alcoholism (NIAAA)',\n  '44.0',\n  'OTHER',\n  'INTERVENTIONAL',\n  'Allocation: RANDOMIZED|Intervention Model: PARALLEL|Masking: QUADRUPLE (PARTICIPANT\", CARE_PROVIDER, INVESTIGATOR,\" OUTCOMES_ASSESSOR)|Primary Purpose: TREATMENT',\n  '2010-01',\n  '2012-08\",,,,,,,,,,,,,,,,,,,,,,,,,,,,,,,,,,,,,,,,,,,,,,,,,,,,,,,,,,,,,,,,,,,,,,,,,,,,,,,,,,,,,,,,,,,,,,,,,,,,,,,,,,,,,,,,,,,,,,,,,,,,,,,,,,,,,,,,,,,,,,,,,,,,,,,,,,,,,,,,,,,,,,,,,,,,,,,,,,,,,,,,,,,,,,,,,,,,,,,,,,,,,,,'],\n ['\"NCT01125371',\n  'Computerized Brief Alcohol Intervention (BI) for Binge Drinking HIV At-Risk and Infected Women',\n  '',\n  'COMPLETED',\n  'Alcohol; Harmful Use|Binge Drinking|Risk Behavior|HIV Infection',\n  'BEHAVIORAL: Computerized brief alcohol intervention + IVR booster calls|BEHAVIORAL: Computerized brief alcohol intervention|BEHAVIORAL: Attention Control',\n  'Johns Hopkins University',\n  'National Institute on Alcohol Abuse and Alcoholism (NIAAA)',\n  '439.0',\n  'OTHER',\n  'INTERVENTIONAL',\n  'Allocation: RANDOMIZED|Intervention Model: PARALLEL|Masking: DOUBLE (INVESTIGATOR\",\" OUTCOMES_ASSESSOR)|Primary Purpose: TREATMENT',\n  '2011-10',\n  '2016-06-07\",,,,,,,,,,,,,,,,,,,,,,,,,,,,,,,,,,,,,,,,,,,,,,,,,,,,,,,,,,,,,,,,,,,,,,,,,,,,,,,,,,,,,,,,,,,,,,,,,,,,,,,,,,,,,,,,,,,,,,,,,,,,,,,,,,,,,,,,,,,,,,,,,,,,,,,,,,,,,,,,,,,,,,,,,,,,,,,,,,,,,,,,,,,,,,,,,,,,,,,,,,,,,,,,,'],\n ['\"NCT02554071',\n  'Manitoba Pharmacist Initiated Smoking Cessation Pilot Project',\n  '',\n  'COMPLETED',\n  'Smoking Cessation',\n  'OTHER: Pharmacist - Smoking Cessation Support',\n  'University of Manitoba',\n  'Govenment of Manitoba|Canadian Foundation for Pharmacy|Neighbourhood Pharmacy Association of Canada',\n  '119.0',\n  'OTHER',\n  'INTERVENTIONAL',\n  'Allocation: NA|Intervention Model: SINGLE_GROUP|Masking: NONE|Primary Purpose: SUPPORTIVE_CARE',\n  '2014-01',\n  '2014-11\",,,,,,,,,,,,,,,,,,,,,,,,,,,,,,,,,,,,,,,,,,,,,,,,,,,,,,,,,,,,,,,,,,,,,,,,,,,,,,,,,,,,,,,,,,,,,,,,,,,,,,,,,,,,,,,,,,,,,,,,,,,,,,,,,,,,,,,,,,,,,,,,,,,,,,,,,,,,,,,,,,,,,,,,,,,,,,,,,,,,,,,,,,,,,,,,,,,,,,,,,,,,,,,,,,'],\n ['\"NCT01772771',\n  'Molecular Testing for the MD Anderson Cancer Center Personalized Cancer Therapy Program',\n  '',\n  'RECRUITING',\n  'Glioma|Hematopoietic and Lymphoid Cell Neoplasm|Malignant Solid Neoplasm|Melanoma|Sarcoma',\n  'PROCEDURE: Biospecimen Collection|OTHER: Genetic Testing|OTHER: Medical Chart Review',\n  'M.D. Anderson Cancer Center',\n  'National Cancer Institute (NCI)',\n  '12000.0',\n  'OTHER',\n  'OBSERVATIONAL',\n  'Observational Model: |Time Perspective: p',\n  '2012-03-01',\n  '2033-03-01\",,,,,,,,,,,,,,,,,,,,,,,,,,,,,,,,,,,,,,,,,,,,,,,,,,,,,,,,,,,,,,,,,,,,,,,,,,,,,,,,,,,,,,,,,,,,,,,,,,,,,,,,,,,,,,,,,,,,,,,,,,,,,,,,,,,,,,,,,,,,,,,,,,,,,,,,,,,,,,,,,,,,,,,,,,,,,,,,,,,,,,,,,,,,,,,,,,,,,,,,,,,,,,,,,,'],\n ['\"NCT02633371',\n  'A Pilot Study Exploring the Efficacy and Safety of Topical Oxybutynin 3% Gel for Primary Focal Hyperhidrosis in Adolescents and Young Adults',\n  '',\n  'COMPLETED',\n  'Hyperhidrosis',\n  'DRUG: Oxybutynin 3% gel',\n  'University of Colorado\",\" Denver',\n  'Society for Pediatric Dermatology',\n  '10.0',\n  'OTHER',\n  'INTERVENTIONAL',\n  'Allocation: NA|Intervention Model: SINGLE_GROUP|Masking: NONE|Primary Purpose: TREATMENT',\n  '2016-02',\n  '2017-05\",,,,,,,,,,,,,,,,,,,,,,,,,,,,,,,,,,,,,,,,,,,,,,,,,,,,,,,,,,,,,,,,,,,,,,,,,,,,,,,,,,,,,,,,,,,,,,,,,,,,,,,,,,,,,,,,,,,,,,,,,,,,,,,,,,,,,,,,,,,,,,,,,,,,,,,,,,,,,,,,,,,,,,,,,,,,,,,,,,,,,,,,,,,,,,,,,,,,,,,,,,,,,,,,,'],\n ['\"NCT03400371',\n  'Biology of Juvenile Myoclonic Epilepsy',\n  'BIOJUME',\n  'RECRUITING',\n  'Juvenile Myoclonic Epilepsy',\n  'OTHER: Blood draw|OTHER: Existing samples',\n  \"King's College London\",\n  'King\\'s College Hospital NHS Trust|Charles University\",\" Czech Republic|Hopital Universitaire Robert-Debre|Vestre Viken Hospital Trust|The Hospital for Sick Children|Cardiff University|Odense University Hospital',\n  '1000.0',\n  'OTHER',\n  'OBSERVATIONAL',\n  'Observational Model: |Time Perspective: p',\n  '2017-07-13',\n  '2026-06-30\",,,,,,,,,,,,,,,,,,,,,,,,,,,,,,,,,,,,,,,,,,,,,,,,,,,,,,,,,,,,,,,,,,,,,,,,,,,,,,,,,,,,,,,,,,,,,,,,,,,,,,,,,,,,,,,,,,,,,,,,,,,,,,,,,,,,,,,,,,,,,,,,,,,,,,,,,,,,,,,,,,,,,,,,,,,,,,,,,,,,,,,,,,,,,,,,,,,,,,,,,,,,,,,,,'],\n ['\"NCT00120471',\n  'Safety and Blood Levels of Tenofovir Disoproxil Fumarate in HIV Infected Pregnant Women and Their Babies',\n  '',\n  'COMPLETED',\n  'HIV Infections',\n  'DRUG: Tenofovir disoproxil fumarate|DRUG: Tenofovir disoproxil fumarate|DRUG: Tenofovir disoproxil fumarate',\n  'National Institute of Allergy and Infectious Diseases (NIAID)',\n  'Eunice Kennedy Shriver National Institute of Child Health and Human Development (NICHD)|National Institute on Drug Abuse (NIDA)|National Institute of Mental Health (NIMH)',\n  '122.0',\n  'NIH',\n  'INTERVENTIONAL',\n  'Allocation: RANDOMIZED|Intervention Model: PARALLEL|Masking: NONE|Primary Purpose: PREVENTION',\n  '2006-11',\n  '2011-12\",,,,,,,,,,,,,,,,,,,,,,,,,,,,,,,,,,,,,,,,,,,,,,,,,,,,,,,,,,,,,,,,,,,,,,,,,,,,,,,,,,,,,,,,,,,,,,,,,,,,,,,,,,,,,,,,,,,,,,,,,,,,,,,,,,,,,,,,,,,,,,,,,,,,,,,,,,,,,,,,,,,,,,,,,,,,,,,,,,,,,,,,,,,,,,,,,,,,,,,,,,,,,,,,,,'],\n ['\"NCT04784871',\n  'Promoting Wellbeing: The Five Ways to All Intervention',\n  '5WaysA',\n  'COMPLETED',\n  'Wellbeing|Health Attitude|Quality of Life',\n  'BEHAVIORAL: 5waysA Intervention|BEHAVIORAL: 5waysA Active wait-list control|BEHAVIORAL: 5waysA Inactive wait-list control',\n  'University of Oslo',\n  'Norwegian Institute of Public Health|Norwegian Council for Mental Health|The Dam Foundation',\n  '970.0',\n  'OTHER',\n  'INTERVENTIONAL',\n  'Allocation: RANDOMIZED|Intervention Model: PARALLEL|Masking: NONE|Primary Purpose: PREVENTION',\n  '2021-03-04',\n  '2023-02-24\",,,,,,,,,,,,,,,,,,,,,,,,,,,,,,,,,,,,,,,,,,,,,,,,,,,,,,,,,,,,,,,,,,,,,,,,,,,,,,,,,,,,,,,,,,,,,,,,,,,,,,,,,,,,,,,,,,,,,,,,,,,,,,,,,,,,,,,,,,,,,,,,,,,,,,,,,,,,,,,,,,,,,,,,,,,,,,,,,,,,,,,,,,,,,,,,,,,,,,,,,,,,,,,,,,'],\n ['\"NCT02383771',\n  'Reversal of the Anti-platelet Effects of Ticagrelor',\n  'REVERSAL',\n  'COMPLETED',\n  'Coronary Artery Disease',\n  'DRUG: Ticagrelor|DRUG: Aspirin + Ticagrelor|DRUG: Control|DRUG: Aspirin + Ticagrelor',\n  'The First Affiliated Hospital with Nanjing Medical University',\n  'National Natural Science Foundation of China',\n  '64.0',\n  'OTHER',\n  'INTERVENTIONAL',\n  'Allocation: RANDOMIZED|Intervention Model: PARALLEL|Masking: SINGLE (INVESTIGATOR)|Primary Purpose: TREATMENT',\n  '2015-03',\n  '2016-12\",,,,,,,,,,,,,,,,,,,,,,,,,,,,,,,,,,,,,,,,,,,,,,,,,,,,,,,,,,,,,,,,,,,,,,,,,,,,,,,,,,,,,,,,,,,,,,,,,,,,,,,,,,,,,,,,,,,,,,,,,,,,,,,,,,,,,,,,,,,,,,,,,,,,,,,,,,,,,,,,,,,,,,,,,,,,,,,,,,,,,,,,,,,,,,,,,,,,,,,,,,,,,,,,,,'],\n ['\"NCT03269071',\n  'Neural Stem Cell Transplantation in Multiple Sclerosis Patients',\n  'STEMS',\n  'COMPLETED',\n  'Progressive Multiple Sclerosis',\n  'DRUG: human fetal-derived Neural Stem Cells (hNSCs)',\n  'IRCCS San Raffaele',\n  'Fondazione Italiana Sclerosi Multipla',\n  '4.0',\n  'OTHER',\n  'INTERVENTIONAL',\n  'Allocation: NON_RANDOMIZED|Intervention Model: SEQUENTIAL|Masking: NONE|Primary Purpose: TREATMENT',\n  '2017-05-17',\n  '2021-07-31\",,,,,,,,,,,,,,,,,,,,,,,,,,,,,,,,,,,,,,,,,,,,,,,,,,,,,,,,,,,,,,,,,,,,,,,,,,,,,,,,,,,,,,,,,,,,,,,,,,,,,,,,,,,,,,,,,,,,,,,,,,,,,,,,,,,,,,,,,,,,,,,,,,,,,,,,,,,,,,,,,,,,,,,,,,,,,,,,,,,,,,,,,,,,,,,,,,,,,,,,,,,,,,,,,,'],\n ['\"NCT01659671',\n  'RCT of the Effect of Uvulopalatopharyngoplasty Compared to Expectancy in Patients With Obstructive Sleep Apnea',\n  'SKUP3',\n  'COMPLETED',\n  'Obstructive Sleep Apnea Syndrome',\n  'PROCEDURE: Uvulopalatopharyngoplasty',\n  'Karolinska University Hospital',\n  'Karolinska Institutet',\n  '65.0',\n  'OTHER',\n  'INTERVENTIONAL',\n  'Allocation: RANDOMIZED|Intervention Model: PARALLEL|Masking: SINGLE (OUTCOMES_ASSESSOR)|Primary Purpose: TREATMENT',\n  '2007-06',\n  '2014-05\",,,,,,,,,,,,,,,,,,,,,,,,,,,,,,,,,,,,,,,,,,,,,,,,,,,,,,,,,,,,,,,,,,,,,,,,,,,,,,,,,,,,,,,,,,,,,,,,,,,,,,,,,,,,,,,,,,,,,,,,,,,,,,,,,,,,,,,,,,,,,,,,,,,,,,,,,,,,,,,,,,,,,,,,,,,,,,,,,,,,,,,,,,,,,,,,,,,,,,,,,,,,,,,,,,'],\n ['\"NCT04765371',\n  'Comparison Between Prednisolone and Dexamethasone on Mortality in Patients on Oxygen Therapy\",\" With CoViD-19',\n  'COPreDex',\n  'COMPLETED',\n  'Coronavirus Infection',\n  'DRUG: DEXAMETHASONE|DRUG: PREDNISOLONE',\n  'Hôpital NOVO',\n  '',\n  '89.0',\n  'OTHER',\n  'INTERVENTIONAL',\n  'Allocation: RANDOMIZED|Intervention Model: PARALLEL|Masking: NONE|Primary Purpose: TREATMENT',\n  '2021-03-03',\n  '2022-05-13\",,,,,,,,,,,,,,,,,,,,,,,,,,,,,,,,,,,,,,,,,,,,,,,,,,,,,,,,,,,,,,,,,,,,,,,,,,,,,,,,,,,,,,,,,,,,,,,,,,,,,,,,,,,,,,,,,,,,,,,,,,,,,,,,,,,,,,,,,,,,,,,,,,,,,,,,,,,,,,,,,,,,,,,,,,,,,,,,,,,,,,,,,,,,,,,,,,,,,,,,,,,,,,,,,'],\n ['\"NCT02830971',\n  'Developing a Standardized Learning Curve',\n  '',\n  'COMPLETED',\n  'Registered Nurses|Nursing Personnel|Motor Skills',\n  'PROCEDURE: Doing Different ICU techniques and skills',\n  'Baqiyatallah Medical Sciences University',\n  'Shahid Beheshti University|Tehran University of Medical Sciences',\n  '60.0',\n  'OTHER',\n  'INTERVENTIONAL',\n  'Allocation: NA|Intervention Model: SINGLE_GROUP|Masking: NONE|Primary Purpose: BASIC_SCIENCE',\n  '2016-07',\n  '2021-04-12\",,,,,,,,,,,,,,,,,,,,,,,,,,,,,,,,,,,,,,,,,,,,,,,,,,,,,,,,,,,,,,,,,,,,,,,,,,,,,,,,,,,,,,,,,,,,,,,,,,,,,,,,,,,,,,,,,,,,,,,,,,,,,,,,,,,,,,,,,,,,,,,,,,,,,,,,,,,,,,,,,,,,,,,,,,,,,,,,,,,,,,,,,,,,,,,,,,,,,,,,,,,,,,,,,,'],\n ['\"NCT00416871',\n  'Interleukin-2 and Interferon in Treating Patients With Metastatic Kidney Cancer',\n  '',\n  'COMPLETED',\n  'Kidney Cancer',\n  'BIOLOGICAL: aldesleukin|BIOLOGICAL: recombinant interferon alfa',\n  'Centre Leon Berard',\n  '',\n  '220.0',\n  'OTHER',\n  'INTERVENTIONAL',\n  'Allocation: RANDOMIZED|Intervention Model: |Masking: NONE|Primary Purpose: TREATMENT',\n  '',\n  '2006-02\",,,,,,,,,,,,,,,,,,,,,,,,,,,,,,,,,,,,,,,,,,,,,,,,,,,,,,,,,,,,,,,,,,,,,,,,,,,,,,,,,,,,,,,,,,,,,,,,,,,,,,,,,,,,,,,,,,,,,,,,,,,,,,,,,,,,,,,,,,,,,,,,,,,,,,,,,,,,,,,,,,,,,,,,,,,,,,,,,,,,,,,,,,,,,,,,,,,,,,,,,,,,,,,,,,'],\n ['\"NCT05900271',\n  'Dutch-Depression Outcome Trial Comparing 5 Day Multi Daily Neuronavigated Theta Burst Sessions With 6 Weeks rTMS',\n  'DDOT',\n  'ACTIVE_NOT_RECRUITING',\n  'Treatment Resistant Depression',\n  'DEVICE: rTMS|DEVICE: iTBS',\n  'Amsterdam UMC\",\" location VUmc',\n  'Radboud University Medical Center|University Medical Center Groningen|Maastricht University|Trimbos|Academisch Medisch Centrum - Universiteit van Amsterdam (AMC-UvA)',\n  '108.0',\n  'OTHER',\n  'INTERVENTIONAL',\n  'Allocation: RANDOMIZED|Intervention Model: PARALLEL|Masking: SINGLE (OUTCOMES_ASSESSOR)|Primary Purpose: TREATMENT',\n  '2023-11-15',\n  '2027-12\",,,,,,,,,,,,,,,,,,,,,,,,,,,,,,,,,,,,,,,,,,,,,,,,,,,,,,,,,,,,,,,,,,,,,,,,,,,,,,,,,,,,,,,,,,,,,,,,,,,,,,,,,,,,,,,,,,,,,,,,,,,,,,,,,,,,,,,,,,,,,,,,,,,,,,,,,,,,,,,,,,,,,,,,,,,,,,,,,,,,,,,,,,,,,,,,,,,,,,,,,,,,,,,,,'],\n ['\"NCT02469571',\n  'Modulation of Gut Microbiota in Early Sepsis: A Pilot Study',\n  'MGM-sepsis',\n  'COMPLETED',\n  'Sepsis',\n  'DIETARY_SUPPLEMENT: Winclove 607|DIETARY_SUPPLEMENT: Placebo',\n  'Medical University of Graz',\n  '',\n  '15.0',\n  'OTHER',\n  'INTERVENTIONAL',\n  'Allocation: RANDOMIZED|Intervention Model: PARALLEL|Masking: QUADRUPLE (PARTICIPANT\", CARE_PROVIDER, INVESTIGATOR,\" OUTCOMES_ASSESSOR)|Primary Purpose: PREVENTION',\n  '2015-09-01',\n  '2018-03-01\",,,,,,,,,,,,,,,,,,,,,,,,,,,,,,,,,,,,,,,,,,,,,,,,,,,,,,,,,,,,,,,,,,,,,,,,,,,,,,,,,,,,,,,,,,,,,,,,,,,,,,,,,,,,,,,,,,,,,,,,,,,,,,,,,,,,,,,,,,,,,,,,,,,,,,,,,,,,,,,,,,,,,,,,,,,,,,,,,,,,,,,,,,,,,,,,,,,,,,,,,,,,,,,'],\n ['\"NCT05807971',\n  'Assessment of Safety\", Tolerability, Pharmacokinetics,\" and Pharmacodynamics of ATH-063 in Healthy Subjects',\n  '',\n  'RECRUITING',\n  'Inflammatory Bowel Diseases|Crohn Disease|Ulcerative Colitis|Autoimmune Diseases',\n  'DRUG: ATH-063|DRUG: Placebo',\n  'Athos Therapeutics Inc',\n  'Syneos Health|Athos Therapeutics Australia Pty Ltd',\n  '76.0',\n  'INDUSTRY',\n  'INTERVENTIONAL',\n  'Allocation: RANDOMIZED|Intervention Model: SEQUENTIAL|Masking: QUADRUPLE (PARTICIPANT\", CARE_PROVIDER, INVESTIGATOR,\" OUTCOMES_ASSESSOR)|Primary Purpose: TREATMENT',\n  '2023-04-06',\n  '2024-02-08\",,,,,,,,,,,,,,,,,,,,,,,,,,,,,,,,,,,,,,,,,,,,,,,,,,,,,,,,,,,,,,,,,,,,,,,,,,,,,,,,,,,,,,,,,,,,,,,,,,,,,,,,,,,,,,,,,,,,,,,,,,,,,,,,,,,,,,,,,,,,,,,,,,,,,,,,,,,,,,,,,,,,,,,,,,,,,,,,,,,,,,,,,,,,,,,,,,,,,,,,,,,,'],\n ['\"NCT02083471',\n  \"Cow's Milk and Hen's Egg Hyposensitization in Adults\",\n  '',\n  'UNKNOWN',\n  \"Egg Allergy|Cow's Milk Allergy\",\n  \"DIETARY_SUPPLEMENT: Specific Oral Tolerance Induction with Egg or Cow's milk\",\n  'Turku University Hospital',\n  '',\n  '40.0',\n  'OTHER_GOV',\n  'INTERVENTIONAL',\n  'Allocation: RANDOMIZED|Intervention Model: PARALLEL|Masking: NONE|Primary Purpose: TREATMENT',\n  '2015-04',\n  '2017-05\",,,,,,,,,,,,,,,,,,,,,,,,,,,,,,,,,,,,,,,,,,,,,,,,,,,,,,,,,,,,,,,,,,,,,,,,,,,,,,,,,,,,,,,,,,,,,,,,,,,,,,,,,,,,,,,,,,,,,,,,,,,,,,,,,,,,,,,,,,,,,,,,,,,,,,,,,,,,,,,,,,,,,,,,,,,,,,,,,,,,,,,,,,,,,,,,,,,,,,,,,,,,,,,,,,'],\n ['\"NCT01062971',\n  'Clinical Study of A Fixed Combination of Timolol-Brimonidine-Dorzolamide',\n  '',\n  'COMPLETED',\n  'Primary Open Angle Glaucoma|Ocular Hypertension',\n  'DRUG: dorzolamide-timolol-brimonidine',\n  'Laboratorios Sophia S.A de C.V.',\n  '',\n  '124.0',\n  'INDUSTRY',\n  'INTERVENTIONAL',\n  'Allocation: RANDOMIZED|Intervention Model: PARALLEL|Masking: DOUBLE (PARTICIPANT\",\" INVESTIGATOR)|Primary Purpose: TREATMENT',\n  '2006-02',\n  '2008-06\",,,,,,,,,,,,,,,,,,,,,,,,,,,,,,,,,,,,,,,,,,,,,,,,,,,,,,,,,,,,,,,,,,,,,,,,,,,,,,,,,,,,,,,,,,,,,,,,,,,,,,,,,,,,,,,,,,,,,,,,,,,,,,,,,,,,,,,,,,,,,,,,,,,,,,,,,,,,,,,,,,,,,,,,,,,,,,,,,,,,,,,,,,,,,,,,,,,,,,,,,,,,,,,,,'],\n ['\"NCT03928171',\n  'The Effect of Intra-abdominal Pressure on Peritoneal Perfusion During Laparoscopic Colorectal Surgery',\n  'PERFUSION',\n  'COMPLETED',\n  'Laparoscopic Surgery|Pneumoperitoneum',\n  'OTHER: Intra-abdominal pressure during laparoscopy',\n  'Radboud University Medical Center',\n  '',\n  '30.0',\n  'OTHER',\n  'INTERVENTIONAL',\n  'Allocation: RANDOMIZED|Intervention Model: PARALLEL|Masking: TRIPLE (PARTICIPANT\", CARE_PROVIDER,\" OUTCOMES_ASSESSOR)|Primary Purpose: TREATMENT',\n  '2018-06-13',\n  '2018-12-24\",,,,,,,,,,,,,,,,,,,,,,,,,,,,,,,,,,,,,,,,,,,,,,,,,,,,,,,,,,,,,,,,,,,,,,,,,,,,,,,,,,,,,,,,,,,,,,,,,,,,,,,,,,,,,,,,,,,,,,,,,,,,,,,,,,,,,,,,,,,,,,,,,,,,,,,,,,,,,,,,,,,,,,,,,,,,,,,,,,,,,,,,,,,,,,,,,,,,,,,,,,,,,,,,'],\n ['\"NCT00897871',\n  'Evaluating the Side Effects and How Well Anticancer Drugs Work in Very Young Patients With Cancer',\n  '',\n  'UNKNOWN',\n  'Unspecified Childhood Solid Tumor\",\" Protocol Specific',\n  'DRUG: carboplatin|DRUG: cyclophosphamide|DRUG: etoposide phosphate|GENETIC: gene expression analysis|GENETIC: polymorphism analysis|OTHER: pharmacological study',\n  \"Children's Cancer and Leukaemia Group\",\n  '',\n  '60.0',\n  'OTHER',\n  'OBSERVATIONAL',\n  'Observational Model: |Time Perspective: p',\n  '2007-02',\n  '\",,,,,,,,,,,,,,,,,,,,,,,,,,,,,,,,,,,,,,,,,,,,,,,,,,,,,,,,,,,,,,,,,,,,,,,,,,,,,,,,,,,,,,,,,,,,,,,,,,,,,,,,,,,,,,,,,,,,,,,,,,,,,,,,,,,,,,,,,,,,,,,,,,,,,,,,,,,,,,,,,,,,,,,,,,,,,,,,,,,,,,,,,,,,,,,,,,,,,,,,,,,,,,,,,'],\n ['\"NCT00848471',\n  'Validation of the Quark RMR Calorimeter (Cosmed) Versus Deltatrac II (GE Health Care Clinical Systems)',\n  'Protocol Quark',\n  'UNKNOWN',\n  'Healthy|Obesity',\n  'DEVICE: Quark RMR|DEVICE: Deltatrac II',\n  'Hospices Civils de Lyon',\n  'Centre de Recherche en Nutrition Humaine Rhone-Alpe',\n  '30.0',\n  'OTHER',\n  'INTERVENTIONAL',\n  'Allocation: RANDOMIZED|Intervention Model: CROSSOVER|Masking: NONE|Primary Purpose: HEALTH_SERVICES_RESEARCH',\n  '2009-01',\n  '2009-12\",,,,,,,,,,,,,,,,,,,,,,,,,,,,,,,,,,,,,,,,,,,,,,,,,,,,,,,,,,,,,,,,,,,,,,,,,,,,,,,,,,,,,,,,,,,,,,,,,,,,,,,,,,,,,,,,,,,,,,,,,,,,,,,,,,,,,,,,,,,,,,,,,,,,,,,,,,,,,,,,,,,,,,,,,,,,,,,,,,,,,,,,,,,,,,,,,,,,,,,,,,,,,,,,,,'],\n ['\"NCT06135571',\n  'Study on the No.253 Lymph Node Metastasis Patterns in Left-Sided Colon and Rectal Cancer',\n  '',\n  'RECRUITING',\n  'Colorectal Cancer|Lymph Node Metastasis',\n  'PROCEDURE: Laparoscopic colorectal surgery',\n  'Cancer Institute and Hospital\",\" Chinese Academy of Medical Sciences',\n  'Peking Union Medical College Hospital|Peking University Cancer Hospital & Institute|China-Japan Friendship Hospital|Chinese PLA General Hospital',\n  '3000.0',\n  'OTHER',\n  'OBSERVATIONAL',\n  'Observational Model: |Time Perspective: p',\n  '2023-09-01',\n  '2026-09-01\",,,,,,,,,,,,,,,,,,,,,,,,,,,,,,,,,,,,,,,,,,,,,,,,,,,,,,,,,,,,,,,,,,,,,,,,,,,,,,,,,,,,,,,,,,,,,,,,,,,,,,,,,,,,,,,,,,,,,,,,,,,,,,,,,,,,,,,,,,,,,,,,,,,,,,,,,,,,,,,,,,,,,,,,,,,,,,,,,,,,,,,,,,,,,,,,,,,,,,,,,,,,,,,,,'],\n ['\"NCT01189071',\n  'Preoperative Use of Darifenacin (Enablex) to Alleviate Postoperative Ureteral Stent Pain',\n  '',\n  'TERMINATED',\n  'Overactive Bladder|Renal Colic|Pain\",\" Postoperative',\n  'DRUG: Darifenacin',\n  'University of Missouri-Columbia',\n  '',\n  '3.0',\n  'OTHER',\n  'INTERVENTIONAL',\n  'Allocation: RANDOMIZED|Intervention Model: PARALLEL|Masking: DOUBLE (PARTICIPANT\",\" INVESTIGATOR)|Primary Purpose: TREATMENT',\n  '2009-08',\n  '2011-07\",,,,,,,,,,,,,,,,,,,,,,,,,,,,,,,,,,,,,,,,,,,,,,,,,,,,,,,,,,,,,,,,,,,,,,,,,,,,,,,,,,,,,,,,,,,,,,,,,,,,,,,,,,,,,,,,,,,,,,,,,,,,,,,,,,,,,,,,,,,,,,,,,,,,,,,,,,,,,,,,,,,,,,,,,,,,,,,,,,,,,,,,,,,,,,,,,,,,,,,,,,,,,,,,'],\n ['\"NCT00728871',\n  'The Correlations Between HPV L1-Specific Immunologic Responses in Cervical Cancer and Cervical Intraepithelial Neoplasia (CIN) Patients and Their Prognosis',\n  '',\n  'UNKNOWN',\n  'Cervical Cancer|Cervical Intraepithelial Neoplasia',\n  'PROCEDURE: peripheral blood isolation',\n  'National Taiwan University Hospital',\n  '',\n  '600.0',\n  'OTHER',\n  'INTERVENTIONAL',\n  'Allocation: NA|Intervention Model: SINGLE_GROUP|Masking: NONE|Primary Purpose: BASIC_SCIENCE',\n  '2005-12',\n  '2011-12\",,,,,,,,,,,,,,,,,,,,,,,,,,,,,,,,,,,,,,,,,,,,,,,,,,,,,,,,,,,,,,,,,,,,,,,,,,,,,,,,,,,,,,,,,,,,,,,,,,,,,,,,,,,,,,,,,,,,,,,,,,,,,,,,,,,,,,,,,,,,,,,,,,,,,,,,,,,,,,,,,,,,,,,,,,,,,,,,,,,,,,,,,,,,,,,,,,,,,,,,,,,,,,,,,,'],\n ['\"NCT05592171',\n  'Occlusafe® Assisted MW Alone or With DEB-TACE Compared to MW With DEB-TACE in the Treatment of HCC',\n  'SEASON-HCC',\n  'RECRUITING',\n  'HCC',\n  'PROCEDURE: Microwave ablation + Occlusafe + DEB-TACE|PROCEDURE: Microwave ablation + Occlusafe|PROCEDURE: Microwave ablation + DEB-TACE',\n  'University of Pisa',\n  'Azienda Ospedaliera Città della Salute e della Scienza di Torino|Fondazione Policlinico Universitario Agostino Gemelli IRCCS|Azienda Ospedaliera Universitaria Policlinico|IRCCS Azienda Ospedaliero-Universitaria di Bologna|Terumo Europe N.V.|Azienda Ospedaliero\",\" Universitaria Pisana',\n  '60.0',\n  'OTHER',\n  'INTERVENTIONAL',\n  'Allocation: RANDOMIZED|Intervention Model: PARALLEL|Masking: NONE|Primary Purpose: TREATMENT',\n  '2022-10-17',\n  '2025-10-17\",,,,,,,,,,,,,,,,,,,,,,,,,,,,,,,,,,,,,,,,,,,,,,,,,,,,,,,,,,,,,,,,,,,,,,,,,,,,,,,,,,,,,,,,,,,,,,,,,,,,,,,,,,,,,,,,,,,,,,,,,,,,,,,,,,,,,,,,,,,,,,,,,,,,,,,,,,,,,,,,,,,,,,,,,,,,,,,,,,,,,,,,,,,,,,,,,,,,,,,,,,,,,,,,,'],\n ['\"NCT00520871',\n  'The Water-Blueberry Study',\n  '',\n  'COMPLETED',\n  'Cardiovascular Disease',\n  'DRUG: Blueberry juice',\n  'University of Oslo',\n  'Ullevaal University Hospital',\n  '62.0',\n  'OTHER',\n  'INTERVENTIONAL',\n  'Allocation: RANDOMIZED|Intervention Model: PARALLEL|Masking: SINGLE|Primary Purpose: PREVENTION',\n  '2003-03',\n  '2004-04\",,,,,,,,,,,,,,,,,,,,,,,,,,,,,,,,,,,,,,,,,,,,,,,,,,,,,,,,,,,,,,,,,,,,,,,,,,,,,,,,,,,,,,,,,,,,,,,,,,,,,,,,,,,,,,,,,,,,,,,,,,,,,,,,,,,,,,,,,,,,,,,,,,,,,,,,,,,,,,,,,,,,,,,,,,,,,,,,,,,,,,,,,,,,,,,,,,,,,,,,,,,,,,,,,,'],\n ['\"NCT05913271',\n  'Study on the Correlation Between NAT2(N-acetyltransferase2) Gene Polymorphism and CrCl(Creatine Clreance) and the Efficacy and Safety of Levosimendan in Patients With Severe Heart Failure',\n  '',\n  'RECRUITING',\n  'Heart Failure|Levosimendan|Efficacy|Safety',\n  '',\n  'Yi Han',\n  'Qianfoshan Hospital',\n  '352.0',\n  'OTHER',\n  'OBSERVATIONAL',\n  'Observational Model: |Time Perspective: p',\n  '2023-05-30',\n  '2025-05-30\",,,,,,,,,,,,,,,,,,,,,,,,,,,,,,,,,,,,,,,,,,,,,,,,,,,,,,,,,,,,,,,,,,,,,,,,,,,,,,,,,,,,,,,,,,,,,,,,,,,,,,,,,,,,,,,,,,,,,,,,,,,,,,,,,,,,,,,,,,,,,,,,,,,,,,,,,,,,,,,,,,,,,,,,,,,,,,,,,,,,,,,,,,,,,,,,,,,,,,,,,,,,,,,,,,'],\n ['\"NCT04006171',\n  'Comparison of Serum C Type Natriuretic Peptide Levels Between Polycys\n\n*** WARNING: max output size exceeded, skipping output. ***\n\n,,,,,,,,,,,,,,,,,,,,,,,,,,,,,,,,,,,,,,,,,,,,,,,,,,,,,,,,,,,,,,,,,,,,,,,,,,,,,,,,,,,,,,,,,,,,,,,,,,,,,,,,,,,,,,,,,,,,,,,,,,,,,,,,,,,,,,,,,,,,,'],\n ['\"NCT01082471',\n  'An Efficacy and Safety Study to Compare Morphine 6-glucuronide (M6G) and Morphine in Patients Suffering With Post-Operative Pain for at Least 24 Hours',\n  '',\n  'COMPLETED',\n  'Postoperative Pain',\n  'DRUG: Morphine 6-glucuronide|DRUG: Morphine',\n  'Paion UK Ltd.',\n  'Chiltern International Ltd.|HFL Ltd.',\n  '517.0',\n  'INDUSTRY',\n  'INTERVENTIONAL',\n  'Allocation: RANDOMIZED|Intervention Model: PARALLEL|Masking: QUADRUPLE (PARTICIPANT\", CARE_PROVIDER, INVESTIGATOR,\" OUTCOMES_ASSESSOR)|Primary Purpose: TREATMENT',\n  '2005-11',\n  '2006-12\",,,,,,,,,,,,,,,,,,,,,,,,,,,,,,,,,,,,,,,,,,,,,,,,,,,,,,,,,,,,,,,,,,,,,,,,,,,,,,,,,,,,,,,,,,,,,,,,,,,,,,,,,,,,,,,,,,,,,,,,,,,,,,,,,,,,,,,,,,,,,,,,,,,,,,,,,,,,,,,,,,,,,,,,,,,,,,,,,,,,,,,,,,,,,,,,,,,,,,,,,,,,,,,'],\n ['\"NCT04913571',\n  'Tislelizumab in Combination With Eribulin for Patients With Metastatic Previously heaviLy-treAted TriplE-negative Breast Cancer：A Prospective Multiple-center Phase II Study',\n  'TEMPLATE',\n  'UNKNOWN',\n  'Triple Negative Breast Cancer',\n  'DRUG: Eribulin|DRUG: Tislelizumab',\n  'Fudan University',\n  '',\n  '265.0',\n  'OTHER',\n  'INTERVENTIONAL',\n  'Allocation: NON_RANDOMIZED|Intervention Model: PARALLEL|Masking: NONE|Primary Purpose: TREATMENT',\n  '2021-05-27',\n  '2023-06-01\",,,,,,,,,,,,,,,,,,,,,,,,,,,,,,,,,,,,,,,,,,,,,,,,,,,,,,,,,,,,,,,,,,,,,,,,,,,,,,,,,,,,,,,,,,,,,,,,,,,,,,,,,,,,,,,,,,,,,,,,,,,,,,,,,,,,,,,,,,,,,,,,,,,,,,,,,,,,,,,,,,,,,,,,,,,,,,,,,,,,,,,,,,,,,,,,,,,,,,,,,,,,,,,,,,'],\n ['\"NCT03025971',\n  'Safety & Efficacy of the J-Valve Ausper System in Patients With Severe Aortic Stenosis and/or Aortic Regurgitation',\n  '',\n  'COMPLETED',\n  'Aortic Valve Disease',\n  'DEVICE: J-Valve Transcatheter Aortic valve replacement',\n  'JC Medical\",\" Inc.',\n  '',\n  '107.0',\n  'INDUSTRY',\n  'INTERVENTIONAL',\n  'Allocation: NA|Intervention Model: SINGLE_GROUP|Masking: NONE|Primary Purpose: TREATMENT',\n  '2014-03',\n  '2020-04\",,,,,,,,,,,,,,,,,,,,,,,,,,,,,,,,,,,,,,,,,,,,,,,,,,,,,,,,,,,,,,,,,,,,,,,,,,,,,,,,,,,,,,,,,,,,,,,,,,,,,,,,,,,,,,,,,,,,,,,,,,,,,,,,,,,,,,,,,,,,,,,,,,,,,,,,,,,,,,,,,,,,,,,,,,,,,,,,,,,,,,,,,,,,,,,,,,,,,,,,,,,,,,,,,'],\n ['\"NCT00799071',\n  'Pharmacokinetics of Posaconazole in Children With Chronic Granulomatous Disease (CGD)',\n  'iPOD',\n  'COMPLETED',\n  'Chronic Granulomatous Disease',\n  'DRUG: posaconazole (PSZ)',\n  'Radboud University Medical Center',\n  '',\n  '12.0',\n  'OTHER',\n  'INTERVENTIONAL',\n  'Allocation: NA|Intervention Model: SINGLE_GROUP|Masking: NONE|Primary Purpose: PREVENTION',\n  '2009-02',\n  '2010-08\",,,,,,,,,,,,,,,,,,,,,,,,,,,,,,,,,,,,,,,,,,,,,,,,,,,,,,,,,,,,,,,,,,,,,,,,,,,,,,,,,,,,,,,,,,,,,,,,,,,,,,,,,,,,,,,,,,,,,,,,,,,,,,,,,,,,,,,,,,,,,,,,,,,,,,,,,,,,,,,,,,,,,,,,,,,,,,,,,,,,,,,,,,,,,,,,,,,,,,,,,,,,,,,,,,'],\n ['\"NCT00584571',\n  'SAT vs Escitalopram for Rectal Hypersensitivity',\n  '',\n  'COMPLETED',\n  'Rectal Hypersensitivity|Irritable Bowel Syndrome-Constipation',\n  'PROCEDURE: Sensory Adaptation Training|DRUG: Escitalopram Therapy',\n  'Augusta University',\n  'National Institute of Diabetes and Digestive and Kidney Diseases (NIDDK)',\n  '55.0',\n  'OTHER',\n  'INTERVENTIONAL',\n  'Allocation: RANDOMIZED|Intervention Model: PARALLEL|Masking: TRIPLE (PARTICIPANT\", INVESTIGATOR,\" OUTCOMES_ASSESSOR)|Primary Purpose: TREATMENT',\n  '2007-12',\n  '2019-12-31\",,,,,,,,,,,,,,,,,,,,,,,,,,,,,,,,,,,,,,,,,,,,,,,,,,,,,,,,,,,,,,,,,,,,,,,,,,,,,,,,,,,,,,,,,,,,,,,,,,,,,,,,,,,,,,,,,,,,,,,,,,,,,,,,,,,,,,,,,,,,,,,,,,,,,,,,,,,,,,,,,,,,,,,,,,,,,,,,,,,,,,,,,,,,,,,,,,,,,,,,,,,,,,,,'],\n ['\"NCT00390871',\n  'Acute Neurological ICU Sedation Trial (ANIST)',\n  'ANIST',\n  'COMPLETED',\n  'Sedation',\n  'DRUG: Fentanyl/Dexmedetomidine|DRUG: Fentanyl/Propofol|DRUG: Fentanyl',\n  'Johns Hopkins University',\n  '',\n  '35.0',\n  'OTHER',\n  'INTERVENTIONAL',\n  'Allocation: RANDOMIZED|Intervention Model: CROSSOVER|Masking: QUADRUPLE (PARTICIPANT\", CARE_PROVIDER, INVESTIGATOR,\" OUTCOMES_ASSESSOR)|Primary Purpose: TREATMENT',\n  '2005-05',\n  '2007-12\",,,,,,,,,,,,,,,,,,,,,,,,,,,,,,,,,,,,,,,,,,,,,,,,,,,,,,,,,,,,,,,,,,,,,,,,,,,,,,,,,,,,,,,,,,,,,,,,,,,,,,,,,,,,,,,,,,,,,,,,,,,,,,,,,,,,,,,,,,,,,,,,,,,,,,,,,,,,,,,,,,,,,,,,,,,,,,,,,,,,,,,,,,,,,,,,,,,,,,,,,,,,,,,'],\n ['\"NCT04706871',\n  'Transcutaneous Auricular Vagus Nerve Stimulation Treatment on Functional Dyspepsia',\n  '',\n  'COMPLETED',\n  'Functional Dyspepsia',\n  'DEVICE: taVNS|DEVICE: tnVNS',\n  'Beijing Tongren Hospital',\n  '',\n  '90.0',\n  'OTHER',\n  'INTERVENTIONAL',\n  'Allocation: RANDOMIZED|Intervention Model: PARALLEL|Masking: DOUBLE (PARTICIPANT\",\" OUTCOMES_ASSESSOR)|Primary Purpose: TREATMENT',\n  '2018-07-01',\n  '2020-01-01\",,,,,,,,,,,,,,,,,,,,,,,,,,,,,,,,,,,,,,,,,,,,,,,,,,,,,,,,,,,,,,,,,,,,,,,,,,,,,,,,,,,,,,,,,,,,,,,,,,,,,,,,,,,,,,,,,,,,,,,,,,,,,,,,,,,,,,,,,,,,,,,,,,,,,,,,,,,,,,,,,,,,,,,,,,,,,,,,,,,,,,,,,,,,,,,,,,,,,,,,,,,,,,,,,'],\n ['\"NCT05200871',\n  'Humanistic Burden of (FSGS) Focal Segmental Glomerulosclerosis and IgAN (Immunoglobulin A Nephropathy)',\n  'HONUS',\n  'COMPLETED',\n  'Focal Segmental Glomerulosclerosis|Immunoglobulin A Nephropathy',\n  '',\n  'Travere Therapeutics\",\" Inc.',\n  '',\n  '290.0',\n  'INDUSTRY',\n  'OBSERVATIONAL',\n  'Observational Model: |Time Perspective: p',\n  '2022-02-05',\n  '2023-10-31\",,,,,,,,,,,,,,,,,,,,,,,,,,,,,,,,,,,,,,,,,,,,,,,,,,,,,,,,,,,,,,,,,,,,,,,,,,,,,,,,,,,,,,,,,,,,,,,,,,,,,,,,,,,,,,,,,,,,,,,,,,,,,,,,,,,,,,,,,,,,,,,,,,,,,,,,,,,,,,,,,,,,,,,,,,,,,,,,,,,,,,,,,,,,,,,,,,,,,,,,,,,,,,,,,'],\n ['\"NCT04160871',\n  '\"\"\"\"\"\"Family Connections\"\"\"\": a Program for Relatives of People With Borderline Personality Disorder\"\"',\n  '',\n  'UNKNOWN',\n  'Relatives',\n  'BEHAVIORAL: Family Connections|BEHAVIORAL: Treatment As Usual',\n  'Universitat Jaume I',\n  'University of Valencia',\n  '124.0',\n  'OTHER',\n  'INTERVENTIONAL',\n  'Allocation: RANDOMIZED|Intervention Model: PARALLEL|Masking: DOUBLE (PARTICIPANT\",\" INVESTIGATOR)|Primary Purpose: TREATMENT',\n  '2019-11-15',\n  '2020-09\",,,,,,,,,,,,,,,,,,,,,,,,,,,,,,,,,,,,,,,,,,,,,,,,,,,,,,,,,,,,,,,,,,,,,,,,,,,,,,,,,,,,,,,,,,,,,,,,,,,,,,,,,,,,,,,,,,,,,,,,,,,,,,,,,,,,,,,,,,,,,,,,,,,,,,,,,,,,,,,,,,,,,,,,,,,,,,,,,,,,,,,,,,,,,,,,,,,,,,,,,,,,,,,,,'],\n ['\"NCT01924871',\n  'Comparison of Deep Extubation During Emergence Using Desflurane or Desflurane With Remifentanil in Patients Undergoing General Anesthesia',\n  '',\n  'COMPLETED',\n  'Deep Extubation',\n  'DRUG: Desflurane with remifentanil|DRUG: Desflurane',\n  'Chung-Ang University Hosptial\",\" Chung-Ang University College of Medicine',\n  '',\n  '62.0',\n  'OTHER',\n  'INTERVENTIONAL',\n  'Allocation: RANDOMIZED|Intervention Model: PARALLEL|Masking: TRIPLE (PARTICIPANT\", INVESTIGATOR,\" OUTCOMES_ASSESSOR)|Primary Purpose: TREATMENT',\n  '2013-07',\n  '2014-03\",,,,,,,,,,,,,,,,,,,,,,,,,,,,,,,,,,,,,,,,,,,,,,,,,,,,,,,,,,,,,,,,,,,,,,,,,,,,,,,,,,,,,,,,,,,,,,,,,,,,,,,,,,,,,,,,,,,,,,,,,,,,,,,,,,,,,,,,,,,,,,,,,,,,,,,,,,,,,,,,,,,,,,,,,,,,,,,,,,,,,,,,,,,,,,,,,,,,,,,,,,,,,,,'],\n ['\"NCT04532671',\n  'Evaluation of Clinical Performance of 3D Printed Polyether Ether Ketone (PEEK) Inlays',\n  '',\n  'UNKNOWN',\n  'Occlusal Caries',\n  'OTHER: Poly ether ether ketone (PEEK)|OTHER: CADCAM Poly ether ether ketone (PEEK)|OTHER: indirect resin composite',\n  'Cairo University',\n  '',\n  '20.0',\n  'OTHER',\n  'INTERVENTIONAL',\n  'Allocation: RANDOMIZED|Intervention Model: PARALLEL|Masking: DOUBLE (PARTICIPANT\",\" OUTCOMES_ASSESSOR)|Primary Purpose: TREATMENT',\n  '2020-10-01',\n  '2022-10-01\",,,,,,,,,,,,,,,,,,,,,,,,,,,,,,,,,,,,,,,,,,,,,,,,,,,,,,,,,,,,,,,,,,,,,,,,,,,,,,,,,,,,,,,,,,,,,,,,,,,,,,,,,,,,,,,,,,,,,,,,,,,,,,,,,,,,,,,,,,,,,,,,,,,,,,,,,,,,,,,,,,,,,,,,,,,,,,,,,,,,,,,,,,,,,,,,,,,,,,,,,,,,,,,,,'],\n ['\"NCT01424371',\n  'Adjuvanted Influenza Vaccine Effectiveness in the Elderly (65+Yrs)',\n  '',\n  'UNKNOWN',\n  'Influenza',\n  '',\n  'Fraser Health',\n  'Novartis Pharmaceuticals',\n  '1000.0',\n  'OTHER',\n  'OBSERVATIONAL',\n  'Observational Model: |Time Perspective: p',\n  '2011-11',\n  '2013-06\",,,,,,,,,,,,,,,,,,,,,,,,,,,,,,,,,,,,,,,,,,,,,,,,,,,,,,,,,,,,,,,,,,,,,,,,,,,,,,,,,,,,,,,,,,,,,,,,,,,,,,,,,,,,,,,,,,,,,,,,,,,,,,,,,,,,,,,,,,,,,,,,,,,,,,,,,,,,,,,,,,,,,,,,,,,,,,,,,,,,,,,,,,,,,,,,,,,,,,,,,,,,,,,,,,'],\n ['\"NCT02829671',\n  'Loneliness and Occurrence of Suicide Attempts and Suicidal Ideas',\n  'SOLSTIS',\n  'COMPLETED',\n  'Major Depressive Disorders',\n  'OTHER: Clinical and biological assessment',\n  'University Hospital\",\" Montpellier',\n  '',\n  '600.0',\n  'OTHER',\n  'INTERVENTIONAL',\n  'Allocation: NA|Intervention Model: SINGLE_GROUP|Masking: NONE|Primary Purpose: OTHER',\n  '2016-10-11',\n  '2020-06-24\",,,,,,,,,,,,,,,,,,,,,,,,,,,,,,,,,,,,,,,,,,,,,,,,,,,,,,,,,,,,,,,,,,,,,,,,,,,,,,,,,,,,,,,,,,,,,,,,,,,,,,,,,,,,,,,,,,,,,,,,,,,,,,,,,,,,,,,,,,,,,,,,,,,,,,,,,,,,,,,,,,,,,,,,,,,,,,,,,,,,,,,,,,,,,,,,,,,,,,,,,,,,,,,,,'],\n ['\"NCT01824771',\n  'Effects of Continuous Veno-venous Haemofiltration on Plasma Lactate in Critically Ill Patients',\n  '',\n  'COMPLETED',\n  'Kidney Injury\",\" Acute',\n  'OTHER: Plasma lactate were measured',\n  'First Affiliated Hospital\",\" Sun Yat-Sen University',\n  '',\n  '15.0',\n  'OTHER',\n  'OBSERVATIONAL',\n  'Observational Model: |Time Perspective: p',\n  '2013-03-03',\n  '2015-03-20\",,,,,,,,,,,,,,,,,,,,,,,,,,,,,,,,,,,,,,,,,,,,,,,,,,,,,,,,,,,,,,,,,,,,,,,,,,,,,,,,,,,,,,,,,,,,,,,,,,,,,,,,,,,,,,,,,,,,,,,,,,,,,,,,,,,,,,,,,,,,,,,,,,,,,,,,,,,,,,,,,,,,,,,,,,,,,,,,,,,,,,,,,,,,,,,,,,,,,,,,,,,,,,,,'],\n ['\"NCT06035471',\n  'Can we Use a Simple Blood Test to Reduce Unnecessary Adverse Effects From Radiotherapy by Timely Identification of Radiotherapy-resistant Rectal Cancers? MeD-Seq Rectal Study',\n  '',\n  'NOT_YET_RECRUITING',\n  'Pathological Response Rate\",\" Circulating Tumour DNA',\n  'DIAGNOSTIC_TEST: MeD-seq',\n  'Erasmus Medical Center',\n  '',\n  '75.0',\n  'OTHER',\n  'OBSERVATIONAL',\n  'Observational Model: |Time Perspective: p',\n  '2023-10-01',\n  '2027-06-01\",,,,,,,,,,,,,,,,,,,,,,,,,,,,,,,,,,,,,,,,,,,,,,,,,,,,,,,,,,,,,,,,,,,,,,,,,,,,,,,,,,,,,,,,,,,,,,,,,,,,,,,,,,,,,,,,,,,,,,,,,,,,,,,,,,,,,,,,,,,,,,,,,,,,,,,,,,,,,,,,,,,,,,,,,,,,,,,,,,,,,,,,,,,,,,,,,,,,,,,,,,,,,,,,,'],\n ['\"NCT02317471',\n  'Immunotherapy of Gastric Cancer With Autologous Tumor Derived Heat Shock Protein gp96',\n  '',\n  'UNKNOWN',\n  'Gastric Carcinoma',\n  'BIOLOGICAL: autologous gp96 vaccination|DRUG: Oxaliplatin+S-1',\n  'Chinese PLA General Hospital',\n  'Cure&Sure Biotech Co.\",\" LTD',\n  '45.0',\n  'OTHER',\n  'INTERVENTIONAL',\n  'Allocation: NON_RANDOMIZED|Intervention Model: PARALLEL|Masking: NONE|Primary Purpose: TREATMENT',\n  '2014-11',\n  '2017-12\",,,,,,,,,,,,,,,,,,,,,,,,,,,,,,,,,,,,,,,,,,,,,,,,,,,,,,,,,,,,,,,,,,,,,,,,,,,,,,,,,,,,,,,,,,,,,,,,,,,,,,,,,,,,,,,,,,,,,,,,,,,,,,,,,,,,,,,,,,,,,,,,,,,,,,,,,,,,,,,,,,,,,,,,,,,,,,,,,,,,,,,,,,,,,,,,,,,,,,,,,,,,,,,,,'],\n ['\"NCT01244971',\n  'Exercise and Acarbose in Type 2 Diabetes',\n  '',\n  'COMPLETED',\n  'Diabetes Mellitus Type 2',\n  'DRUG: Acarbose|BEHAVIORAL: Exercise|OTHER: Exercise + Acarbose',\n  'Karolinska Institutet',\n  'The Swedish Research Council|Bayer',\n  '62.0',\n  'OTHER',\n  'INTERVENTIONAL',\n  'Allocation: RANDOMIZED|Intervention Model: PARALLEL|Masking: NONE|Primary Purpose: TREATMENT',\n  '2004-01',\n  '\",,,,,,,,,,,,,,,,,,,,,,,,,,,,,,,,,,,,,,,,,,,,,,,,,,,,,,,,,,,,,,,,,,,,,,,,,,,,,,,,,,,,,,,,,,,,,,,,,,,,,,,,,,,,,,,,,,,,,,,,,,,,,,,,,,,,,,,,,,,,,,,,,,,,,,,,,,,,,,,,,,,,,,,,,,,,,,,,,,,,,,,,,,,,,,,,,,,,,,,,,,,,,,,,,,'],\n ['\"NCT01634971',\n  'External Drainage Versus Internal Drainage of Pancreatic Duct With a Stent After Pancreaticoduodenectomy (EDIDPD)',\n  'EDIDPD',\n  'UNKNOWN',\n  'Postoperative Fistula|Complications of Surgical and Medical Care: General Terms',\n  'PROCEDURE: Internal Drainage of Pancreatic Duct after pancreatomy',\n  'Tianjin Medical University Cancer Institute and Hospital',\n  '',\n  '120.0',\n  'OTHER',\n  'INTERVENTIONAL',\n  'Allocation: RANDOMIZED|Intervention Model: PARALLEL|Masking: TRIPLE (PARTICIPANT\", CARE_PROVIDER,\" INVESTIGATOR)|Primary Purpose: TREATMENT',\n  '2012-05',\n  '2016-12\",,,,,,,,,,,,,,,,,,,,,,,,,,,,,,,,,,,,,,,,,,,,,,,,,,,,,,,,,,,,,,,,,,,,,,,,,,,,,,,,,,,,,,,,,,,,,,,,,,,,,,,,,,,,,,,,,,,,,,,,,,,,,,,,,,,,,,,,,,,,,,,,,,,,,,,,,,,,,,,,,,,,,,,,,,,,,,,,,,,,,,,,,,,,,,,,,,,,,,,,,,,,,,,,'],\n ['\"NCT04654871',\n  'Effects of Glucosamine and Chondroitin Sulfate Supplementation in Addition to Resistance Exercise Training and Manual Therapy in Patients With Knee Osteoarthritis',\n  '',\n  'COMPLETED',\n  'Osteoarthritis|Osteoarthritis\",\" Knee',\n  'DIETARY_SUPPLEMENT: Chondroitin Sulfate|PROCEDURE: Resistance exercise training|PROCEDURE: Manual therapy / Joint Mobilization|PROCEDURE: THE therapy',\n  'Foundation University Islamabad',\n  '',\n  '24.0',\n  'OTHER',\n  'INTERVENTIONAL',\n  'Allocation: RANDOMIZED|Intervention Model: PARALLEL|Masking: DOUBLE (PARTICIPANT\",\" OUTCOMES_ASSESSOR)|Primary Purpose: TREATMENT',\n  '2020-01-01',\n  '2020-11-01\",,,,,,,,,,,,,,,,,,,,,,,,,,,,,,,,,,,,,,,,,,,,,,,,,,,,,,,,,,,,,,,,,,,,,,,,,,,,,,,,,,,,,,,,,,,,,,,,,,,,,,,,,,,,,,,,,,,,,,,,,,,,,,,,,,,,,,,,,,,,,,,,,,,,,,,,,,,,,,,,,,,,,,,,,,,,,,,,,,,,,,,,,,,,,,,,,,,,,,,,,,,,,,,,'],\n ['\"NCT03547271',\n  'Immunogenicity and Safety Study of a Quadrivalent Meningococcal Conjugate Vaccine When Co-administered With Routine Pediatric Vaccines in Healthy Infants and Toddlers in Europe',\n  '',\n  'COMPLETED',\n  'Meningococcal Infections',\n  'BIOLOGICAL: MenACYW conjugate vaccine|BIOLOGICAL: Meningococcal group A\", C, W-135,\" and Y conjugate vaccine|BIOLOGICAL: DTaP-IPV-HB-Hib vaccine|BIOLOGICAL: Pneumococcal vaccine (13-valent)|BIOLOGICAL: Pneumococcal vaccine (10-valent)|BIOLOGICAL: MMR vaccine',\n  'Sanofi Pasteur\",\" a Sanofi Company',\n  '',\n  '1660.0',\n  'INDUSTRY',\n  'INTERVENTIONAL',\n  'Allocation: RANDOMIZED|Intervention Model: PARALLEL|Masking: QUADRUPLE (PARTICIPANT\", CARE_PROVIDER, INVESTIGATOR,\" OUTCOMES_ASSESSOR)|Primary Purpose: PREVENTION',\n  '2018-12-14',\n  '2023-05-17\",,,,,,,,,,,,,,,,,,,,,,,,,,,,,,,,,,,,,,,,,,,,,,,,,,,,,,,,,,,,,,,,,,,,,,,,,,,,,,,,,,,,,,,,,,,,,,,,,,,,,,,,,,,,,,,,,,,,,,,,,,,,,,,,,,,,,,,,,,,,,,,,,,,,,,,,,,,,,,,,,,,,,,,,,,,,,,,,,,,,,,,,,,,,,,,,,,,,,,,,,,,'],\n ['\"NCT03089671',\n  'Ureteric Visualization: Vitamin B Vs 5% Dextrose in Water',\n  '',\n  'COMPLETED',\n  'Pelvic Floor Disorders|Ureter; Kink',\n  'OTHER: Vitamin B (riboflavin\",\" vitamin B2)|OTHER: 5% Dextrose in Water (D5W)',\n  'Mount Sinai Hospital\",\" Canada',\n  \"Sunnybrook Health Sciences Centre|Women's College Hospital\",\n  '238.0',\n  'OTHER',\n  'INTERVENTIONAL',\n  'Allocation: RANDOMIZED|Intervention Model: PARALLEL|Masking: DOUBLE (PARTICIPANT\",\" CARE_PROVIDER)|Primary Purpose: DIAGNOSTIC',\n  '2017-12-07',\n  '2021-07-21\",,,,,,,,,,,,,,,,,,,,,,,,,,,,,,,,,,,,,,,,,,,,,,,,,,,,,,,,,,,,,,,,,,,,,,,,,,,,,,,,,,,,,,,,,,,,,,,,,,,,,,,,,,,,,,,,,,,,,,,,,,,,,,,,,,,,,,,,,,,,,,,,,,,,,,,,,,,,,,,,,,,,,,,,,,,,,,,,,,,,,,,,,,,,,,,,,,,,,,,,,,,,,,,'],\n ['\"NCT04289571',\n  'Virtual Reality Mobility Assessment of Functional Vision in Retinal Disease',\n  '',\n  'RECRUITING',\n  'Cone-Rod Degeneration|Rod-Cone Degeneration',\n  'DIAGNOSTIC_TEST: VR Motility Tool',\n  'National Eye Institute (NEI)',\n  '',\n  '165.0',\n  'NIH',\n  'INTERVENTIONAL',\n  'Allocation: NA|Intervention Model: SINGLE_GROUP|Masking: NONE|Primary Purpose: DIAGNOSTIC',\n  '2023-07-25',\n  '2030-12-31\",,,,,,,,,,,,,,,,,,,,,,,,,,,,,,,,,,,,,,,,,,,,,,,,,,,,,,,,,,,,,,,,,,,,,,,,,,,,,,,,,,,,,,,,,,,,,,,,,,,,,,,,,,,,,,,,,,,,,,,,,,,,,,,,,,,,,,,,,,,,,,,,,,,,,,,,,,,,,,,,,,,,,,,,,,,,,,,,,,,,,,,,,,,,,,,,,,,,,,,,,,,,,,,,,,'],\n ['\"NCT01473771',\n  'Caring Letters for Military Suicide Prevention',\n  '',\n  'COMPLETED',\n  'Suicide|Suicide\",\" Attempted',\n  'BEHAVIORAL: Caring Letter (email)',\n  'National Center for Telehealth and Technology',\n  'United States Department of Defense|U.S. Army Medical Research and Development Command',\n  '1319.0',\n  'FED',\n  'INTERVENTIONAL',\n  'Allocation: RANDOMIZED|Intervention Model: PARALLEL|Masking: NONE|Primary Purpose: PREVENTION',\n  '2011-11',\n  '2018-08\",,,,,,,,,,,,,,,,,,,,,,,,,,,,,,,,,,,,,,,,,,,,,,,,,,,,,,,,,,,,,,,,,,,,,,,,,,,,,,,,,,,,,,,,,,,,,,,,,,,,,,,,,,,,,,,,,,,,,,,,,,,,,,,,,,,,,,,,,,,,,,,,,,,,,,,,,,,,,,,,,,,,,,,,,,,,,,,,,,,,,,,,,,,,,,,,,,,,,,,,,,,,,,,,,'],\n ['\"NCT03961971',\n  'Trial of Anti-Tim-3 in Combination With Anti-PD-1 and SRS in Recurrent GBM',\n  '',\n  'ACTIVE_NOT_RECRUITING',\n  'Glioblastoma Multiforme',\n  'DRUG: MBG453',\n  'Sidney Kimmel Comprehensive Cancer Center at Johns Hopkins',\n  'Novartis Pharmaceuticals',\n  '16.0',\n  'OTHER',\n  'INTERVENTIONAL',\n  'Allocation: NA|Intervention Model: SINGLE_GROUP|Masking: NONE|Primary Purpose: TREATMENT',\n  '2020-02-18',\n  '2025-09\",,,,,,,,,,,,,,,,,,,,,,,,,,,,,,,,,,,,,,,,,,,,,,,,,,,,,,,,,,,,,,,,,,,,,,,,,,,,,,,,,,,,,,,,,,,,,,,,,,,,,,,,,,,,,,,,,,,,,,,,,,,,,,,,,,,,,,,,,,,,,,,,,,,,,,,,,,,,,,,,,,,,,,,,,,,,,,,,,,,,,,,,,,,,,,,,,,,,,,,,,,,,,,,,,,'],\n ['\"NCT02232971',\n  'Treatment of Low Blood Sugar With Glucagon Among Patients With Type 1 Diabetes',\n  'GluST1',\n  'UNKNOWN',\n  'Diabetes Mellitus\",\" Type 1',\n  'DRUG: Glucagon|OTHER: Isotonic saline solution',\n  'Hvidovre University Hospital',\n  'The Novo Nordic Foundation|University of Copenhagen',\n  '8.0',\n  'OTHER',\n  'INTERVENTIONAL',\n  'Allocation: RANDOMIZED|Intervention Model: CROSSOVER|Masking: SINGLE (PARTICIPANT)|Primary Purpose: BASIC_SCIENCE',\n  '2014-09',\n  '2015-07\",,,,,,,,,,,,,,,,,,,,,,,,,,,,,,,,,,,,,,,,,,,,,,,,,,,,,,,,,,,,,,,,,,,,,,,,,,,,,,,,,,,,,,,,,,,,,,,,,,,,,,,,,,,,,,,,,,,,,,,,,,,,,,,,,,,,,,,,,,,,,,,,,,,,,,,,,,,,,,,,,,,,,,,,,,,,,,,,,,,,,,,,,,,,,,,,,,,,,,,,,,,,,,,,,'],\n ['\"NCT03829371',\n  'STUDY COMPARING TWO STANDARD TREATMENTS IN AUTOLOGOUS STEM CELL TRANSPLANTATION INELIGIBLE POPULATION AFFECTED BY MULTIPLE MYELOMA',\n  '',\n  'RECRUITING',\n  'Multiple Myeloma',\n  'DRUG: Velcade|DRUG: Melphalan|DRUG: Prednisone|DRUG: Lenalidomide|DRUG: Dexamethasone|DRUG: Daratumumab',\n  'University of Turin\",\" Italy',\n  '',\n  '450.0',\n  'OTHER',\n  'INTERVENTIONAL',\n  'Allocation: RANDOMIZED|Intervention Model: PARALLEL|Masking: NONE|Primary Purpose: TREATMENT',\n  '2019-01-03',\n  '2030-01-03\",,,,,,,,,,,,,,,,,,,,,,,,,,,,,,,,,,,,,,,,,,,,,,,,,,,,,,,,,,,,,,,,,,,,,,,,,,,,,,,,,,,,,,,,,,,,,,,,,,,,,,,,,,,,,,,,,,,,,,,,,,,,,,,,,,,,,,,,,,,,,,,,,,,,,,,,,,,,,,,,,,,,,,,,,,,,,,,,,,,,,,,,,,,,,,,,,,,,,,,,,,,,,,,,,'],\n ['\"NCT05810571',\n  'Comparison of Postoperative Analgesic Efficacy of the Erector Spina Plane Block and Quadratus Lumborum Block in Open Nephrectomy: a Prospective Randomized Clinical Study',\n  '',\n  'ACTIVE_NOT_RECRUITING',\n  'Renal Cell Carcinoma',\n  'PROCEDURE: preoperative remifentanil consumption|PROCEDURE: postopeartive controlled anlagesia with morphine',\n  'Kocaeli University',\n  '',\n  '60.0',\n  'OTHER',\n  'INTERVENTIONAL',\n  'Allocation: RANDOMIZED|Intervention Model: CROSSOVER|Masking: DOUBLE (PARTICIPANT\",\" OUTCOMES_ASSESSOR)|Primary Purpose: DIAGNOSTIC',\n  '2023-03-01',\n  '2024-04-03\",,,,,,,,,,,,,,,,,,,,,,,,,,,,,,,,,,,,,,,,,,,,,,,,,,,,,,,,,,,,,,,,,,,,,,,,,,,,,,,,,,,,,,,,,,,,,,,,,,,,,,,,,,,,,,,,,,,,,,,,,,,,,,,,,,,,,,,,,,,,,,,,,,,,,,,,,,,,,,,,,,,,,,,,,,,,,,,,,,,,,,,,,,,,,,,,,,,,,,,,,,,,,,,,,'],\n ['\"NCT04613271',\n  'Efficacy and Safety of Favipiravir in Covid-19 Patients in Indonesia',\n  'FVR',\n  'COMPLETED',\n  'Infectious Disease|SARS-CoV Infection|Covid19',\n  'DRUG: Favipiravir|DRUG: Azithromycin',\n  'Ina-Respond',\n  'Center for Research and Development of Health Resources and Services\", National Institute of Health Research and Development (NIHRD),\" Indonesia',\n  '130.0',\n  'OTHER',\n  'INTERVENTIONAL',\n  'Allocation: RANDOMIZED|Intervention Model: PARALLEL|Masking: NONE|Primary Purpose: TREATMENT',\n  '2020-10-15',\n  '2021-11-08\",,,,,,,,,,,,,,,,,,,,,,,,,,,,,,,,,,,,,,,,,,,,,,,,,,,,,,,,,,,,,,,,,,,,,,,,,,,,,,,,,,,,,,,,,,,,,,,,,,,,,,,,,,,,,,,,,,,,,,,,,,,,,,,,,,,,,,,,,,,,,,,,,,,,,,,,,,,,,,,,,,,,,,,,,,,,,,,,,,,,,,,,,,,,,,,,,,,,,,,,,,,,,,,,'],\n ['\"NCT06142071',\n  'Mixed Methods Study to Assess Family Members Unmet Needs in an Oncology Setting',\n  'SALUTE',\n  'NOT_YET_RECRUITING',\n  'Cancer',\n  'BEHAVIORAL: Telephone questionnaire',\n  'Swansea Bay University Health Board',\n  'Swansea University',\n  '50.0',\n  'OTHER',\n  'OBSERVATIONAL',\n  'Observational Model: |Time Perspective: p',\n  '2023-12',\n  '2024-08\",,,,,,,,,,,,,,,,,,,,,,,,,,,,,,,,,,,,,,,,,,,,,,,,,,,,,,,,,,,,,,,,,,,,,,,,,,,,,,,,,,,,,,,,,,,,,,,,,,,,,,,,,,,,,,,,,,,,,,,,,,,,,,,,,,,,,,,,,,,,,,,,,,,,,,,,,,,,,,,,,,,,,,,,,,,,,,,,,,,,,,,,,,,,,,,,,,,,,,,,,,,,,,,,,,'],\n ['\"NCT03211871',\n  'Dexmedetomidine Infusion as an Analgesic Adjuvant During Laparoscopic Cholecystectomy',\n  '',\n  'UNKNOWN',\n  'Pain\",\" Postoperative',\n  'DRUG: Dexmedetomidine|DRUG: Normal Saline Flush\",\" 0.9% Injectable Solution_#1',\n  'Bogomolets National Medical University',\n  '',\n  '60.0',\n  'OTHER',\n  'INTERVENTIONAL',\n  'Allocation: RANDOMIZED|Intervention Model: PARALLEL|Masking: NONE|Primary Purpose: TREATMENT',\n  '2016-05-01',\n  '2017-10-01\",,,,,,,,,,,,,,,,,,,,,,,,,,,,,,,,,,,,,,,,,,,,,,,,,,,,,,,,,,,,,,,,,,,,,,,,,,,,,,,,,,,,,,,,,,,,,,,,,,,,,,,,,,,,,,,,,,,,,,,,,,,,,,,,,,,,,,,,,,,,,,,,,,,,,,,,,,,,,,,,,,,,,,,,,,,,,,,,,,,,,,,,,,,,,,,,,,,,,,,,,,,,,,,,'],\n ['\"NCT04146571',\n  'Expanded Access to Ensartinib for Participants With ALK+ NSCLC',\n  '',\n  'AVAILABLE',\n  'Non-Small Cell Lung Cancer|ALK Gene Rearrangement Positive',\n  'DRUG: Ensartinib',\n  'Xcovery Holdings\",\" Inc.',\n  '',\n  '',\n  'INDUSTRY',\n  'EXPANDED_ACCESS',\n  '',\n  '',\n  '\",,,,,,,,,,,,,,,,,,,,,,,,,,,,,,,,,,,,,,,,,,,,,,,,,,,,,,,,,,,,,,,,,,,,,,,,,,,,,,,,,,,,,,,,,,,,,,,,,,,,,,,,,,,,,,,,,,,,,,,,,,,,,,,,,,,,,,,,,,,,,,,,,,,,,,,,,,,,,,,,,,,,,,,,,,,,,,,,,,,,,,,,,,,,,,,,,,,,,,,,,,,,,,,,,'],\n ['\"NCT00227071',\n  'Aquatic Verses Land Exercise to Decrease Fall Risk',\n  '',\n  'COMPLETED',\n  'Osteoporosis',\n  'BEHAVIORAL: exercise',\n  'University of Saskatchewan',\n  'Saskatchewan Health Research Foundation',\n  '73.0',\n  'OTHER',\n  'INTERVENTIONAL',\n  'Allocation: RANDOMIZED|Intervention Model: CROSSOVER|Masking: SINGLE|Primary Purpose: TREATMENT',\n  '1999-09',\n  '2002-06\",,,,,,,,,,,,,,,,,,,,,,,,,,,,,,,,,,,,,,,,,,,,,,,,,,,,,,,,,,,,,,,,,,,,,,,,,,,,,,,,,,,,,,,,,,,,,,,,,,,,,,,,,,,,,,,,,,,,,,,,,,,,,,,,,,,,,,,,,,,,,,,,,,,,,,,,,,,,,,,,,,,,,,,,,,,,,,,,,,,,,,,,,,,,,,,,,,,,,,,,,,,,,,,,,,'],\n ['\"NCT04341571',\n  'Effect of Probiotics Versus Metformin on Glycemic Control\",\" Insulin Sensitivity and Insulin Secretion in Prediabetes.',\n  '',\n  'ACTIVE_NOT_RECRUITING',\n  'PreDiabetes|Impaired Glucose Tolerance|Hyperglycemia|Resistance\",\" Insulin',\n  'DIETARY_SUPPLEMENT: Probiotics|DRUG: Metformin',\n  'University of Guadalajara',\n  '',\n  '30.0',\n  'OTHER',\n  'INTERVENTIONAL',\n  'Allocation: RANDOMIZED|Intervention Model: PARALLEL|Masking: DOUBLE (PARTICIPANT\",\" INVESTIGATOR)|Primary Purpose: TREATMENT',\n  '2019-10-24',\n  '2024-12\",,,,,,,,,,,,,,,,,,,,,,,,,,,,,,,,,,,,,,,,,,,,,,,,,,,,,,,,,,,,,,,,,,,,,,,,,,,,,,,,,,,,,,,,,,,,,,,,,,,,,,,,,,,,,,,,,,,,,,,,,,,,,,,,,,,,,,,,,,,,,,,,,,,,,,,,,,,,,,,,,,,,,,,,,,,,,,,,,,,,,,,,,,,,,,,,,,,,,,,,,,,,,,,'],\n ['\"NCT01755871',\n  'Long-term Effect of Fingolimod on Circulating Immunocompetent Mononuclear Cells in Patients With Multiple Sclerosis',\n  'BiobankII',\n  'TERMINATED',\n  'Relapsing Remitting Multiple Sclerosis',\n  'DRUG: Fingolimod',\n  'Heinrich-Heine University\",\" Duesseldorf',\n  'Novartis Pharmaceuticals',\n  '8.0',\n  'OTHER',\n  'INTERVENTIONAL',\n  'Allocation: NA|Intervention Model: SINGLE_GROUP|Masking: NONE|Primary Purpose: TREATMENT',\n  '2013-01',\n  '2016-02\",,,,,,,,,,,,,,,,,,,,,,,,,,,,,,,,,,,,,,,,,,,,,,,,,,,,,,,,,,,,,,,,,,,,,,,,,,,,,,,,,,,,,,,,,,,,,,,,,,,,,,,,,,,,,,,,,,,,,,,,,,,,,,,,,,,,,,,,,,,,,,,,,,,,,,,,,,,,,,,,,,,,,,,,,,,,,,,,,,,,,,,,,,,,,,,,,,,,,,,,,,,,,,,,,'],\n ['\"NCT00721071',\n  'Utility of Induced Sputum Using Hypertonic Saline to Evaluate Infection and Inflammation in Cystic Fibrosis',\n  '',\n  'COMPLETED',\n  'Cystic Fibrosis',\n  'DRUG: Hypertonic Saline',\n  'The Hospital for Sick Children',\n  '',\n  '95.0',\n  'OTHER',\n  'INTERVENTIONAL',\n  'Allocation: NON_RANDOMIZED|Intervention Model: SINGLE_GROUP|Masking: NONE|Primary Purpose: DIAGNOSTIC',\n  '2006-12',\n  '2008-05\",,,,,,,,,,,,,,,,,,,,,,,,,,,,,,,,,,,,,,,,,,,,,,,,,,,,,,,,,,,,,,,,,,,,,,,,,,,,,,,,,,,,,,,,,,,,,,,,,,,,,,,,,,,,,,,,,,,,,,,,,,,,,,,,,,,,,,,,,,,,,,,,,,,,,,,,,,,,,,,,,,,,,,,,,,,,,,,,,,,,,,,,,,,,,,,,,,,,,,,,,,,,,,,,,,'],\n ['\"NCT05402371',\n  'A Study to Evaluate the Efficacy and Safety of Rencofilstat in Subjects With NASH and Advanced Liver Fibrosis',\n  'ASCEND',\n  'RECRUITING',\n  'Nonalcoholic Steatohepatitis (NASH)|Fibrosis\",\" Liver|NAFLD',\n  'DRUG: Rencofilstat|DRUG: Placebo',\n  'Hepion Pharmaceuticals\",\" Inc.',\n  '',\n  '336.0',\n  'INDUSTRY',\n  'INTERVENTIONAL',\n  'Allocation: RANDOMIZED|Intervention Model: PARALLEL|Masking: QUADRUPLE (PARTICIPANT\", CARE_PROVIDER, INVESTIGATOR,\" OUTCOMES_ASSESSOR)|Primary Purpose: TREATMENT',\n  '2022-10-15',\n  '2025-09\",,,,,,,,,,,,,,,,,,,,,,,,,,,,,,,,,,,,,,,,,,,,,,,,,,,,,,,,,,,,,,,,,,,,,,,,,,,,,,,,,,,,,,,,,,,,,,,,,,,,,,,,,,,,,,,,,,,,,,,,,,,,,,,,,,,,,,,,,,,,,,,,,,,,,,,,,,,,,,,,,,,,,,,,,,,,,,,,,,,,,,,,,,,,,,,,,,,,,,,,,,,,,'],\n ...]"
     ]
    }
   ],
   "source": [
    "clinicaltrial_2023_rdd2.collect()"
   ]
  },
  {
   "cell_type": "code",
   "execution_count": 0,
   "metadata": {
    "application/vnd.databricks.v1+cell": {
     "cellMetadata": {
      "byteLimit": 2048000,
      "rowLimit": 10000
     },
     "inputWidgets": {},
     "nuid": "412d92fd-a47c-4a4c-8178-6f3de9fbfc54",
     "showTitle": false,
     "title": ""
    }
   },
   "outputs": [],
   "source": [
    "# Define the file location\n",
    "file_location = \"/FileStore/tables/pharma.csv\"\n",
    "# Load the text file into an RDD\n",
    "pharma_rdd = sc.textFile(file_location)\n",
    "# Extract header and remove it from the RDD\n",
    "header = pharma_rdd.first()\n",
    "pharma_rdd = pharma_rdd.filter(lambda row: row != header)\n",
    "# Split each line by comma\n",
    "pharma_rdd = pharma_rdd.map(lambda line: line.split(\",\"))"
   ]
  },
  {
   "cell_type": "code",
   "execution_count": 0,
   "metadata": {
    "application/vnd.databricks.v1+cell": {
     "cellMetadata": {
      "byteLimit": 2048000,
      "rowLimit": 10000
     },
     "inputWidgets": {},
     "nuid": "eb0f4026-a960-4364-8408-adb45a891d10",
     "showTitle": false,
     "title": ""
    }
   },
   "outputs": [
    {
     "output_type": "stream",
     "name": "stdout",
     "output_type": "stream",
     "text": [
      "Out[21]: [['\"Abbott Laboratories\"',\n  '\"Abbott Laboratories\"',\n  '\"$5',\n  '475',\n  '000\"',\n  '\"$0\"',\n  '\"$5',\n  '475',\n  '000\"',\n  '\"2013\"',\n  '\"20131227\"',\n  '\"government-contracting-related offenses\"',\n  '\"False Claims Act and related\"',\n  '\"kickbacks and bribery\"',\n  '\"Abbott Laboratories agreed to $5.475 million to resolve allegations that it violated the False Claims Act by paying kickbacks to induce doctors to implant the company\\'s carotid',\n  ' biliary and peripheral vascular products.\"',\n  '\"federal\"',\n  '\"agency action\"',\n  '\"Justice Department Civil Division\"',\n  '\"civil\"',\n  '\"\"',\n  '\"\"',\n  '\"\"',\n  '\"\"',\n  '\"\"',\n  '\"\"',\n  '\"\"',\n  '\"\"',\n  '\"\"',\n  '\"\"',\n  '\"\"',\n  '\"USA\"',\n  '\"Illinois\"',\n  '\"publicly traded\"',\n  '\"ABT\"',\n  '\"pharmaceuticals\"',\n  '\"pharmaceuticals\"',\n  '\"https://www.justice.gov/opa/pr/abbott-laboratories-pays-us-5475-million-settle-claims-company-paid-kickbacks-physicians\"',\n  '\"\"'],\n ['\"Abbott Laboratories Inc.\"',\n  '\"AbbVie\"',\n  '\"$1',\n  '500',\n  '000',\n  '000\"',\n  '\"$0\"',\n  '\"$1',\n  '500',\n  '000',\n  '000\"',\n  '\"2012\"',\n  '\"20120507\"',\n  '\"healthcare-related offenses\"',\n  '\"off-label or unapproved promotion of medical products\"',\n  '\"\"',\n  '\"Global Health Care Company Abbott Laboratories Inc. has pleaded guilty and agreed to pay $1.5 billion to resolve its criminal and civil liability arising from the company\\'s unlawful promotion of the prescription drug Depakote for uses not approved as safe and effective by the Food and Drug Administration. The resolution - the second largest payment by a drug company - includes a criminal fine and forfeiture totaling $700 million and civil settlements with the federal government and the states totaling $800 million. Abbott also will be subject to court-supervised probation and reporting obligations for Abbotts CEO and Board of Directors.\"',\n  '\"federal\"',\n  '\"agency action\"',\n  '\"Food and Drug Administration referral to the Justice Department\"',\n  '\"civil and criminal\"',\n  '\"\"',\n  '\"\"',\n  '\"\"',\n  '\"\"',\n  '\"\"',\n  '\"\"',\n  '\"\"',\n  '\"\"',\n  '\"\"',\n  '\"\"',\n  '\"\"',\n  '\"USA\"',\n  '\"Illinois\"',\n  '\"publicly traded\"',\n  '\"ABBV\"',\n  '\"pharmaceuticals\"',\n  '\"pharmaceuticals\"',\n  '\"http://www.justice.gov/opa/pr/abbott-labs-pay-15-billion-resolve-criminal-civil-investigations-label-promotion-depakote\"',\n  '\"\"'],\n ['\"Abbott Laboratories Inc.\"',\n  '\"AbbVie\"',\n  '\"$126',\n  '500',\n  '000\"',\n  '\"$0\"',\n  '\"$126',\n  '500',\n  '000\"',\n  '\"2010\"',\n  '\"20101207\"',\n  '\"government-contracting-related offenses\"',\n  '\"False Claims Act and related\"',\n  '\"\"',\n  '\"Abbott Laboratories Inc.',\n  ' B. Braun Medical Inc. and Roxane Laboratories Inc. n/k/a Boehringer Ingelheim Roxane Inc. and affiliated entities agreed to pay $421 million to settle False Claims Act allegations',\n  ' that they engaged in a scheme to report false and inflated prices for numerous pharmaceutical products knowing that federal healthcare programs relied on those reported prices to set payment rates.\"',\n  '\"federal\"',\n  '\"agency action\"',\n  '\"Justice Department Civil Division\"',\n  '\"civil\"',\n  '\"\"',\n  '\"\"',\n  '\"\"',\n  '\"\"',\n  '\"\"',\n  '\"\"',\n  '\"\"',\n  '\"\"',\n  '\"\"',\n  '\"\"',\n  '\"\"',\n  '\"USA\"',\n  '\"Illinois\"',\n  '\"publicly traded\"',\n  '\"ABBV\"',\n  '\"pharmaceuticals\"',\n  '\"pharmaceuticals\"',\n  '\"https://www.justice.gov/opa/pr/pharmaceutical-manufacturers-pay-4212-million-settle-false-claims-act-cases\"',\n  '\"\"'],\n ['\"Abbott Laboratories Puerto Rico',\n  ' Inc.\"',\n  '\"Abbott Laboratories\"',\n  '\"$49',\n  '045\"',\n  '\"$0\"',\n  '\"$49',\n  '045\"',\n  '\"2009\"',\n  '\"20090305\"',\n  '\"employment-related offenses\"',\n  '\"wage and hour violation\"',\n  '\"Fair Labor Standards Act\"',\n  '\"\"',\n  '\"federal\"',\n  '\"agency action\"',\n  '\"Labor Department Wage and Hour Division\"',\n  '\"civil\"',\n  '\"\"',\n  '\"\"',\n  '\"1527129\"',\n  '\"\"',\n  '\"\"',\n  '\"Puerto Rico\"',\n  '\"San Juan\"',\n  '\"\"',\n  '\"\"',\n  '\"423450\"',\n  '\"423450: Medical',\n  ' Dental',\n  ' and Hospital Equipment and Supplies Merchant Wholesalers\"',\n  '\"USA\"',\n  '\"Illinois\"',\n  '\"publicly traded\"',\n  '\"ABT\"',\n  '\"pharmaceuticals\"',\n  '\"pharmaceuticals\"',\n  '\"March 7',\n  ' 2017 download of a dataset posted by the Wage and Hour Division at https://enforcedata.dol.gov/views/data_summary.php\"',\n  '\"Date and year are the Findings End Date in the dataset posted by the Wage and Hour Division',\n  ' which does not provide case opening or closing dates. The company name is the Legal Name provided by the dataset unless that field is blank',\n  ' in which case the Trade Name is used. The dataset provides only one address and does not indicate whether it is the company headquarters address or the establishment address. The penalty amount is the total of civil monetary penalties and mandated back wages. The original dataset provides a breakdown.\"'],\n ['\"Acclarent Inc.\"',\n  '\"Johnson & Johnson\"',\n  '\"$18',\n  '000',\n  '000\"',\n  '\"$0\"',\n  '\"$18',\n  '000',\n  '000\"',\n  '\"2016\"',\n  '\"20160722\"',\n  '\"government-contracting-related offenses\"',\n  '\"False Claims Act and related\"',\n  '\"\"',\n  '\"California-based medical device manufacturer Acclarent Inc.',\n  ' a subsidiary of Johnson & Johnson',\n  ' agreed to pay $18 million to resolve allegations that the company caused health care providers to submit false claims to Medicare and other federal health care programs by marketing and distributing its sinus spacer product for use as a drug delivery device without Food and Drug Administration approval.\"',\n  '\"federal\"',\n  '\"agency action\"',\n  '\"Justice Department Civil Division\"',\n  '\"civil\"',\n  '\"\"',\n  '\"\"',\n  '\"\"',\n  '\"\"',\n  '\"\"',\n  '\"\"',\n  '\"\"',\n  '\"\"',\n  '\"\"',\n  '\"\"',\n  '\"\"',\n  '\"USA\"',\n  '\"New Jersey\"',\n  '\"publicly traded\"',\n  '\"JNJ\"',\n  '\"pharmaceuticals\"',\n  '\"pharmaceuticals\"',\n  '\"https://www.justice.gov/opa/pr/johnson-johnson-subsidiary-acclarent-inc-pays-government-18-million-settle-false-claims-act\"',\n  '\"\"'],\n ['\"Advanced Medical Optics\"',\n  '\"Abbott Laboratories\"',\n  '\"$16',\n  '800\"',\n  '\"$0\"',\n  '\"$16',\n  '800\"',\n  '\"2004\"',\n  '\"20040412\"',\n  '\"employment-related offenses\"',\n  '\"labor relations violation\"',\n  '\"\"',\n  '\"back pay award in unfair labor practices case\"',\n  '\"federal\"',\n  '\"agency action\"',\n  '\"National Labor Relations Board\"',\n  '\"civil\"',\n  '\"\"',\n  '\"\"',\n  '\"21-CA-36104-001\"',\n  '\"\"',\n  '\"\"',\n  '\"California\"',\n  '\"Irvine\"',\n  '\"\"',\n  '\"92606\"',\n  '\"333314\"',\n  '\"333314: Optical Instrument and Lens Manufacturing\"',\n  '\"USA\"',\n  '\"Illinois\"',\n  '\"publicly traded\"',\n  '\"ABT\"',\n  '\"pharmaceuticals\"',\n  '\"pharmaceuticals\"',\n  '\"Extracted from an NLRB dataset covering 1999-2011 downloaded at https://catalog.data.gov/dataset/nlrb-cats-final-c-case-data-bulk-19990101-20110930-in-xml\"',\n  '\"\"'],\n ['\"Advanced Neuromodulation Systems',\n  ' Inc.\"',\n  '\"Abbott Laboratories\"',\n  '\"$2',\n  '950',\n  '000\"',\n  '\"$0\"',\n  '\"$2',\n  '950',\n  '000\"',\n  '\"2007\"',\n  '\"20070702\"',\n  '\"healthcare-related offenses\"',\n  '\"HHS civil monetary penalties\"',\n  '\"kickbacks and bribery\"',\n  '\"The HHS Inspector General announced that Advanced Neuromodulation Systems',\n  ' Inc.',\n  '  a medical device manufacturer specializing in spinal cord stimulation used for pain management',\n  ' agreed to pay $2.95 million to settle allegations that it paid kickbacks to physicians in violation of the Civil Monetary Penalties Law (CMPL). The company also entered into a 3-year Corporate Integrity Agreement.\"',\n  '\"federal\"',\n  '\"agency action\"',\n  '\"Health & Human Services Department Office of Inspector General\"',\n  '\"civil\"',\n  '\"\"',\n  '\"\"',\n  '\"\"',\n  '\"\"',\n  '\"\"',\n  '\"\"',\n  '\"\"',\n  '\"\"',\n  '\"\"',\n  '\"\"',\n  '\"\"',\n  '\"USA\"',\n  '\"Illinois\"',\n  '\"publicly traded\"',\n  '\"ABT\"',\n  '\"pharmaceuticals\"',\n  '\"pharmaceuticals\"',\n  '\"https://oig.hhs.gov/publications/docs/press/2007/ANS%20Press%20Release.pdf\"',\n  '\"\"'],\n ['\"Advanced Sterilization Products\"',\n  '\"Johnson & Johnson\"',\n  '\"$136',\n  '800\"',\n  '\"$0\"',\n  '\"$136',\n  '800\"',\n  '\"2014\"',\n  '\"20140520\"',\n  '\"environment-related offenses\"',\n  '\"environmental violation\"',\n  '\"\"',\n  '\"The U.S. Environmental Protection Agency announced that an Irvine',\n  ' Calif. company',\n  ' Advanced Sterilization Products',\n  ' has agreed to pay a $136',\n  '800 penalty for the sale and distribution of unregistered and misbranded pesticides to veterinary clinics and laboratories nationwide.\"',\n  '\"federal\"',\n  '\"agency action\"',\n  '\"Environmental Protection Agency\"',\n  '\"civil\"',\n  '\"\"',\n  '\"\"',\n  '\"\"',\n  '\"\"',\n  '\"\"',\n  '\"California\"',\n  '\"Irvine\"',\n  '\"\"',\n  '\"\"',\n  '\"\"',\n  '\"\"',\n  '\"USA\"',\n  '\"New Jersey\"',\n  '\"publicly traded\"',\n  '\"JNJ\"',\n  '\"pharmaceuticals\"',\n  '\"pharmaceuticals\"',\n  '\"https://archive.epa.gov/epapages/newsroom_archive/newsreleases/8e820317c86e4c5685257cde00717855.html\"',\n  '\"\"'],\n ['\"Advanced Sterilization Products',\n  ' a division of Ethicon Inc.\"',\n  '\"Johnson & Johnson\"',\n  '\"$1',\n  '200',\n  '000\"',\n  '\"$0\"',\n  '\"$1',\n  '200',\n  '000\"',\n  '\"2013\"',\n  '\"20131204\"',\n  '\"safety-related offenses\"',\n  '\"drug or medical equipment safety violation\"',\n  '\"\"',\n  '\"Settlement of a civil money penalty action against Advanced Sterilization Products',\n  ' a division of Ethicon Inc.',\n  ' a Johnson & Johnson company',\n  ' and two of ASP\\'s executives alleging that ASP manufactured and distributed adulterated and misbranded sterilization monitoring products.\"',\n  '\"federal\"',\n  '\"agency action\"',\n  '\"Food and Drug Administration\"',\n  '\"civil\"',\n  '\"\"',\n  '\"\"',\n  '\"\"',\n  '\"\"',\n  '\"\"',\n  '\"California\"',\n  '\"Irvine\"',\n  '\"\"',\n  '\"\"',\n  '\"\"',\n  '\"\"',\n  '\"USA\"',\n  '\"New Jersey\"',\n  '\"publicly traded\"',\n  '\"JNJ\"',\n  '\"pharmaceuticals\"',\n  '\"pharmaceuticals\"',\n  '\"http://www.fda.gov/NewsEvents/Newsroom/PressAnnouncements/ucm377588.htm\"',\n  '\"\"'],\n ['\"Alere San Diego Inc.\"',\n  '\"Abbott Laboratories\"',\n  '\"$10',\n  '572\"',\n  '\"$0\"',\n  '\"$10',\n  '572\"',\n  '\"2017\"',\n  '\"20170309\"',\n  '\"employment-related offenses\"',\n  '\"wage and hour violation\"',\n  '\"Fair Labor Standards Act\"',\n  '\"\"',\n  '\"federal\"',\n  '\"agency action\"',\n  '\"Labor Department Wage and Hour Division\"',\n  '\"civil\"',\n  '\"\"',\n  '\"\"',\n  '\"1813371\"',\n  '\"\"',\n  '\"\"',\n  '\"California\"',\n  '\"Pomona\"',\n  '\"828 Towne Center Dr.\"',\n  '\"91767\"',\n  '\"\"',\n  '\"\"',\n  '\"USA\"',\n  '\"Illinois\"',\n  '\"publicly traded\"',\n  '\"ABT\"',\n  '\"pharmaceuticals\"',\n  '\"pharmaceuticals\"',\n  '\"July 23',\n  ' 2017 download of a dataset posted by the Wage and Hour Division at https://enforcedata.dol.gov/views/data_summary.php\"',\n  '\"Date and year are the Findings End Date in the dataset posted by the Wage and Hour Division',\n  ' which does not provide case opening or closing dates. The company name is the Legal Name provided by the dataset unless that field is blank',\n  ' in which case the Trade Name is used. The dataset provides only one address and does not indicate whether it is the company headquarters address or the establishment address. The penalty amount is the total of civil monetary penalties and mandated back wages. The original dataset provides a breakdown.\"'],\n ['\"Allergan Inc.\"',\n  '\"AbbVie\"',\n  '\"$600',\n  '000',\n  '000\"',\n  '\"$0\"',\n  '\"$600',\n  '000',\n  '000\"',\n  '\"2010\"',\n  '\"20100901\"',\n  '\"healthcare-related offenses\"',\n  '\"off-label or unapproved promotion of medical products\"',\n  '\"\"',\n  '\"American pharmaceutical manufacturer Allergan Inc. has agreed to plead guilty and pay $600 million to resolve its criminal and civil liability arising from the company\\'s unlawful promotion of its biological product',\n  ' Botox Therapeutic',\n  ' for uses not approved as safe and effective by the Food and Drug Administration. The resolution included a criminal fine and forfeiture totaling $375 million and a civil settlement with the federal government and the states of $225 million.\"',\n  '\"federal\"',\n  '\"agency action\"',\n  '\"Food and Drug Administration referral to the Justice Department\"',\n  '\"civil and criminal\"',\n  '\"\"',\n  '\"\"',\n  '\"\"',\n  '\"\"',\n  '\"\"',\n  '\"\"',\n  '\"\"',\n  '\"\"',\n  '\"\"',\n  '\"\"',\n  '\"\"',\n  '\"USA\"',\n  '\"Illinois\"',\n  '\"publicly traded\"',\n  '\"ABBV\"',\n  '\"pharmaceuticals\"',\n  '\"pharmaceuticals\"',\n  '\"http://www.justice.gov/opa/pr/allergan-agrees-plead-guilty-and-pay-600-million-resolve-allegations-label-promotion-botox\"',\n  '\"\"'],\n ['\"Allergan Inc.\"',\n  '\"AbbVie\"',\n  '\"$15',\n  '000',\n  '000\"',\n  '\"$0\"',\n  '\"$15',\n  '000',\n  '000\"',\n  '\"2017\"',\n  '\"20170117\"',\n  '\"financial offenses\"',\n  '\"investor protection violation\"',\n  '\"\"',\n  '\"Allergan Inc. admitted securities law violations and agreed to pay a $15 million penalty for disclosure failures in the wake of a hostile takeover bid.\"',\n  '\"federal\"',\n  '\"agency action\"',\n  '\"Securities and Exchange Commission\"',\n  '\"civil\"',\n  '\"\"',\n  '\"\"',\n  '\"\"',\n  '\"\"',\n  '\"\"',\n  '\"\"',\n  '\"\"',\n  '\"\"',\n  '\"\"',\n  '\"\"',\n  '\"\"',\n  '\"USA\"',\n  '\"Illinois\"',\n  '\"publicly traded\"',\n  '\"ABBV\"',\n  '\"pharmaceuticals\"',\n  '\"pharmaceuticals\"',\n  '\"https://www.sec.gov/news/pressrelease/2017-16.html\"',\n  '\"\"'],\n ['\"Alpharma Inc.\"',\n  '\"Pfizer\"',\n  '\"$42',\n  '500',\n  '000\"',\n  '\"$0\"',\n  '\"$42',\n  '500',\n  '000\"',\n  '\"2010\"',\n  '\"20100316\"',\n  '\"government-contracting-related offenses\"',\n  '\"False Claims Act and related\"',\n  '\"kickbacks and bribery\"',\n  '\"Alpharma Inc. agreed to pay $42.5 million to resolve False Claims Act allegations in connection with the marketing of the morphine-based drug Kadian. The settlement resolved allegations that between January 1',\n  ' 2000 and December 29',\n  ' 2008 Alpharma paid health care providers to induce them to promote or prescribe Kadian',\n  ' and made misrepresentations about the safety and efficacy of the drug. \"',\n  '\"federal\"',\n  '\"agency action\"',\n  '\"Justice Department Civil Division\"',\n  '\"civil\"',\n  '\"\"',\n  '\"\"',\n  '\"\"',\n  '\"\"',\n  '\"\"',\n  '\"\"',\n  '\"\"',\n  '\"\"',\n  '\"\"',\n  '\"\"',\n  '\"\"',\n  '\"USA\"',\n  '\"New York\"',\n  '\"publicly traded\"',\n  '\"PFE\"',\n  '\"pharmaceuticals\"',\n  '\"pharmaceuticals\"',\n  '\"https://www.justice.gov/opa/pr/alpharma-pay-425-million-resolve-false-claims-act-allegations-connection-promotion-drug\"',\n  '\"\"'],\n ['\"Alpharma',\n  ' Inc.\"',\n  '\"Pfizer\"',\n  '\"$2',\n  '500',\n  '000\"',\n  '\"$0\"',\n  '\"$2',\n  '500',\n  '000\"',\n  '\"2004\"',\n  '\"20040812\"',\n  '\"competition-related offenses\"',\n  '\"price-fixing or anti-competitive practices\"',\n  '\"consumer protection violation\"',\n  '\"Generic drug manufacturers Alpharma Inc. and Perrigo Company agreed to give up a total of $6.25 million in illegal profits to settle Federal Trade Commission allegations that their agreement to limit competition for over-the-counter store-brand children\\'s liquid ibuprofen drove up prices and violated federal law.\"',\n  '\"federal\"',\n  '\"agency action\"',\n  '\"Federal Trade Commission\"',\n  '\"civil\"',\n  '\"\"',\n  '\"\"',\n  '\"\"',\n  '\"\"',\n  '\"\"',\n  '\"\"',\n  '\"\"',\n  '\"\"',\n  '\"\"',\n  '\"\"',\n  '\"\"',\n  '\"USA\"',\n  '\"New York\"',\n  '\"publicly traded\"',\n  '\"PFE\"',\n  '\"pharmaceuticals\"',\n  '\"pharmaceuticals\"',\n  '\"https://www.ftc.gov/news-events/press-releases/2004/08/generic-drug-marketers-settle-ftc-charges\"',\n  '\"\"'],\n ['\"American Pharmaceutical Partners',\n  ' Inc.\"',\n  '\"Bristol-Myers Squibb\"',\n  '\"$160',\n  '203\"',\n  '\"$0\"',\n  '\"$160',\n  '203\"',\n  '\"2004\"',\n  '\"20041226\"',\n  '\"employment-related offenses\"',\n  '\"wage and hour violation\"',\n  '\"Fair Labor Standards Act\"',\n  '\"\"',\n  '\"federal\"',\n  '\"agency action\"',\n  '\"Labor Department Wage and Hour Division\"',\n  '\"civil\"',\n  '\"\"',\n  '\"\"',\n  '\"1379241\"',\n  '\"\"',\n  '\"\"',\n  '\"New York\"',\n  '\"Grand Island\"',\n  '\"\"',\n  '\"14072\"',\n  '\"32541\"',\n  '\"32541: Pharmaceutical and Medicine Manufacturing\"',\n  '\"USA\"',\n  '\"New York\"',\n  '\"publicly traded\"',\n  '\"BMY\"',\n  '\"pharmaceuticals\"',\n  '\"pharmaceuticals\"',\n  '\"March 7',\n  ' 2017 download of a dataset posted by the Wage and Hour Division at https://enforcedata.dol.gov/views/data_summary.php\"',\n  '\"Date and year are the Findings End Date in the dataset posted by the Wage and Hour Division',\n  ' which does not provide case opening or closing dates. The company name is the Legal Name provided by the dataset unless that field is blank',\n  ' in which case the Trade Name is used. The dataset provides only one address and does not indicate whether it is the company headquarters address or the establishment address. The penalty amount is the total of civil monetary penalties and mandated back wages. The original dataset provides a breakdown.\"'],\n ['\"Amgen Inc.\"',\n  '\"Amgen\"',\n  '\"$762',\n  '000',\n  '000\"',\n  '\"$0\"',\n  '\"$762',\n  '000',\n  '000\"',\n  '\"2012\"',\n  '\"20121219\"',\n  '\"healthcare-related offenses\"',\n  '\"off-label or unapproved promotion of medical products\"',\n  '\"\"',\n  '\"U.S. District Judge Sterling Johnson',\n  ' Jr. accepted a guilty plea by American biotechnology giant Amgen Inc. for illegally introducing a misbranded drug into interstate commerce. The plea is part of a global settlement with the United States in which Amgen agreed to pay $762 million to resolve criminal and civil liability arising from its sale and promotion of certain drugs.\"',\n  '\"federal\"',\n  '\"agency action\"',\n  '\"Food and Drug Administration referral to the Justice Department\"',\n  '\"civil and criminal\"',\n  '\"\"',\n  '\"\"',\n  '\"\"',\n  '\"\"',\n  '\"\"',\n  '\"\"',\n  '\"\"',\n  '\"\"',\n  '\"\"',\n  '\"\"',\n  '\"\"',\n  '\"USA\"',\n  '\"California\"',\n  '\"publicly traded\"',\n  '\"AMGN\"',\n  '\"pharmaceuticals\"',\n  '\"pharmaceuticals\"',\n  '\"http://www.justice.gov/opa/pr/amgen-inc-pleads-guilty-federal-charge-brooklyn-ny-pays-762-million-resolve-criminal\"',\n  '\"\"'],\n ['\"Amgen Inc.\"',\n  '\"Amgen\"',\n  '\"$24',\n  '900',\n  '000\"',\n  '\"$0\"',\n  '\"$24',\n  '900',\n  '000\"',\n  '\"2013\"',\n  '\"20130416\"',\n  '\"government-contracting-related offenses\"',\n  '\"False Claims Act and related\"',\n  '\"kickbacks and bribery\"',\n  '\"Amgen Inc. agreed to pay the United States $24.9 million to settle allegations that it violated the False Claims Act. The company was accused of paying kickbacks  to long-term care pharmacy providers Omnicare Inc.',\n  ' PharMerica Corporation and Kindred Healthcare Inc. in return for implementing \"\"therapeutic interchange\"\" programs that were designed to switch Medicare and Medicaid beneficiaries from a competitor drug to Amgen\\'s Aranesp.\"',\n  '\"federal\"',\n  '\"agency action\"',\n  '\"Justice Department Civil Division\"',\n  '\"civil\"',\n  '\"\"',\n  '\"\"',\n  '\"\"',\n  '\"\"',\n  '\"\"',\n  '\"\"',\n  '\"\"',\n  '\"\"',\n  '\"\"',\n  '\"\"',\n  '\"\"',\n  '\"USA\"',\n  '\"California\"',\n  '\"publicly traded\"',\n  '\"AMGN\"',\n  '\"pharmaceuticals\"',\n  '\"pharmaceuticals\"',\n  '\"https://www.justice.gov/opa/pr/amgen-pay-us-249-million-resolve-false-claims-act-allegations\"',\n  '\"\"'],\n ['\"Amgen',\n  ' Inc.\"',\n  '\"Amgen\"',\n  '\"$40',\n  '000\"',\n  '\"$0\"',\n  '\"$40',\n  '000\"',\n  '\"2011\"',\n  '\"20110302\"',\n  '\"employment-related offenses\"',\n  '\"labor relations violation\"',\n  '\"\"',\n  '\"back pay award in unfair labor practices case\"',\n  '\"federal\"',\n  '\"agency action\"',\n  '\"National Labor Relations Board\"',\n  '\"civil\"',\n  '\"\"',\n  '\"\"',\n  '\"14-CA-30273-001\"',\n  '\"\"',\n  '\"\"',\n  '\"Missouri\"',\n  '\"St. Louis\"',\n  '\"\"',\n  '\"63130\"',\n  '\"541720\"',\n  '\"541720: Research and Development in the Social Sciences and Humanities\"',\n  '\"USA\"',\n  '\"California\"',\n  '\"publicly traded\"',\n  '\"AMGN\"',\n  '\"pharmaceuticals\"',\n  '\"pharmaceuticals\"',\n  '\"Extracted from an NLRB dataset covering 1999-2011 downloaded at https://catalog.data.gov/dataset/nlrb-cats-final-c-case-data-bulk-19990101-20110930-in-xml\"',\n  '\"\"'],\n ['\"Amneal Pharmaceuticals of NY',\n  ' LLC\"',\n  '\"Amneal Pharmaceuticals\"',\n  '\"$99',\n  '000\"',\n  '\"$0\"',\n  '\"$99',\n  '000\"',\n  '\"2015\"',\n  '\"20150930\"',\n  '\"employment-related offenses\"',\n  '\"employment discrimination\"',\n  '\"\"',\n  '\"\"',\n  '\"federal\"',\n  '\"agency action\"',\n  '\"Office of Federal Contract Compliance Programs\"',\n  '\"civil\"',\n  '\"\"',\n  '\"\"',\n  '\"\"',\n  '\"\"',\n  '\"\"',\n  '\"\"',\n  '\"\"',\n  '\"\"',\n  '\"\"',\n  '\"\"',\n  '\"\"',\n  '\"USA\"',\n  '\"New Jersey\"',\n  '\"publicly traded\"',\n  '\"AMRX\"',\n  '\"pharmaceuticals\"',\n  '\"pharmaceuticals\"',\n  '\"https://www.dol.gov/ofccp/foia/files/AmnealPharmaceuticalsCA_Redacted.pdf\"',\n  '\"\"'],\n ['\"Astellas Pharma US Inc.\"',\n  '\"Astellas Pharma\"',\n  '\"$7',\n  '300',\n  '000\"',\n  '\"$0\"',\n  '\"$7',\n  '300',\n  '000\"',\n  '\"2014\"',\n  '\"20140416\"',\n  '\"government-contracting-related offenses\"',\n  '\"False Claims Act and related\"',\n  '\"off-label or unapproved promotion of medical products\"',\n  '\"Astellas Pharma US Inc. agreed to pay $7.3 million to resolve allegations that it violated the False Claims Act in connection with its marketing and promotion of the drug Mycamine for pediatric use',\n  ' which had not received FDA approval.\"',\n  '\"federal\"',\n  '\"agency action\"',\n  '\"Justice Department Civil Division\"',\n  '\"civil\"',\n  '\"\"',\n  '\"\"',\n  '\"\"',\n  '\"\"',\n  '\"\"',\n  '\"\"',\n  '\"\"',\n  '\"\"',\n  '\"\"',\n  '\"\"',\n  '\"\"',\n  '\"Japan\"',\n  '\"\"',\n  '\"publicly traded\"',\n  '\"\"',\n  '\"pharmaceuticals\"',\n  '\"pharmaceuticals\"',\n  '\"https://www.justice.gov/opa/pr/astellas-pharma-us-inc-pay-73-million-resolve-false-claims-act-allegations-relating-marketing\"',\n  '\"\"'],\n ['\"AstraZeneca\"',\n  '\"AstraZeneca\"',\n  '\"$250',\n  '000\"',\n  '\"$0\"',\n  '\"$250',\n  '000\"',\n  '\"2011\"',\n  '\"20110606\"',\n  '\"employment-related offenses\"',\n  '\"employment discrimination\"',\n  '\"\"',\n  '\"AstraZeneca agreed to pay $250',\n  \"000 to 124 women who allegedly were subjected to pay discrimination while working at the corporation's Philadelphia Business Center in Wayne\",\n  ' Pa. The action resolved a lawsuit filed by the U.S. Department of Labor in May 2010 alleging that the company discriminated against female sales specialists by paying them salaries that were',\n  ' on average',\n  ' $1',\n  '700 less than their male counterparts. \"',\n  '\"federal\"',\n  '\"agency action\"',\n  '\"Office of Federal Contract Compliance Programs\"',\n  '\"civil\"',\n  '\"\"',\n  '\"\"',\n  '\"\"',\n  '\"\"',\n  '\"\"',\n  '\"Pennsylvania\"',\n  '\"Wayne\"',\n  '\"\"',\n  '\"\"',\n  '\"\"',\n  '\"\"',\n  '\"United Kingdom\"',\n  '\"\"',\n  '\"publicly traded\"',\n  '\"LSE: AZN\"',\n  '\"pharmaceuticals\"',\n  '\"pharmaceuticals\"',\n  '\"https://www.dol.gov/opa/media/press/ofccp/OFCCP20110829.htm\"',\n  '\"\"'],\n ['\"AstraZeneca LP\"',\n  '\"AstraZeneca\"',\n  '\"$520',\n  '000',\n  '000\"',\n  '\"$0\"',\n  '\"$520',\n  '000',\n  '000\"',\n  '\"2010\"',\n  '\"20100427\"',\n  '\"healthcare-related offenses\"',\n  '\"off-label or unapproved promotion of medical products\"',\n  '\"\"',\n  '\"AstraZeneca LP and AstraZeneca Pharmaceuticals LP will pay $520 million to resolve allegations that AstraZeneca illegally marketed the anti-psychotic drug Seroquel for uses not approved as safe and effective by the Food and Drug Administration',\n  ' the Departments of Justice and Health and Human Services\\' Health Care Fraud Enforcement Action Team.\"',\n  '\"federal\"',\n  '\"agency action\"',\n  '\"Food and Drug Administration referral to the Justice Department\"',\n  '\"civil\"',\n  '\"\"',\n  '\"\"',\n  '\"\"',\n  '\"\"',\n  '\"\"',\n  '\"\"',\n  '\"\"',\n  '\"\"',\n  '\"\"',\n  '\"\"',\n  '\"\"',\n  '\"United Kingdom\"',\n  '\"\"',\n  '\"publicly traded\"',\n  '\"LSE: AZN\"',\n  '\"pharmaceuticals\"',\n  '\"pharmaceuticals\"',\n  '\"http://www.justice.gov/opa/pr/pharmaceutical-giant-astrazeneca-pay-520-million-label-drug-marketing\"',\n  '\"\"'],\n ['\"AstraZeneca LP\"',\n  '\"AstraZeneca\"',\n  '\"$46',\n  '500',\n  '000\"',\n  '\"$0\"',\n  '\"$46',\n  '500',\n  '000\"',\n  '\"2015\"',\n  '\"20150706\"',\n  '\"government-contracting-related offenses\"',\n  '\"False Claims Act and related\"',\n  '\"\"',\n  '\"AstraZeneca LP agreed to pay the United States and participating states a total of $46.5 million',\n  ' plus interest',\n  ' to resolve allegations that it knowingly underpaid rebates owed under the Medicaid Drug Rebate Program.\"',\n  '\"federal\"',\n  '\"agency action\"',\n  '\"Justice Department Civil Division\"',\n  '\"civil\"',\n  '\"\"',\n  '\"\"',\n  '\"\"',\n  '\"\"',\n  '\"\"',\n  '\"\"',\n  '\"\"',\n  '\"\"',\n  '\"\"',\n  '\"\"',\n  '\"\"',\n  '\"United Kingdom\"',\n  '\"\"',\n  '\"publicly traded\"',\n  '\"LSE: AZN\"',\n  '\"pharmaceuticals\"',\n  '\"pharmaceuticals\"',\n  '\"https://www.justice.gov/opa/pr/astrazeneca-and-cephalon-pay-465-million-and-75-million-respectively-allegedly-underpaying\"',\n  '\"\"'],\n ['\"AstraZeneca LP\"',\n  '\"AstraZeneca\"',\n  '\"$7',\n  '900',\n  '000\"',\n  '\"$0\"',\n  '\"$7',\n  '900',\n  '000\"',\n  '\"2015\"',\n  '\"20150211\"',\n  '\"government-contracting-related offenses\"',\n  '\"False Claims Act and related\"',\n  '\"kickbacks and bribery\"',\n  '\"AstraZeneca LP',\n  ' a pharmaceutical manufacturer based in Delaware',\n  ' agreed to pay the government $7.9 million to settle allegations that it engaged in a kickback scheme in violation of the False Claims Act.\"',\n  '\"federal\"',\n  '\"agency action\"',\n  '\"Justice Department Civil Division\"',\n  '\"civil\"',\n  '\"\"',\n  '\"\"',\n  '\"\"',\n  '\"\"',\n  '\"\"',\n  '\"\"',\n  '\"\"',\n  '\"\"',\n  '\"\"',\n  '\"\"',\n  '\"\"',\n  '\"United Kingdom\"',\n  '\"\"',\n  '\"publicly traded\"',\n  '\"LSE: AZN\"',\n  '\"pharmaceuticals\"',\n  '\"pharmaceuticals\"',\n  '\"https://www.justice.gov/opa/pr/astrazeneca-pay-79-million-resolve-kickback-allegations\"',\n  '\"\"'],\n ['\"AstraZeneca Pharmaceuticals\"',\n  '\"AstraZeneca\"',\n  '\"$2',\n  '600',\n  '000\"',\n  '\"$0\"',\n  '\"$2',\n  '600',\n  '000\"',\n  '\"2009\"',\n  '\"20091019\"',\n  '\"government-contracting-related offenses\"',\n  '\"False Claims Act and related\"',\n  '\"\"',\n  '\"Mylan Pharmaceuticals',\n  ' UDL Laboratories',\n  ' AstraZeneca Pharmaceuticals and Ortho McNeil Pharmaceutical entered into settlement agreements for a tot\n\n*** WARNING: max output size exceeded, skipping output. ***\n\n '\"pharmaceuticals\"',\n  '\"pharmaceuticals\"',\n  '\"https://www.justice.gov/opa/pr/incyte-corporation-pay-126-million-resolve-false-claims-act-allegations-paying-kickbacks\"',\n  '\"\"'],\n ['\"Bristol-Myers Squibb\"',\n  '\"Bristol-Myers Squibb\"',\n  '\"$75',\n  '000',\n  '000\"',\n  '\"$0\"',\n  '\"$75',\n  '000',\n  '000\"',\n  '\"2021\"',\n  '\"20210401\"',\n  '\"government-contracting-related offenses\"',\n  '\"False Claims Act and related\"',\n  '\"\"',\n  '\"Bristol-Myers Squibb agreed to pay the United States and participating states a total of $75 million',\n  ' plus interest',\n  ' to resolve allegations that it knowingly underpaid rebates owed under the Medicaid Drug Rebate Program. Of that amount',\n  ' BMS will pay approximately $41 million',\n  ' plus interest',\n  ' to the United States',\n  ' and the remainder to states participating in the settlement.\"',\n  '\"federal\"',\n  '\"agency action\"',\n  '\"U.S. Attorney-Eastern District of Pennsylvania\"',\n  '\"civil\"',\n  '\"\"',\n  '\"\"',\n  '\"\"',\n  '\"\"',\n  '\"\"',\n  '\"\"',\n  '\"\"',\n  '\"\"',\n  '\"\"',\n  '\"\"',\n  '\"\"',\n  '\"USA\"',\n  '\"New York\"',\n  '\"publicly traded\"',\n  '\"BMY\"',\n  '\"pharmaceuticals\"',\n  '\"pharmaceuticals\"',\n  '\"https://www.justice.gov/usao-edpa/pr/bristol-myers-squibb-pay-75-million-resolve-false-claims-act-allegations-underpayment\"',\n  '\"\"'],\n ['\"Morton Grove Pharmaceuticals',\n  ' Inc.\"',\n  '\"Wockhardt Limited\"',\n  '\"$9',\n  '000\"',\n  '\"$0\"',\n  '\"$9',\n  '000\"',\n  '\"2007\"',\n  '\"20070829\"',\n  '\"miscellaneous offenses\"',\n  '\"campaign finance violation\"',\n  '\"\"',\n  '\"\"',\n  '\"federal\"',\n  '\"agency action\"',\n  '\"Federal Election Commission\"',\n  '\"civil\"',\n  '\"\"',\n  '\"\"',\n  '\"\"',\n  '\"\"',\n  '\"\"',\n  '\"\"',\n  '\"\"',\n  '\"\"',\n  '\"\"',\n  '\"\"',\n  '\"\"',\n  '\"India\"',\n  '\"\"',\n  '\"publicly traded\"',\n  '\"\"',\n  '\"pharmaceuticals\"',\n  '\"pharmaceuticals\"',\n  '\"https://www.fec.gov/data/legal/matter-under-review/5784/\"',\n  '\"\"'],\n ['\"BAUSCH AND LOMB PHARMACEUTICALS',\n  ' INC.\"',\n  '\"Bausch Health\"',\n  '\"$7',\n  '000\"',\n  '\"$0\"',\n  '\"$7',\n  '000\"',\n  '\"2000\"',\n  '\"20000321\"',\n  '\"safety-related offenses\"',\n  '\"workplace safety or health violation\"',\n  '\"\"',\n  '\"\"',\n  '\"federal\"',\n  '\"agency action\"',\n  '\"Occupational Safety & Health Administration\"',\n  '\"civil\"',\n  '\"\"',\n  '\"\"',\n  '\"\"',\n  '\"\"',\n  '\"\"',\n  '\"Florida\"',\n  '\"TAMPA\"',\n  '\"8500 HIDDEN RIVER PARKWAY\"',\n  '\"33637\"',\n  '\"000000\"',\n  '\"\"',\n  '\"Canada\"',\n  '\"\"',\n  '\"publicly traded\"',\n  '\"BHC\"',\n  '\"pharmaceuticals\"',\n  '\"pharmaceuticals\"',\n  '\"Extracted from a download of OSHA\\'s Enforcment Data downloaded on 9/16/2021',\n  ' available at https://enforcedata.dol.gov/views/data_catalogs.php\"',\n  '\"\"'],\n ['\"MALLINCKRODT INC.\"',\n  '\"Mallinckrodt\"',\n  '\"$7',\n  '000\"',\n  '\"$0\"',\n  '\"$7',\n  '000\"',\n  '\"2000\"',\n  '\"20000607\"',\n  '\"safety-related offenses\"',\n  '\"workplace safety or health violation\"',\n  '\"\"',\n  '\"\"',\n  '\"federal\"',\n  '\"agency action\"',\n  '\"Occupational Safety & Health Administration\"',\n  '\"civil\"',\n  '\"\"',\n  '\"\"',\n  '\"\"',\n  '\"\"',\n  '\"\"',\n  '\"Missouri\"',\n  '\"ST. LOUIS\"',\n  '\"MALLINCKRODT & SECOND STREETS Z-4\"',\n  '\"63147\"',\n  '\"000000\"',\n  '\"\"',\n  '\"Ireland\"',\n  '\"\"',\n  '\"publicly traded\"',\n  '\"MNK\"',\n  '\"pharmaceuticals\"',\n  '\"pharmaceuticals\"',\n  '\"Extracted from a download of OSHA\\'s Enforcment Data downloaded on 9/16/2021',\n  ' available at https://enforcedata.dol.gov/views/data_catalogs.php\"',\n  '\"\"'],\n ['\"DURAMED PHARMACEUTICALS',\n  ' INC.\"',\n  '\"Teva Pharmaceutical Industries\"',\n  '\"$7',\n  '000\"',\n  '\"$0\"',\n  '\"$7',\n  '000\"',\n  '\"2001\"',\n  '\"20010823\"',\n  '\"safety-related offenses\"',\n  '\"workplace safety or health violation\"',\n  '\"\"',\n  '\"\"',\n  '\"federal\"',\n  '\"agency action\"',\n  '\"Occupational Safety & Health Administration\"',\n  '\"civil\"',\n  '\"\"',\n  '\"\"',\n  '\"\"',\n  '\"\"',\n  '\"\"',\n  '\"Ohio\"',\n  '\"CINCINNATI\"',\n  '\"5040 DURAMED ROAD\"',\n  '\"45213\"',\n  '\"000000\"',\n  '\"\"',\n  '\"Israel\"',\n  '\"\"',\n  '\"publicly traded\"',\n  '\"TEVA\"',\n  '\"pharmaceuticals\"',\n  '\"pharmaceuticals\"',\n  '\"Extracted from a download of OSHA\\'s Enforcment Data downloaded on 9/16/2021',\n  ' available at https://enforcedata.dol.gov/views/data_catalogs.php\"',\n  '\"\"'],\n ['\"TEVA PHARMACEUTICALS INC.\"',\n  '\"Teva Pharmaceutical Industries\"',\n  '\"$15',\n  '300\"',\n  '\"$0\"',\n  '\"$15',\n  '300\"',\n  '\"2002\"',\n  '\"20020828\"',\n  '\"safety-related offenses\"',\n  '\"workplace safety or health violation\"',\n  '\"\"',\n  '\"\"',\n  '\"federal\"',\n  '\"agency action\"',\n  '\"Occupational Safety & Health Administration\"',\n  '\"civil\"',\n  '\"\"',\n  '\"\"',\n  '\"\"',\n  '\"\"',\n  '\"\"',\n  '\"Missouri\"',\n  '\"MEXICO\"',\n  '\"5000 SNYDER DRIVE\"',\n  '\"65265\"',\n  '\"325412\"',\n  '\"325412: Pharmaceutical Preparation Manufacturing\"',\n  '\"Israel\"',\n  '\"\"',\n  '\"publicly traded\"',\n  '\"TEVA\"',\n  '\"pharmaceuticals\"',\n  '\"pharmaceuticals\"',\n  '\"Extracted from a download of OSHA\\'s Enforcment Data downloaded on 9/16/2021',\n  ' available at https://enforcedata.dol.gov/views/data_catalogs.php\"',\n  '\"\"'],\n ['\"K V PHARMACEUTICAL\"',\n  '\"KV Pharmaceutical\"',\n  '\"$9',\n  '000\"',\n  '\"$0\"',\n  '\"$9',\n  '000\"',\n  '\"2000\"',\n  '\"20000120\"',\n  '\"safety-related offenses\"',\n  '\"workplace safety or health violation\"',\n  '\"\"',\n  '\"\"',\n  '\"federal\"',\n  '\"agency action\"',\n  '\"Occupational Safety & Health Administration\"',\n  '\"civil\"',\n  '\"\"',\n  '\"\"',\n  '\"\"',\n  '\"\"',\n  '\"\"',\n  '\"Missouri\"',\n  '\"ST. LOUIS\"',\n  '\"2303 SCHUETZ\"',\n  '\"63146\"',\n  '\"000000\"',\n  '\"\"',\n  '\"USA\"',\n  '\"Missouri\"',\n  '\"out of business\"',\n  '\"\"',\n  '\"pharmaceuticals\"',\n  '\"pharmaceuticals\"',\n  '\"Extracted from a download of OSHA\\'s Enforcment Data downloaded on 9/16/2021',\n  ' available at https://enforcedata.dol.gov/views/data_catalogs.php\"',\n  '\"\"'],\n ['\"IMPAX LABORATORIES',\n  ' INC\"',\n  '\"Amneal Pharmaceuticals\"',\n  '\"$18',\n  '000\"',\n  '\"$0\"',\n  '\"$18',\n  '000\"',\n  '\"2004\"',\n  '\"20040617\"',\n  '\"safety-related offenses\"',\n  '\"workplace safety or health violation\"',\n  '\"\"',\n  '\"\"',\n  '\"federal\"',\n  '\"agency action\"',\n  '\"Occupational Safety & Health Administration\"',\n  '\"civil\"',\n  '\"\"',\n  '\"\"',\n  '\"\"',\n  '\"\"',\n  '\"\"',\n  '\"California\"',\n  '\"HAYWARD\"',\n  '\"30831 HUNTWOOD AVE\"',\n  '\"94544\"',\n  '\"325412\"',\n  '\"325412: Pharmaceutical Preparation Manufacturing\"',\n  '\"USA\"',\n  '\"New Jersey\"',\n  '\"publicly traded\"',\n  '\"AMRX\"',\n  '\"pharmaceuticals\"',\n  '\"pharmaceuticals\"',\n  '\"Extracted from a download of OSHA\\'s Enforcment Data downloaded on 9/16/2021',\n  ' available at https://enforcedata.dol.gov/views/data_catalogs.php\"',\n  '\"\"'],\n ['\"ALPHARMA ANIMAL HEALTH COMPANY\"',\n  '\"Zoetis\"',\n  '\"$18',\n  '300\"',\n  '\"$0\"',\n  '\"$18',\n  '300\"',\n  '\"2001\"',\n  '\"20010925\"',\n  '\"safety-related offenses\"',\n  '\"workplace safety or health violation\"',\n  '\"\"',\n  '\"\"',\n  '\"federal\"',\n  '\"agency action\"',\n  '\"Occupational Safety & Health Administration\"',\n  '\"civil\"',\n  '\"\"',\n  '\"\"',\n  '\"\"',\n  '\"\"',\n  '\"\"',\n  '\"Arkansas\"',\n  '\"LOWELL\"',\n  '\"415 BLOOMINGTON\"',\n  '\"72745\"',\n  '\"000000\"',\n  '\"\"',\n  '\"USA\"',\n  '\"New Jersey\"',\n  '\"publicly traded\"',\n  '\"ZTS\"',\n  '\"pharmaceuticals\"',\n  '\"animal health products\"',\n  '\"Extracted from a download of OSHA\\'s Enforcment Data downloaded on 9/16/2021',\n  ' available at https://enforcedata.dol.gov/views/data_catalogs.php\"',\n  '\"\"'],\n ['\"GILEAD SCIENCES\"',\n  '\"Gilead Sciences\"',\n  '\"$5',\n  '700\"',\n  '\"$0\"',\n  '\"$5',\n  '700\"',\n  '\"2000\"',\n  '\"20000128\"',\n  '\"safety-related offenses\"',\n  '\"workplace safety or health violation\"',\n  '\"\"',\n  '\"\"',\n  '\"federal\"',\n  '\"agency action\"',\n  '\"Occupational Safety & Health Administration\"',\n  '\"civil\"',\n  '\"\"',\n  '\"\"',\n  '\"\"',\n  '\"\"',\n  '\"\"',\n  '\"California\"',\n  '\"FOSTER CITY\"',\n  '\"333 LAKESIDE DRIVE\"',\n  '\"94404\"',\n  '\"000000\"',\n  '\"\"',\n  '\"USA\"',\n  '\"California\"',\n  '\"publicly traded\"',\n  '\"GILD\"',\n  '\"pharmaceuticals\"',\n  '\"pharmaceuticals\"',\n  '\"Extracted from a download of OSHA\\'s Enforcment Data downloaded on 9/16/2021',\n  ' available at https://enforcedata.dol.gov/views/data_catalogs.php\"',\n  '\"\"'],\n ['\"CHIRON CORPORATION\"',\n  '\"Novartis\"',\n  '\"$90',\n  '140\"',\n  '\"$0\"',\n  '\"$90',\n  '140\"',\n  '\"2000\"',\n  '\"20000607\"',\n  '\"safety-related offenses\"',\n  '\"workplace safety or health violation\"',\n  '\"\"',\n  '\"\"',\n  '\"federal\"',\n  '\"agency action\"',\n  '\"Occupational Safety & Health Administration\"',\n  '\"civil\"',\n  '\"\"',\n  '\"\"',\n  '\"\"',\n  '\"\"',\n  '\"\"',\n  '\"California\"',\n  '\"EMERYVILLE\"',\n  '\"6455 CHRISTIE AVE\"',\n  '\"94608\"',\n  '\"000000\"',\n  '\"\"',\n  '\"Switzerland\"',\n  '\"\"',\n  '\"publicly traded\"',\n  '\"NYSE: NVS\"',\n  '\"pharmaceuticals\"',\n  '\"pharmaceuticals\"',\n  '\"Extracted from a download of OSHA\\'s Enforcment Data downloaded on 9/16/2021',\n  ' available at https://enforcedata.dol.gov/views/data_catalogs.php\"',\n  '\"\"'],\n ['\"PHIBRO-TECH INC.\"',\n  '\"Phibro Animal Health\"',\n  '\"$31',\n  '600\"',\n  '\"$0\"',\n  '\"$31',\n  '600\"',\n  '\"2000\"',\n  '\"20000711\"',\n  '\"safety-related offenses\"',\n  '\"workplace safety or health violation\"',\n  '\"\"',\n  '\"\"',\n  '\"federal\"',\n  '\"agency action\"',\n  '\"Occupational Safety & Health Administration\"',\n  '\"civil\"',\n  '\"\"',\n  '\"\"',\n  '\"\"',\n  '\"\"',\n  '\"\"',\n  '\"California\"',\n  '\"UNION CITY\"',\n  '\"34400 ZWISSIG WAY\"',\n  '\"94587\"',\n  '\"000000\"',\n  '\"\"',\n  '\"USA\"',\n  '\"New Jersey\"',\n  '\"publicly traded\"',\n  '\"PAHC\"',\n  '\"pharmaceuticals\"',\n  '\"animal health products\"',\n  '\"Extracted from a download of OSHA\\'s Enforcment Data downloaded on 9/16/2021',\n  ' available at https://enforcedata.dol.gov/views/data_catalogs.php\"',\n  '\"\"'],\n ['\"TEVA SICOR\"',\n  '\"Teva Pharmaceutical Industries\"',\n  '\"$5',\n  '000\"',\n  '\"$0\"',\n  '\"$5',\n  '000\"',\n  '\"2005\"',\n  '\"20051212\"',\n  '\"safety-related offenses\"',\n  '\"workplace safety or health violation\"',\n  '\"\"',\n  '\"\"',\n  '\"federal\"',\n  '\"agency action\"',\n  '\"Occupational Safety & Health Administration\"',\n  '\"civil\"',\n  '\"\"',\n  '\"\"',\n  '\"\"',\n  '\"\"',\n  '\"\"',\n  '\"California\"',\n  '\"IRVINE\"',\n  '\"19 HUGHES\"',\n  '\"92618\"',\n  '\"325412\"',\n  '\"325412: Pharmaceutical Preparation Manufacturing\"',\n  '\"Israel\"',\n  '\"\"',\n  '\"publicly traded\"',\n  '\"TEVA\"',\n  '\"pharmaceuticals\"',\n  '\"pharmaceuticals\"',\n  '\"Extracted from a download of OSHA\\'s Enforcment Data downloaded on 9/16/2021',\n  ' available at https://enforcedata.dol.gov/views/data_catalogs.php\"',\n  '\"\"'],\n ['\"PHARMAVITE CORP\"',\n  '\"Otsuka Pharmaceutical\"',\n  '\"$18',\n  '300\"',\n  '\"$0\"',\n  '\"$18',\n  '300\"',\n  '\"2001\"',\n  '\"20011115\"',\n  '\"safety-related offenses\"',\n  '\"workplace safety or health violation\"',\n  '\"\"',\n  '\"\"',\n  '\"federal\"',\n  '\"agency action\"',\n  '\"Occupational Safety & Health Administration\"',\n  '\"civil\"',\n  '\"\"',\n  '\"\"',\n  '\"\"',\n  '\"\"',\n  '\"\"',\n  '\"California\"',\n  '\"SAN FERNANDO\"',\n  '\"1150 AVIATION PLACE\"',\n  '\"91340\"',\n  '\"000000\"',\n  '\"\"',\n  '\"Japan\"',\n  '\"\"',\n  '\"publicly traded\"',\n  '\"\"',\n  '\"pharmaceuticals\"',\n  '\"pharmaceuticals\"',\n  '\"Extracted from a download of OSHA\\'s Enforcment Data downloaded on 9/16/2021',\n  ' available at https://enforcedata.dol.gov/views/data_catalogs.php\"',\n  '\"\"'],\n ['\"PHARMAVITE\"',\n  '\"Otsuka Pharmaceutical\"',\n  '\"$20',\n  '055\"',\n  '\"$0\"',\n  '\"$20',\n  '055\"',\n  '\"2005\"',\n  '\"20050503\"',\n  '\"safety-related offenses\"',\n  '\"workplace safety or health violation\"',\n  '\"\"',\n  '\"\"',\n  '\"federal\"',\n  '\"agency action\"',\n  '\"Occupational Safety & Health Administration\"',\n  '\"civil\"',\n  '\"\"',\n  '\"\"',\n  '\"\"',\n  '\"\"',\n  '\"\"',\n  '\"California\"',\n  '\"SAN FERNANADO\"',\n  '\"1150 AVIATION PLACE\"',\n  '\"91342\"',\n  '\"325412\"',\n  '\"325412: Pharmaceutical Preparation Manufacturing\"',\n  '\"Japan\"',\n  '\"\"',\n  '\"publicly traded\"',\n  '\"\"',\n  '\"pharmaceuticals\"',\n  '\"pharmaceuticals\"',\n  '\"Extracted from a download of OSHA\\'s Enforcment Data downloaded on 9/16/2021',\n  ' available at https://enforcedata.dol.gov/views/data_catalogs.php\"',\n  '\"\"'],\n ['\"GENENTECH\"',\n  '\"Roche\"',\n  '\"$11',\n  '240\"',\n  '\"$0\"',\n  '\"$11',\n  '240\"',\n  '\"2003\"',\n  '\"20030116\"',\n  '\"safety-related offenses\"',\n  '\"workplace safety or health violation\"',\n  '\"\"',\n  '\"\"',\n  '\"federal\"',\n  '\"agency action\"',\n  '\"Occupational Safety & Health Administration\"',\n  '\"civil\"',\n  '\"\"',\n  '\"\"',\n  '\"\"',\n  '\"\"',\n  '\"\"',\n  '\"California\"',\n  '\"SOUTH SAN FRANCISCO\"',\n  '\"1 DNA WAY',\n  ' BLDG. #5 STABILITY LABS\"',\n  '\"94080\"',\n  '\"325412\"',\n  '\"325412: Pharmaceutical Preparation Manufacturing\"',\n  '\"Switzerland\"',\n  '\"\"',\n  '\"publicly traded\"',\n  '\"\"',\n  '\"pharmaceuticals\"',\n  '\"pharmaceuticals\"',\n  '\"Extracted from a download of OSHA\\'s Enforcment Data downloaded on 9/16/2021',\n  ' available at https://enforcedata.dol.gov/views/data_catalogs.php\"',\n  '\"\"'],\n ['\"ELAN PHARMACEUTICALS INC.\"',\n  '\"Perrigo\"',\n  '\"$7',\n  '125\"',\n  '\"$0\"',\n  '\"$7',\n  '125\"',\n  '\"2003\"',\n  '\"20030910\"',\n  '\"safety-related offenses\"',\n  '\"workplace safety or health violation\"',\n  '\"\"',\n  '\"\"',\n  '\"federal\"',\n  '\"agency action\"',\n  '\"Occupational Safety & Health Administration\"',\n  '\"civil\"',\n  '\"\"',\n  '\"\"',\n  '\"\"',\n  '\"\"',\n  '\"\"',\n  '\"California\"',\n  '\"SOUTH SAN FRANCISCO\"',\n  '\"800 GATEWAY BLVD.\"',\n  '\"94080\"',\n  '\"325412\"',\n  '\"325412: Pharmaceutical Preparation Manufacturing\"',\n  '\"Ireland\"',\n  '\"\"',\n  '\"publicly traded\"',\n  '\"PRGO\"',\n  '\"pharmaceuticals\"',\n  '\"pharmaceuticals\"',\n  '\"Extracted from a download of OSHA\\'s Enforcment Data downloaded on 9/16/2021',\n  ' available at https://enforcedata.dol.gov/views/data_catalogs.php\"',\n  '\"\"'],\n ['\"ELAN PHARMACEUTICALS INC.\"',\n  '\"Perrigo\"',\n  '\"$18',\n  '225\"',\n  '\"$0\"',\n  '\"$18',\n  '225\"',\n  '\"2004\"',\n  '\"20040809\"',\n  '\"safety-related offenses\"',\n  '\"workplace safety or health violation\"',\n  '\"\"',\n  '\"\"',\n  '\"federal\"',\n  '\"agency action\"',\n  '\"Occupational Safety & Health Administration\"',\n  '\"civil\"',\n  '\"\"',\n  '\"\"',\n  '\"\"',\n  '\"\"',\n  '\"\"',\n  '\"California\"',\n  '\"SOUTH SAN FRANCISCO\"',\n  '\"800 GATEWAY BLVD.\"',\n  '\"94080\"',\n  '\"325412\"',\n  '\"325412: Pharmaceutical Preparation Manufacturing\"',\n  '\"Ireland\"',\n  '\"\"',\n  '\"publicly traded\"',\n  '\"PRGO\"',\n  '\"pharmaceuticals\"',\n  '\"pharmaceuticals\"',\n  '\"Extracted from a download of OSHA\\'s Enforcment Data downloaded on 9/16/2021',\n  ' available at https://enforcedata.dol.gov/views/data_catalogs.php\"',\n  '\"\"'],\n ['\"AMPHASTAR PHARMACEUTICALS INC\"',\n  '\"Amphastar Pharmaceuticals\"',\n  '\"$18',\n  '500\"',\n  '\"$0\"',\n  '\"$18',\n  '500\"',\n  '\"2002\"',\n  '\"20021011\"',\n  '\"safety-related offenses\"',\n  '\"workplace safety or health violation\"',\n  '\"\"',\n  '\"\"',\n  '\"federal\"',\n  '\"agency action\"',\n  '\"Occupational Safety & Health Administration\"',\n  '\"civil\"',\n  '\"\"',\n  '\"\"',\n  '\"\"',\n  '\"\"',\n  '\"\"',\n  '\"California\"',\n  '\"RANCHO CUCAMONGA\"',\n  '\"11570 6TH ST\"',\n  '\"91730\"',\n  '\"325412\"',\n  '\"325412: Pharmaceutical Preparation Manufacturing\"',\n  '\"USA\"',\n  '\"California\"',\n  '\"publicly traded\"',\n  '\"AMPH\"',\n  '\"pharmaceuticals\"',\n  '\"pharmaceuticals\"',\n  '\"Extracted from a download of OSHA\\'s Enforcment Data downloaded on 9/16/2021',\n  ' available at https://enforcedata.dol.gov/views/data_catalogs.php\"',\n  '\"\"'],\n ['\"BAXTER HEALTHCARE CORP DBA BAXTER BIOSCIENCE\"',\n  '\"Takeda Pharmaceutical\"',\n  '\"$195',\n  '000\"',\n  '\"$0\"',\n  '\"$195',\n  '000\"',\n  '\"2011\"',\n  '\"20110121\"',\n  '\"safety-related offenses\"',\n  '\"workplace safety or health violation\"',\n  '\"\"',\n  '\"\"',\n  '\"federal\"',\n  '\"agency action\"',\n  '\"Occupational Safety & Health Administration\"',\n  '\"civil\"',\n  '\"\"',\n  '\"\"',\n  '\"\"',\n  '\"\"',\n  '\"\"',\n  '\"California\"',\n  '\"LOS ANGELES\"',\n  '\"4501 COLORADO BLVD.\"',\n  '\"90039\"',\n  '\"325412\"',\n  '\"325412: Pharmaceutical Preparation Manufacturing\"',\n  '\"Japan\"',\n  '\"\"',\n  '\"publicly traded\"',\n  '\"\"',\n  '\"pharmaceuticals\"',\n  '\"pharmaceuticals\"',\n  '\"Extracted from a download of OSHA\\'s Enforcment Data downloaded on 9/16/2021',\n  ' available at https://enforcedata.dol.gov/views/data_catalogs.php\"',\n  '\"\"'],\n ['\"ROCHE MOLECULAR SYSTEMS INC\"',\n  '\"Roche\"',\n  '\"$9',\n  '225\"',\n  '\"$0\"',\n  '\"$9',\n  '225\"',\n  '\"2002\"',\n  '\"20021105\"',\n  '\"safety-related offenses\"',\n  '\"workplace safety or health violation\"',\n  '\"\"',\n  '\"\"',\n  '\"federal\"',\n  '\"agency action\"',\n  '\"Occupational Safety & Health Administration\"',\n  '\"civil\"',\n  '\"\"',\n  '\"\"',\n  '\"\"',\n  '\"\"',\n  '\"\"',\n  '\"California\"',\n  '\"ALAMEDA\"',\n  '\"1145 ATLANTIC AVE\"',\n  '\"94501\"',\n  '\"000000\"',\n  '\"\"',\n  '\"Switzerland\"',\n  '\"\"',\n  '\"publicly traded\"',\n  '\"\"',\n  '\"pharmaceuticals\"',\n  '\"pharmaceuticals\"',\n  '\"Extracted from a download of OSHA\\'s Enforcment Data downloaded on 9/16/2021',\n  ' available at https://enforcedata.dol.gov/views/data_catalogs.php\"',\n  '\"\"'],\n ['\"PHIBRO-TECH',\n  ' INC.\"',\n  '\"Phibro Animal Health\"',\n  '\"$10',\n  '950\"',\n  '\"$0\"',\n  '\"$10',\n  '950\"',\n  '\"2000\"',\n  '\"20000912\"',\n  '\"safety-related offenses\"',\n  '\"workplace safety or health violation\"',\n  '\"\"',\n  '\"\"',\n  '\"federal\"',\n  '\"agency action\"',\n  '\"Occupational Safety & Health Administration\"',\n  '\"civil\"',\n  '\"\"',\n  '\"\"',\n  '\"\"',\n  '\"\"',\n  '\"\"',\n  '\"South Carolina\"',\n  '\"SUMTER\"',\n  '\"2395 CAINS MILL RD.\"',\n  '\"29151\"',\n  '\"000000\"',\n  '\"\"',\n  '\"USA\"',\n  '\"New Jersey\"',\n  '\"publicly traded\"',\n  '\"PAHC\"',\n  '\"pharmaceuticals\"',\n  '\"animal health products\"',\n  '\"Extracted from a download of OSHA\\'s Enforcment Data downloaded on 9/16/2021',\n  ' available at https://enforcedata.dol.gov/views/data_catalogs.php\"',\n  '\"\"'],\n ['\"TEVA PHARMACEUTICAL\"',\n  '\"Teva Pharmaceutical Industries\"',\n  '\"$5',\n  '000\"',\n  '\"$0\"',\n  '\"$5',\n  '000\"',\n  '\"2000\"',\n  '\"20000809\"',\n  '\"safety-related offenses\"',\n  '\"workplace safety or health violation\"',\n  '\"\"',\n  '\"\"',\n  '\"federal\"',\n  '\"agency action\"',\n  '\"Occupational Safety & Health Administration\"',\n  '\"civil\"',\n  '\"\"',\n  '\"\"',\n  '\"\"',\n  '\"\"',\n  '\"\"',\n  '\"New Jersey\"',\n  '\"ELMWOOD PARK\"',\n  '\"92 ROUTE 46 EAST\"',\n  '\"07407\"',\n  '\"000000\"',\n  '\"\"',\n  '\"Israel\"',\n  '\"\"',\n  '\"publicly traded\"',\n  '\"TEVA\"',\n  '\"pharmaceuticals\"',\n  '\"pharmaceuticals\"',\n  '\"Extracted from a download of OSHA\\'s Enforcment Data downloaded on 9/16/2021',\n  ' available at https://enforcedata.dol.gov/views/data_catalogs.php\"',\n  '\"\"'],\n ['\"St. Jude Medical Inc.\"',\n  '\"Abbott Laboratories\"',\n  '\"$27',\n  '000',\n  '000\"',\n  '\"$0\"',\n  '\"$27',\n  '000',\n  '000\"',\n  '\"2021\"',\n  '\"20210708\"',\n  '\"safety-related offenses\"',\n  '\"drug or medical equipment safety violation\"',\n  '\"False Claims Act and related\"',\n  '\"St. Jude Medical Inc. agreed to pay $27 million to settle allegations under the False Claims Act that',\n  ' between November 2014 and October 2016',\n  ' it knowingly sold defective heart devices to health care facilities that',\n  ' in turn',\n  ' implanted the devices into patients insured by federal health care programs.\"',\n  '\"federal\"',\n  '\"agency action\"',\n  '\"Justice Department Civil Division\"',\n  '\"civil\"',\n  '\"\"',\n  '\"\"',\n  '\"\"',\n  '\"\"',\n  '\"\"',\n  '\"\"',\n  '\"\"',\n  '\"\"',\n  '\"\"',\n  '\"\"',\n  '\"\"',\n  '\"USA\"',\n  '\"Illinois\"',\n  '\"publicly traded\"',\n  '\"ABT\"',\n  '\"pharmaceuticals\"',\n  '\"pharmaceuticals\"',\n  '\"https://www.justice.gov/opa/pr/st-jude-agrees-pay-27-million-allegedly-selling-defective-heart-devices\"',\n  '\"\"'],\n ['\"Alere Inc.\"',\n  '\"Abbott Laboratories\"',\n  '\"$38',\n  '750',\n  '000\"',\n  '\"$0\"',\n  '\"$38',\n  '750',\n  '000\"',\n  '\"2021\"',\n  '\"20210708\"',\n  '\"government-contracting-related offenses\"',\n  '\"False Claims Act and related\"',\n  '\"drug or medical equipment safety violation\"',\n  '\"Medical device manufacturers Alere Inc. and Alere San Diego Inc. agreed to pay $38.75 million to resolve allegations that the companies violated the False Claims Act by billing',\n  ' and causing others to bill',\n  ' the Medicare program for defective rapid point-of-care testing devices.\"',\n  '\"federal\"',\n  '\"agency action\"',\n  '\"Justice Department Civil Division\"',\n  '\"civil\"',\n  '\"\"',\n  '\"\"',\n  '\"\"',\n  '\"\"',\n  '\"\"',\n  '\"\"',\n  '\"\"',\n  '\"\"',\n  '\"\"',\n  '\"\"',\n  '\"\"',\n  '\"USA\"',\n  '\"Illinois\"',\n  '\"publicly traded\"',\n  '\"ABT\"',\n  '\"pharmaceuticals\"',\n  '\"pharmaceuticals\"',\n  '\"https://www.justice.gov/opa/pr/medical-device-companies-alere-inc-and-alere-san-diego-inc-agree-pay-3875-million-settle\"',\n  '\"\"'],\n ['\"GlaxoSmithKline',\n  ' LLC\"',\n  '\"GlaxoSmithKline\"',\n  '\"$15',\n  '000',\n  '000\"',\n  '\"$0\"',\n  '\"$15',\n  '000',\n  '000\"',\n  '\"2013\"',\n  '\"20131217\"',\n  '\"healthcare-related offenses\"',\n  '\"off-label or unapproved promotion of medical products\"',\n  '\"False Claims Act and related\"',\n  '\"The Maryland Attorney announced the state had recovered $15 million from GlaxoSmithKline',\n  ' LLC',\n  ' resolving allegations that the company engaged in improper marketing of the prescription drugs Avandia',\n  ' Avandamet and Avandaryl',\n  ' all of which are used to treat diabetes.\"',\n  '\"state\"',\n  '\"agency action\"',\n  '\"Maryland Attorney General\"',\n  '\"civil\"',\n  '\"\"',\n  '\"\"',\n  '\"\"',\n  '\"\"',\n  '\"\"',\n  '\"Maryland\"',\n  '\"\"',\n  '\"\"',\n  '\"\"',\n  '\"\"',\n  '\"\"',\n  '\"United Kingdom\"',\n  '\"\"',\n  '\"publicly traded\"',\n  '\"LSE: GSK\"',\n  '\"pharmaceuticals\"',\n  '\"pharmaceuticals\"',\n  '\"https://www.marylandattorneygeneral.gov/press/2013/121713a.pdf\"',\n  '\"\"'],\n ['\"Purdue Pharma\"',\n  '\"Purdue Pharma\"',\n  '\"$10',\n  '000',\n  '000',\n  '000\"',\n  '\"$0\"',\n  '\"$10',\n  '000',\n  '000',\n  '000\"',\n  '\"2021\"',\n  '\"20210901\"',\n  '\"healthcare-related offenses\"',\n  '\"off-label or unapproved promotion of medical products\"',\n  '\"\"',\n  '\"A federal bankruptcy judge approved a deal worth an estimated $10 billion between Purdue Pharma and state governments (and others) that had sued the company over its role in causing and perpetuating the opioid crisis. The settlement included a plan under which Purdue Pharma would be converted into a trust with responsibility for distributing funds for treatment programs. The settlement included payment of $4.3 billion by the Sackler family',\n  ' which has controlled the company and which grew enormously wealthy from its operations. In exchange',\n  ' the family was granted immunity from opioid lawsuits. \"',\n  '\"state\"',\n  '\"agency action\"',\n  '\"Multistate Attorneys General Case\"',\n  '\"civil\"',\n  '\"\"',\n  '\"\"',\n  '\"\"',\n  '\"\"',\n  '\"\"',\n  '\"\"',\n  '\"\"',\n  '\"\"',\n  '\"\"',\n  '\"\"',\n  '\"\"',\n  '\"USA\"',\n  '\"Connecticut\"',\n  '\"out of business\"',\n  '\"\"',\n  '\"pharmaceuticals\"',\n  '\"pharmaceuticals\"',\n  '\"https://www.washingtonpost.com/business/2021/09/01/purdue-pharma-bankruptcy-judge-ruling/\"',\n  '\"\"'],\n ['\"Bristol Myers Squibb Co.\"',\n  '\"Bristol-Myers Squibb\"',\n  '\"$75',\n  '000',\n  '000\"',\n  '\"$0\"',\n  '\"$75',\n  '000',\n  '000\"',\n  '\"2021\"',\n  '\"20210817\"',\n  '\"government-contracting-related offenses\"',\n  '\"False Claims Act and related\"',\n  '\"\"',\n  '\"Bristol Myers Squibb agreed to pay a total of $75 million in settlement of allegations it overcharged state Medicaid programs for drugs.\"',\n  '\"state\"',\n  '\"agency action\"',\n  '\"Multistate Attorneys General Case\"',\n  '\"civil\"',\n  '\"\"',\n  '\"\"',\n  '\"\"',\n  '\"\"',\n  '\"\"',\n  '\"\"',\n  '\"\"',\n  '\"\"',\n  '\"\"',\n  '\"\"',\n  '\"\"',\n  '\"USA\"',\n  '\"New York\"',\n  '\"publicly traded\"',\n  '\"BMY\"',\n  '\"pharmaceuticals\"',\n  '\"pharmaceuticals\"',\n  '\"https://portal.ct.gov/AG/Press-Releases/2021-Press-Releases/AG-Tong-Announces-75-Million-Settlement-with-Bristol-Myers-Squibb-over-Medicaid-Charges\"',\n  '\"\"'],\n ['\"Johnson & Johnson\"',\n  '\"Johnson & Johnson\"',\n  '\"$5',\n  '000',\n  '000',\n  '000\"',\n  '\"$0\"',\n  '\"$5',\n  '000',\n  '000',\n  '000\"',\n  '\"2021\"',\n  '\"20210721\"',\n  '\"healthcare-related offenses\"',\n  '\"off-label or unapproved promotion of medical products\"',\n  '\"\"',\n  '\"Johnson & Johnson',\n  ' the parent company of Janssen Pharmaceuticals',\n  \" reached an agreement with a group of states under which it would pay $5 billion to resolve Janssen's involvement in litigation alleging improper sale of pain medications\",\n  ' contributing to the national opioid epidemic.\"',\n  '\"state\"',\n  '\"agency action\"',\n  '\"Multistate Attorneys General Case\"',\n  '\"civil\"',\n  '\"\"',\n  '\"\"',\n  '\"\"',\n  '\"\"',\n  '\"\"',\n  '\"\"',\n  '\"\"',\n  '\"\"',\n  '\"\"',\n  '\"\"',\n  '\"\"',\n  '\"USA\"',\n  '\"New Jersey\"',\n  '\"publicly traded\"',\n  '\"JNJ\"',\n  '\"pharmaceuticals\"',\n  '\"pharmaceuticals\"',\n  '\"https://ncdoj.gov/attorney-general-josh-stein-announces-26-billion-agreement-with-opioid-distributors-manufacturer/\"',\n  '\"\"'],\n ['\"Endo Health Solutions\"',\n  '\"Endo International\"',\n  '\"$50',\n  '000',\n  '000\"',\n  '\"$0\"',\n  '\"$50',\n  '000',\n  '000\"',\n  '\"2021\"',\n  '\"20210910\"',\n  '\"healthcare-related offenses\"',\n  '\"off-label or unapproved promotion of medical products\"',\n  '\"\"',\n  '\"settlement with drug manufacturer in multi-company opioid litigation\"',\n  '\"state\"',\n  '\"agency action\"',\n  '\"New York Attorney General\"',\n  '\"civil\"',\n  '\"\"',\n  '\"\"',\n  '\"\"',\n  '\"\"',\n  '\"\"',\n  '\"New York\"',\n  '\"\"',\n  '\"\"',\n  '\"\"',\n  '\"\"',\n  '\"\"',\n  '\"Ireland\"',\n  '\"\"',\n  '\"publicly traded\"',\n  '\"ENDP\"',\n  '\"pharmaceuticals\"',\n  '\"pharmaceuticals\"',\n  '\"https://ag.ny.gov/press-release/2021/attorney-general-james-secures-50-million-opioid-abatement-drug-manufacturer-endo\"',\n  '\"\"'],\n ['\"Perrigo Company\"',\n  '\"Perrigo\"',\n  '\"$20',\n  '000\"',\n  '\"$0\"',\n  '\"$20',\n  '000\"',\n  '\"2021\"',\n  '\"20210501\"',\n  '\"employment-related offenses\"',\n  '\"employment discrimination\"',\n  '\"\"',\n  '\"\"',\n  '\"local\"',\n  '\"agency action\"',\n  '\"New York City Commission on Human Rights\"',\n  '\"civil\"',\n  '\"\"',\n  '\"\"',\n  '\"\"',\n  '\"\"',\n  '\"\"',\n  '\"New York\"',\n  '\"\"',\n  '\"\"',\n  '\"\"',\n  '\"\"',\n  '\"\"',\n  '\"Ireland\"',\n  '\"\"',\n  '\"publicly traded\"',\n  '\"PRGO\"',\n  '\"pharmaceuticals\"',\n  '\"pharmaceuticals\"',\n  '\"https://www1.nyc.gov/site/cchr/enforcement/2021-settlements.page\"',\n  '\"\"']]"
     ]
    }
   ],
   "source": [
    "pharma_rdd.collect()"
   ]
  },
  {
   "cell_type": "markdown",
   "metadata": {
    "application/vnd.databricks.v1+cell": {
     "cellMetadata": {
      "byteLimit": 2048000,
      "rowLimit": 10000
     },
     "inputWidgets": {},
     "nuid": "c4451038-6cf9-4355-8cfb-5efb693ce0c6",
     "showTitle": false,
     "title": ""
    }
   },
   "source": [
    "#####PROBLEM STATEMENTS"
   ]
  },
  {
   "cell_type": "markdown",
   "metadata": {
    "application/vnd.databricks.v1+cell": {
     "cellMetadata": {
      "byteLimit": 2048000,
      "rowLimit": 10000
     },
     "inputWidgets": {},
     "nuid": "8e1b005c-db3a-4541-863b-f54dedb0c6fe",
     "showTitle": false,
     "title": ""
    }
   },
   "source": [
    "#####TASK 1 : NUMBER OF STUDIES IN THE DATASET"
   ]
  },
  {
   "cell_type": "code",
   "execution_count": 0,
   "metadata": {
    "application/vnd.databricks.v1+cell": {
     "cellMetadata": {
      "byteLimit": 2048000,
      "rowLimit": 10000
     },
     "inputWidgets": {},
     "nuid": "729c8069-4ee3-424b-a3f1-1c7dd058c810",
     "showTitle": false,
     "title": ""
    }
   },
   "outputs": [
    {
     "output_type": "stream",
     "name": "stdout",
     "output_type": "stream",
     "text": [
      "Number of studies in the dataset: 483423\n"
     ]
    }
   ],
   "source": [
    "# Count the number of distinct studies in the dataset\n",
    "distinct_studies_count = clinicaltrial_2023_rdd.distinct().count()\n",
    "# Print the result\n",
    "print(\"Number of studies in the dataset:\", distinct_studies_count)"
   ]
  },
  {
   "cell_type": "markdown",
   "metadata": {
    "application/vnd.databricks.v1+cell": {
     "cellMetadata": {
      "byteLimit": 2048000,
      "rowLimit": 10000
     },
     "inputWidgets": {},
     "nuid": "e05b33c5-09c0-4bcf-90a6-8fd592b54aca",
     "showTitle": false,
     "title": ""
    }
   },
   "source": [
    "#####TASK 2 : TYPES OF STUDIES IN THE DATASET ALONG WITH THE FREQUENCIES OF EACH TYPE ORDERED FROM MOST FREQUENT TO LEAST FREQUENT "
   ]
  },
  {
   "cell_type": "code",
   "execution_count": 0,
   "metadata": {
    "application/vnd.databricks.v1+cell": {
     "cellMetadata": {
      "byteLimit": 2048000,
      "rowLimit": 10000
     },
     "inputWidgets": {},
     "nuid": "e4c31f2a-5608-4ab6-86b3-5a1c8df82574",
     "showTitle": false,
     "title": ""
    }
   },
   "outputs": [
    {
     "output_type": "stream",
     "name": "stdout",
     "output_type": "stream",
     "text": [
      "Types of studies with frequencies:\n('INTERVENTIONAL', 371382)\n('OBSERVATIONAL', 110221)\n('EXPANDED_ACCESS', 928)\n('', 889)\n"
     ]
    }
   ],
   "source": [
    "# Types of studies with frequencies with empty or null values in 'Type' column\n",
    "types_rdd = clinicaltrial_2023_rdd2.filter(lambda x: len(x) > 10 ).map(lambda x: (x[10], 1))\n",
    "# Reduce by key to count occurrences of each type\n",
    "type_counts_rdd = types_rdd.reduceByKey(lambda x, y: x + y)\n",
    "# Sort by count in descending order\n",
    "sorted_type_counts_rdd = type_counts_rdd.sortBy(lambda x: -x[1])\n",
    "# Collect the result\n",
    "types_result = sorted_type_counts_rdd.collect()\n",
    "print(\"Types of studies with frequencies:\")\n",
    "for item in types_result:\n",
    "    print(item)\n"
   ]
  },
  {
   "cell_type": "markdown",
   "metadata": {
    "application/vnd.databricks.v1+cell": {
     "cellMetadata": {
      "byteLimit": 2048000,
      "rowLimit": 10000
     },
     "inputWidgets": {},
     "nuid": "3b29e029-793f-43e2-9049-84cbcc226e81",
     "showTitle": false,
     "title": ""
    }
   },
   "source": [
    "##### WITHOUT EMPTY VALUES"
   ]
  },
  {
   "cell_type": "code",
   "execution_count": 0,
   "metadata": {
    "application/vnd.databricks.v1+cell": {
     "cellMetadata": {
      "byteLimit": 2048000,
      "rowLimit": 10000
     },
     "inputWidgets": {},
     "nuid": "b1d1851a-a710-4ac8-9309-a87e5a569851",
     "showTitle": false,
     "title": ""
    }
   },
   "outputs": [
    {
     "output_type": "stream",
     "name": "stdout",
     "output_type": "stream",
     "text": [
      "Types of studies with frequencies:\n('INTERVENTIONAL', 371382)\n('OBSERVATIONAL', 110221)\n('EXPANDED_ACCESS', 928)\n"
     ]
    }
   ],
   "source": [
    "\n",
    "# Filter out rows without empty or null values in the 'Type' column\n",
    "types_rdd = clinicaltrial_2023_rdd2.filter(lambda x: len(x) > 10 and x[10] is not None and x[10] != '') \\\n",
    "                                    .map(lambda x: (x[10], 1))\n",
    "# Reduce by key to count occurrences of each type\n",
    "type_counts_rdd = types_rdd.reduceByKey(lambda x, y: x + y)\n",
    "# Sort by count in descending order\n",
    "sorted_type_counts_rdd = type_counts_rdd.sortBy(lambda x: -x[1])\n",
    "# Collect the result\n",
    "types_result = sorted_type_counts_rdd.collect()\n",
    "# Print the types of studies with frequencies\n",
    "print(\"Types of studies with frequencies:\")\n",
    "for item in types_result:\n",
    "    print(item)\n"
   ]
  },
  {
   "cell_type": "markdown",
   "metadata": {
    "application/vnd.databricks.v1+cell": {
     "cellMetadata": {
      "byteLimit": 2048000,
      "rowLimit": 10000
     },
     "inputWidgets": {},
     "nuid": "7b6bf5b8-7859-41ad-ae65-8eafeac0f4c8",
     "showTitle": false,
     "title": ""
    }
   },
   "source": [
    "#####TASK 3 : TOP 5 CONDITIONS WITH THEIR FREQUENCIES"
   ]
  },
  {
   "cell_type": "code",
   "execution_count": 0,
   "metadata": {
    "application/vnd.databricks.v1+cell": {
     "cellMetadata": {
      "byteLimit": 2048000,
      "rowLimit": 10000
     },
     "inputWidgets": {},
     "nuid": "0dc82d9a-f735-4017-9768-d38a84e7e31f",
     "showTitle": false,
     "title": ""
    }
   },
   "outputs": [
    {
     "output_type": "stream",
     "name": "stdout",
     "output_type": "stream",
     "text": [
      "\nTop 5 Conditions with Frequencies:\nHealthy: 9731\nBreast Cancer: 7502\nObesity: 6549\nStroke: 4071\nHypertension: 4020\n"
     ]
    }
   ],
   "source": [
    "from operator import add\n",
    "# Top 5 conditions with frequencies\n",
    "condition_counts = clinicaltrial_2023_rdd2.flatMap(lambda row: [(condition.strip(), 1) for condition in row[4].split(\"|\") if condition.strip() != \"\"])\\\n",
    "                                          .reduceByKey(add)\\\n",
    "                                          .map(lambda x: (x[1], x[0]))\\\n",
    "                                          .sortByKey(ascending=False)\\\n",
    "                                          .map(lambda x: (x[1], x[0]))\\\n",
    "                                          .collect()\n",
    "\n",
    "print(\"\\nTop 5 Conditions with Frequencies:\")\n",
    "for condition, count in condition_counts[:5]:\n",
    "    print(f\"{condition}: {count}\")"
   ]
  },
  {
   "cell_type": "markdown",
   "metadata": {
    "application/vnd.databricks.v1+cell": {
     "cellMetadata": {
      "byteLimit": 2048000,
      "rowLimit": 10000
     },
     "inputWidgets": {},
     "nuid": "dca21ddb-11f9-44c0-8612-fda6cb75bc27",
     "showTitle": false,
     "title": ""
    }
   },
   "source": [
    "#####TASK 4 : 10 MOST COMMON SPONSORS THAT ARE NOR PHARMACEUTICAL COMPANIES, ALONG WITH NUMBER OF CLINICAL TRIALS THEY HAVE SPONSORED"
   ]
  },
  {
   "cell_type": "code",
   "execution_count": 0,
   "metadata": {
    "application/vnd.databricks.v1+cell": {
     "cellMetadata": {
      "byteLimit": 2048000,
      "rowLimit": 10000
     },
     "inputWidgets": {},
     "nuid": "fdfb4fff-021b-47b6-9e5f-480a8dd5d99e",
     "showTitle": false,
     "title": ""
    }
   },
   "outputs": [
    {
     "output_type": "stream",
     "name": "stdout",
     "output_type": "stream",
     "text": [
      "+-------------------------------------------------------------+-----+\n|Sponsor                                                      |Count|\n+-------------------------------------------------------------+-----+\n|National Cancer Institute (NCI)                              |3410 |\n|Assiut University                                            |3335 |\n|Cairo University                                             |3023 |\n|Assistance Publique - Hôpitaux de Paris                      |2951 |\n|Mayo Clinic                                                  |2766 |\n|M.D. Anderson Cancer Center                                  |2702 |\n|Novartis Pharmaceuticals                                     |2393 |\n|National Institute of Allergy and Infectious Diseases (NIAID)|2340 |\n|Massachusetts General Hospital                               |2263 |\n|National Taiwan University Hospital                          |2181 |\n+-------------------------------------------------------------+-----+\nonly showing top 10 rows\n\n"
     ]
    }
   ],
   "source": [
    "# 10 most common sponsors that are not pharmaceutical companies\n",
    "pharma_rdd = spark.read.csv(\"/FileStore/tables/pharma.csv\", header=True)\n",
    "subquery = pharma_rdd.select(\"Parent_Company\").distinct().rdd.map(lambda x: x[0])\n",
    "subquery_broadcast = spark.sparkContext.broadcast(set(subquery.collect()))\n",
    "filtered_rdd = clinicaltrial_2023_rdd2.filter(lambda x: x[6] not in subquery_broadcast.value)\n",
    "grouped_rdd = filtered_rdd.map(lambda x: (x[6], 1)).reduceByKey(lambda x, y: x + y)\n",
    "sorted_rdd = grouped_rdd.sortBy(lambda x: x[1], ascending=False)\n",
    "from pyspark.sql import Row\n",
    "sorted_data = sorted_rdd.map(lambda x: Row(Sponsor=x[0], Count=x[1]))\n",
    "sorted_data_rdd = spark.createDataFrame(sorted_data)\n",
    "sorted_data_rdd.show(10, truncate=False)\n"
   ]
  },
  {
   "cell_type": "markdown",
   "metadata": {
    "application/vnd.databricks.v1+cell": {
     "cellMetadata": {
      "byteLimit": 2048000,
      "rowLimit": 10000
     },
     "inputWidgets": {},
     "nuid": "f34547bc-7e8f-4a91-9c3d-ac53b9c958c5",
     "showTitle": false,
     "title": ""
    }
   },
   "source": [
    "#####TASK 5 : PLOT NUMBER OF COMPLETED STUDIES FOR EACH MONTH IN 2023"
   ]
  },
  {
   "cell_type": "code",
   "execution_count": 0,
   "metadata": {
    "application/vnd.databricks.v1+cell": {
     "cellMetadata": {
      "byteLimit": 2048000,
      "rowLimit": 10000
     },
     "inputWidgets": {},
     "nuid": "ca61ef58-66c1-4abe-a066-44295b1857a0",
     "showTitle": false,
     "title": ""
    }
   },
   "outputs": [
    {
     "output_type": "stream",
     "name": "stdout",
     "output_type": "stream",
     "text": [
      "2023-04 1324\n2023-06 1619\n2023-09 1152\n2023-08 1230\n2023-05 1415\n2023-10 1058\n2023-01 1494\n2023-11 909\n2023-07 1360\n2023-12 1082\n2023-02 1272\n2023-03 1552\n"
     ]
    }
   ],
   "source": [
    "# Filter and map to extract month and count 1 for each month\n",
    "completed_month_counts_rdd = clinicaltrial_2023_rdd2.filter(\n",
    "    lambda x: len(x) > 13 and x[13] is not None and x[13] != '' and x[3] == 'COMPLETED' and '2023' in x[13]\n",
    ").map(\n",
    "    lambda x: (x[13][:7], 1)\n",
    ")\n",
    "\n",
    "# Reduce by key to get counts for each month\n",
    "completed_month_counts_rdd = completed_month_counts_rdd.reduceByKey(lambda a, b: a + b)\n",
    "\n",
    "# Collect the results\n",
    "completed_month_counts = completed_month_counts_rdd.collect()\n",
    "\n",
    "# Print the results\n",
    "for month, count in completed_month_counts:\n",
    "    print(month, count)\n"
   ]
  },
  {
   "cell_type": "markdown",
   "metadata": {
    "application/vnd.databricks.v1+cell": {
     "cellMetadata": {
      "byteLimit": 2048000,
      "rowLimit": 10000
     },
     "inputWidgets": {},
     "nuid": "99d424b6-8250-4232-88d8-b53513fc5549",
     "showTitle": false,
     "title": ""
    }
   },
   "source": [
    "#####VISUALIZATION FOR NUMBER OF COMPLETED STUDIES FOR EACH MONTH IN 2023"
   ]
  },
  {
   "cell_type": "code",
   "execution_count": 0,
   "metadata": {
    "application/vnd.databricks.v1+cell": {
     "cellMetadata": {
      "byteLimit": 2048000,
      "rowLimit": 10000
     },
     "inputWidgets": {},
     "nuid": "9f344e04-37dc-4d1d-b2b0-fcf9fa14a09f",
     "showTitle": false,
     "title": ""
    }
   },
   "outputs": [
    {
     "output_type": "display_data",
     "data": {
      "image/png": "[encoded data removed]"
     },
     "metadata": {
      "application/vnd.databricks.v1+output": {
       "addedWidgets": {},
       "arguments": {},
       "data": "data:image/png;base64,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\n",
       "datasetInfos": [],
       "metadata": {},
       "removedWidgets": [],
       "type": "image"
      }
     },
     "output_type": "display_data"
    }
   ],
   "source": [
    "# Visualization\n",
    "import matplotlib.pyplot as plt\n",
    "\n",
    "# Extracting months and counts from the collected results\n",
    "months = [month for month, _ in completed_month_counts]\n",
    "counts = [count for _, count in completed_month_counts]\n",
    "\n",
    "# Plotting the data\n",
    "plt.figure(figsize=(10, 6))\n",
    "plt.bar(months, counts, color='blue')\n",
    "plt.xlabel('Month')\n",
    "plt.ylabel('Number of Completed Studies')\n",
    "plt.title('Completed Studies Count by Month in 2023')\n",
    "plt.xticks(rotation=45, ha='right')  # Rotate x-axis labels for better visibility\n",
    "plt.tight_layout()\n",
    "\n",
    "# Show plot\n",
    "plt.show()\n"
   ]
  },
  {
   "cell_type": "markdown",
   "metadata": {
    "application/vnd.databricks.v1+cell": {
     "cellMetadata": {
      "byteLimit": 2048000,
      "rowLimit": 10000
     },
     "inputWidgets": {},
     "nuid": "18e35566-b66e-4389-a387-7ab6ed70c4d9",
     "showTitle": false,
     "title": ""
    }
   },
   "source": [
    "#####FUTHER ANALYSIS USING USER DEFINED FUNCTIONS"
   ]
  },
  {
   "cell_type": "markdown",
   "metadata": {
    "application/vnd.databricks.v1+cell": {
     "cellMetadata": {
      "byteLimit": 2048000,
      "rowLimit": 10000
     },
     "inputWidgets": {},
     "nuid": "43c8a0ba-09f5-4399-b60e-7120698fd422",
     "showTitle": false,
     "title": ""
    }
   },
   "source": [
    "#####ANALYSIS 1 : COUNT THE OCCURRENCES OF \"University if Oregon\" IN THE SPONSOR COLUMN"
   ]
  },
  {
   "cell_type": "code",
   "execution_count": 0,
   "metadata": {
    "application/vnd.databricks.v1+cell": {
     "cellMetadata": {
      "byteLimit": 2048000,
      "rowLimit": 10000
     },
     "inputWidgets": {},
     "nuid": "05a3ee16-856a-4919-abee-cd4146393c65",
     "showTitle": false,
     "title": ""
    }
   },
   "outputs": [
    {
     "output_type": "stream",
     "name": "stdout",
     "output_type": "stream",
     "text": [
      "Number of studies from University of Oregon: 58\n"
     ]
    }
   ],
   "source": [
    "# Define a function to check if \"University of Oregon\" is in the Sponsor column\n",
    "def contains_oregon(x):\n",
    "    return 1 if \"University of Oregon\" in x else 0\n",
    "\n",
    "# Apply the function to each element of the RDD and map it to a new RDD\n",
    "oregon_count_rdd = clinicaltrial_2023_rdd2.map(lambda x: contains_oregon(x[6]))\n",
    "\n",
    "# Count the occurrences of \"University of Oregon\" by summing up the values in the new RDD\n",
    "oregon_studies_count = oregon_count_rdd.reduce(lambda x, y: x + y)\n",
    "\n",
    "print(\"Number of studies from University of Oregon:\", oregon_studies_count)"
   ]
  },
  {
   "cell_type": "markdown",
   "metadata": {
    "application/vnd.databricks.v1+cell": {
     "cellMetadata": {
      "byteLimit": 2048000,
      "rowLimit": 10000
     },
     "inputWidgets": {},
     "nuid": "a12e6cf5-3ca4-4b81-ba10-a01b125617d4",
     "showTitle": false,
     "title": ""
    }
   },
   "source": [
    "#####REUSABLE CODE FOR CLINICALTRIAL_2020 & CLINICALTRIAL_2021"
   ]
  },
  {
   "cell_type": "code",
   "execution_count": 0,
   "metadata": {
    "application/vnd.databricks.v1+cell": {
     "cellMetadata": {
      "byteLimit": 2048000,
      "rowLimit": 10000
     },
     "inputWidgets": {},
     "nuid": "a167105c-610c-41d1-a68f-23bc41a6c86e",
     "showTitle": false,
     "title": ""
    }
   },
   "outputs": [],
   "source": [
    "fileroot1 = \"clinicaltrial_2020\"\n",
    "import os\n",
    "os.environ ['fileroot1'] = fileroot1\n",
    "fileroot2 = \"clinicaltrial_2021\"\n",
    "import os\n",
    "os.environ ['fileroot2'] = fileroot2"
   ]
  },
  {
   "cell_type": "code",
   "execution_count": 0,
   "metadata": {
    "application/vnd.databricks.v1+cell": {
     "cellMetadata": {
      "byteLimit": 2048000,
      "rowLimit": 10000
     },
     "inputWidgets": {},
     "nuid": "0801340e-adea-4f54-9de9-bc55e82504be",
     "showTitle": false,
     "title": ""
    }
   },
   "outputs": [
    {
     "output_type": "stream",
     "name": "stdout",
     "output_type": "stream",
     "text": [
      "Out[31]: True"
     ]
    }
   ],
   "source": [
    "dbutils.fs.cp(\"/FileStore/tables/\" + fileroot1 + \".zip\", \"file:/tmp/\")\n",
    "dbutils.fs.cp(\"/FileStore/tables/\" + fileroot2 + \".zip\", \"file:/tmp/\")"
   ]
  },
  {
   "cell_type": "code",
   "execution_count": 0,
   "metadata": {
    "application/vnd.databricks.v1+cell": {
     "cellMetadata": {
      "byteLimit": 2048000,
      "rowLimit": 10000
     },
     "inputWidgets": {},
     "nuid": "1e496958-1330-46cb-93b2-fe2a4375a854",
     "showTitle": false,
     "title": ""
    }
   },
   "outputs": [
    {
     "output_type": "stream",
     "name": "stdout",
     "output_type": "stream",
     "text": [
      "Archive:  /tmp/clinicaltrial_2020.zip\n  inflating: /tmp/clinicaltrial_2020.csv  \n/bin/bash: line 1: fg: no job control\nArchive:  /tmp/clinicaltrial_2021.zip\n  inflating: /tmp/clinicaltrial_2021.csv  \n"
     ]
    }
   ],
   "source": [
    "%sh\n",
    "unzip -d /tmp /tmp/$fileroot1.zip\n",
    "%sh\n",
    "unzip -d /tmp /tmp/$fileroot2.zip"
   ]
  },
  {
   "cell_type": "code",
   "execution_count": 0,
   "metadata": {
    "application/vnd.databricks.v1+cell": {
     "cellMetadata": {
      "byteLimit": 2048000,
      "rowLimit": 10000
     },
     "inputWidgets": {},
     "nuid": "1eeccdf9-944e-41b6-9539-ad0dfa806154",
     "showTitle": false,
     "title": ""
    }
   },
   "outputs": [
    {
     "output_type": "stream",
     "name": "stdout",
     "output_type": "stream",
     "text": [
      "Out[33]: True"
     ]
    }
   ],
   "source": [
    "dbutils.fs.mkdirs(\"/FileStore/tables/\" + fileroot1 + \".csv\" )\n",
    "dbutils.fs.mkdirs(\"/FileStore/tables/\" + fileroot2 + \".csv\" )"
   ]
  },
  {
   "cell_type": "code",
   "execution_count": 0,
   "metadata": {
    "application/vnd.databricks.v1+cell": {
     "cellMetadata": {
      "byteLimit": 2048000,
      "rowLimit": 10000
     },
     "inputWidgets": {},
     "nuid": "8fadc496-2a9d-4062-8c22-2122ec75591b",
     "showTitle": false,
     "title": ""
    }
   },
   "outputs": [
    {
     "output_type": "stream",
     "name": "stdout",
     "output_type": "stream",
     "text": [
      "Out[34]: True"
     ]
    }
   ],
   "source": [
    "dbutils.fs.mv(\"file:/tmp/\" + fileroot1 + \".csv\" , \"/FileStore/tables/\" + fileroot1 + \".csv\"  , True)\n",
    "dbutils.fs.mv(\"file:/tmp/\" + fileroot2 + \".csv\" , \"/FileStore/tables/\" + fileroot2 + \".csv\"  , True)"
   ]
  },
  {
   "cell_type": "code",
   "execution_count": 0,
   "metadata": {
    "application/vnd.databricks.v1+cell": {
     "cellMetadata": {
      "byteLimit": 2048000,
      "rowLimit": 10000
     },
     "inputWidgets": {},
     "nuid": "b6aa917f-e7b7-44ab-a6b3-0fc22f739f34",
     "showTitle": false,
     "title": ""
    }
   },
   "outputs": [
    {
     "output_type": "stream",
     "name": "stdout",
     "output_type": "stream",
     "text": [
      "Out[35]: [FileInfo(path='dbfs:/FileStore/tables/clinicaltrial_2020.csv/clinicaltrial_2020.csv', name='clinicaltrial_2020.csv', size=46318151, modificationTime=1714476112000)]"
     ]
    }
   ],
   "source": [
    "dbutils.fs.ls(\"/FileStore/tables/\" + fileroot1 + \".csv\" )"
   ]
  },
  {
   "cell_type": "code",
   "execution_count": 0,
   "metadata": {
    "application/vnd.databricks.v1+cell": {
     "cellMetadata": {
      "byteLimit": 2048000,
      "rowLimit": 10000
     },
     "inputWidgets": {},
     "nuid": "7afb0c29-15ae-4ad1-8c81-38f075dde1df",
     "showTitle": false,
     "title": ""
    }
   },
   "outputs": [
    {
     "output_type": "stream",
     "name": "stdout",
     "output_type": "stream",
     "text": [
      "Out[36]: [FileInfo(path='dbfs:/FileStore/tables/clinicaltrial_2021.csv/clinicaltrial_2021.csv', name='clinicaltrial_2021.csv', size=50359696, modificationTime=1714476115000)]"
     ]
    }
   ],
   "source": [
    "dbutils.fs.ls(\"/FileStore/tables/\" + fileroot2 + \".csv\" )"
   ]
  },
  {
   "cell_type": "markdown",
   "metadata": {
    "application/vnd.databricks.v1+cell": {
     "cellMetadata": {
      "byteLimit": 2048000,
      "rowLimit": 10000
     },
     "inputWidgets": {},
     "nuid": "e9f4395f-c2b9-41f5-b06c-35f79f620a85",
     "showTitle": false,
     "title": ""
    }
   },
   "source": [
    "#####LOAD AND PREPARE THE DATASETS"
   ]
  },
  {
   "cell_type": "code",
   "execution_count": 0,
   "metadata": {
    "application/vnd.databricks.v1+cell": {
     "cellMetadata": {
      "byteLimit": 2048000,
      "rowLimit": 10000
     },
     "inputWidgets": {},
     "nuid": "b5c15441-e3e9-4ed6-8acd-f607e7517a35",
     "showTitle": false,
     "title": ""
    }
   },
   "outputs": [
    {
     "output_type": "stream",
     "name": "stdout",
     "output_type": "stream",
     "text": [
      "Out[37]: [['NCT02758028|The University of Hong Kong|Recruiting|Aug 2005|Nov 2021|Interventional|Apr 2016||'],\n ['NCT02751957|Duke University|Completed|Jul 2016|Jul 2020|Interventional|Apr 2016|Autistic Disorder,Autism Spectrum Disorder|'],\n ['NCT02758483|Universidade Federal do Rio de Janeiro|Completed|Mar 2017|Jan 2018|Interventional|Apr 2016|Diabetes Mellitus|'],\n ['NCT02759848|Istanbul Medeniyet University|Completed|Jan 2012|Dec 2014|Observational|May 2016|Tuberculosis,Lung Diseases,Pulmonary Disease|'],\n ['NCT02758860|University of Roma La Sapienza|Active, not recruiting|Jun 2016|Sep 2020|Observational [Patient Registry]|Apr 2016|Diverticular Diseases,Diverticulum,Diverticulosis|'],\n ['NCT02757209|Consorzio Futuro in Ricerca|Completed|Apr 2016|Jan 2018|Interventional|Apr 2016|Asthma|Fluticasone,Xhance,Budesonide,Formoterol Fumarate,Salmeterol Xinafoate'],\n ['NCT02752438|Ankara University|Unknown status|May 2016|Jul 2017|Observational [Patient Registry]|Apr 2016|Hypoventilation|'],\n ['NCT02753543|Ruijin Hospital|Unknown status|Nov 2015|Nov 2019|Interventional|Apr 2016|Lymphoma|'],\n ['NCT02757508|Washington University School of Medicine|Completed|Mar 2016|Jul 2017|Interventional|Apr 2016||Vitamins'],\n ['NCT02753530|Orphazyme|Completed|Aug 2017|Jan 2021|Interventional|Apr 2016|Myositis|'],\n ['NCT02754817|Novo Nordisk A/S|Completed|Apr 2016|Oct 2016|Observational|Apr 2016|Diabetes Mellitus|Liraglutide,Xultophy'],\n ['NCT02759276|Daniel Alexandre Bottino|Completed|May 2015|Dec 2015|Observational|Apr 2016|Hypertension|'],\n ['NCT02750956|Bulent Ecevit University|Completed|Jun 2015|Mar 2016|Observational|Apr 2016|Periodontal Diseases|'],\n ['NCT02752113|Institut für Pharmakologie und Präventive Medizin|Completed|Apr 2016|May 2019|Interventional|Apr 2016|Diabetes Mellitus|Metformin,Empagliflozin,Linagliptin'],\n ['NCT02752698|The Third Xiangya Hospital of Central South University|Active, not recruiting|Jan 2015|Dec 2021|Interventional|Jun 2015|Appendicitis,Stomach Ulcer,Cholecystolithiasis,Cholelithiasis,Gallstones|'],\n ['NCT02755779|Tel Aviv Medical Center|Unknown status|Jun 2016|Jun 2017|Observational|Apr 2016||'],\n ['NCT02750384|Medicines for Malaria Venture|Terminated|May 2016|Jul 2016|Interventional|Apr 2016||'],\n ['NCT02754609|James Cook University, Queensland, Australia|Completed|Sep 2016|Oct 2019|Interventional|Apr 2016|Hookworm Infections,Celiac Disease|'],\n ['NCT02755701|Soonchunhyang University Hospital|Unknown status|Jul 2016|Dec 2018|Interventional|Apr 2016|Ascites|'],\n ['NCT02751762|Member Companies of the Opioid PMR Consortium|Recruiting|Nov 2017|Oct 2022|Observational|Apr 2016|Chronic Pain,Substance-Related Disorders,Opioid-Related Disorders,Narcotic-Related Disorders,Behavior|'],\n ['NCT02756299|Marmara University|Completed|Jun 2014|Apr 2015|Interventional|Apr 2016|Sleep Apnea Syndromes,Sleep Apnea|'],\n ['NCT02750709|Cycle Pharmaceuticals Ltd.|Completed|Oct 2015|Jan 2016|Interventional|Apr 2016|Tyrosinemias|Nitisinone'],\n ['NCT02753907|Yonsei University|Completed|Jun 2015||Interventional|Apr 2016||'],\n ['NCT02755467|Cutera Inc.|Completed|May 2016|Apr 2017|Interventional|Apr 2016|Hemangioma|'],\n ['NCT02755298|University of Zurich|Completed|Oct 2016|Nov 2020|Interventional|Mar 2016|Hypertension|Acetazolamide'],\n ['NCT02759614|Guangdong Association of Clinical Trials|Unknown status|Apr 2016|Jun 2019|Interventional|Mar 2016|Carcinoma|Bevacizumab,Erlotinib Hydrochloride'],\n ['NCT02752815|Ruijin Hospital|Unknown status|Apr 2016|Jun 2020|Interventional|Apr 2016|Lymphoma|Prednisone,Cyclophosphamide,Rituximab,Vincristine,Epirubicin'],\n ['NCT02757131|The Cleveland Clinic|Completed|Jul 2016|Jul 2017|Interventional|Apr 2016|Iatrogenic Disease|'],\n [\"NCT02758704|St. Justine's Hospital|Completed|Oct 2015|Jun 2021|Interventional|Apr 2016||\"],\n ['NCT02750501|Alcresta Therapeutics, Inc.|Completed|Jul 2016|Mar 2017|Interventional|Apr 2016|Cystic Fibrosis,Fibrosis|'],\n ['NCT02759913|Iron Horse Diagnostics, Inc.|Unknown status|Jan 2015|Dec 2016|Observational|Apr 2016|Motor Neuron Disease,Amyotrophic Lateral Sclerosis,Sclerosis|'],\n ['NCT02752724|VA Puget Sound Health Care System|Completed|Mar 2016|Apr 2018|Interventional|Mar 2016|Depressive Disorder,Depression|Ketamine,Methohexital'],\n ['NCT02758444|University of Colorado, Denver|Completed|Nov 2015|Feb 2019|Interventional|Apr 2016||Micronutrients,Trace Elements'],\n ['NCT02758067|H. Lundbeck A/S|Withdrawn|Jun 2016||Interventional|Apr 2016|Schizophrenia|Risperidone,Brexpiprazole'],\n ['NCT02759341|Ospedale San Giovanni Bellinzona|Completed|Feb 2016|Nov 2017|Interventional|Apr 2016|Myocardial Infarction,Cardiomyopathies,Microvascular Angina,Takotsubo Cardiomyopathy,Syndrome,Infarction|'],\n ['NCT02753803|Dong-A ST Co., Ltd.|Completed|Jul 2016|Mar 2017|Interventional|Apr 2016||Pioglitazone'],\n ['NCT02752490|The University of Texas Health Science Center, Houston|Completed|Apr 2016|Jul 2016|Interventional|Apr 2016||'],\n ['NCT02759562|Gilead Sciences|Terminated|Nov 2016|Jul 2017|Interventional|Apr 2016|Cystic Fibrosis,Fibrosis|'],\n ['NCT02758262|Laval University|Unknown status|Apr 2016|Dec 2017|Interventional|Apr 2016|Hyperphagia|'],\n [\"NCT02754258|Children's Hospital of Eastern Ontario|Unknown status|Jan 2017|Dec 2018|Interventional|Apr 2016||Methylphenidate\"],\n ['NCT02755207|Xinhua Hospital, Shanghai Jiao Tong University School of Medicine|Unknown status|Apr 2016|Dec 2020|Observational|Mar 2016|Acute Coronary Syndrome,Syndrome|'],\n ['NCT02759900|The Skin Center Dermatology Group|Recruiting|Jan 2016|Jan 2023|Interventional|Apr 2016|Molluscum Contagiosum,Keratosis,Bowens Disease,Rosacea,Skin Diseases|'],\n ['NCT02752581|Mert Özcan|Completed|Jan 2009|Apr 2013|Interventional|Apr 2016|Hemarthrosis|'],\n ['NCT02759796|Instituto de Investigación Hospital Universitario La Paz|Completed|Nov 2015|Apr 2017|Interventional|Apr 2016|Necrosis,Neovascularization,Fat Necrosis|'],\n ['NCT02754063|University Hospital, Grenoble|Active, not recruiting|Jun 2016|Apr 2022|Interventional|Apr 2016|Brain Injuries,Wounds and Injuries|3'],\n ['NCT02750917|Foisor Orthopedics Clinical Hospital|Completed|Sep 2014|Mar 2015|Interventional|Feb 2016|Pain|Etoricoxib,Lornoxicam'],\n ['NCT02753569|Institute of Cancer Research, United Kingdom|Completed|May 2016|May 2020|Observational|Apr 2016||'],\n ['NCT02751255|VU University Medical Center|Active, not recruiting|Jul 2016|Mar 2022|Interventional|Apr 2016|Multiple Myeloma,Neoplasms|Tretinoin'],\n ['NCT02751528|NantBioScience, Inc.|Unknown status|Dec 2016|Dec 2020|Interventional|Apr 2016|Breast Neoplasms|Vaccines'],\n ['NCT02751619|University of Campania Luigi Vanvitelli|Completed|Jan 2013|Dec 2015|Interventional|Apr 2016|Pain|Lidocaine'],\n ['NCT02757833|Lawson Health Research Institute|Withdrawn|Feb 2019|Feb 2019|Interventional|Apr 2016|Depression,Depressive Disorder|'],\n ['NCT02750761|Merck Sharp & Dohme Corp.|Completed|May 2016|Dec 2018|Interventional|Apr 2016|Infections,Bacterial Infections,Gram-Positive Bacterial Infections|Tedizolid phosphate,Tedizolid,Oxazolidinones'],\n ['NCT02752594|Sharda University|Completed|Apr 2015|Apr 2015|Interventional|Apr 2016|Dental Caries|'],\n ['NCT02753452|Holland Bloorview Kids Rehabilitation Hospital|Unknown status|May 2015|Mar 2020|Interventional|Apr 2016||'],\n ['NCT02752763|Niğde State Hospital|Completed|Oct 2015|Mar 2016|Interventional|Mar 2016|Dry Eye Syndromes,Keratoconjunctivitis Sicca|Dextrans,Povidone,Ophthalmic Solutions,Lubricant Eye Drops'],\n ['NCT02753816|Spectrum Health Hospitals|Terminated|Apr 2016|Dec 2019|Interventional|Apr 2016|Burns|Tranexamic Acid'],\n ['NCT02751294|GlaxoSmithKline|Completed|May 2016|Aug 2016|Interventional|Apr 2016|Malaria|Tafenoquine'],\n ['NCT02756429|Hospices Civils de Lyon|Completed|Feb 2014|Jan 2018|Interventional|Apr 2016|Atrial Fibrillation|'],\n ['NCT02750163|Università Politecnica delle Marche|Completed|Jul 2017|Jun 2019|Observational|Apr 2016|Shock|Acetaminophen'],\n ['NCT02751905|Biogen|Completed|Apr 2016|May 2016|Interventional|Apr 2016|Neuralgia|'],\n ['NCT02753153|University of Liege|Completed|May 2011|May 2015|Interventional|Apr 2016|Tooth Loss|'],\n ['NCT02750891|Sumitomo Dainippon Pharma Co., Ltd.|Completed|Apr 2016|Jan 2020|Interventional|Apr 2016|Glioblastoma,Glioma,Diffuse Intrinsic Pontine Glioma|'],\n ['NCT02751073|Mayo Clinic|Completed|Feb 2016|Jul 2018|Observational|Feb 2016|Infections,Communicable Diseases,Urinary Tract Infections,Prolapse,Pelvic Organ Prolapse|'],\n ['NCT02753114|University of British Columbia|Completed|Nov 2017|May 2018|Interventional|Apr 2016|Acute Pain|Ketamine'],\n ['NCT02752516|Chia Tai Tianqing Pharmaceutical Group Co., Ltd.|Unknown status|Apr 2016|Dec 2017|Interventional|Apr 2016||'],\n ['NCT02752269|Medical University of Graz|Completed|Oct 2014|Jun 2019|Observational|Nov 2015|Sjogrens Syndrome,Hypertension,Vascular Diseases,Syndrome|'],\n ['NCT02754713|Hippocration General Hospital|Recruiting|Sep 2009|Dec 2025|Observational|Apr 2016|Pericarditis|'],\n ['NCT02759770|Beijing Anzhen Hospital|Completed|Jul 2017|Sep 2017|Observational|Apr 2016|Respiratory Distress Syndrome,Acute Lung Injury|'],\n ['NCT02755129|Medtronic BRC|Completed|Sep 2016|Jul 2017|Interventional|Mar 2016|Frailty|'],\n ['NCT02754674|Samsung Medical Center|Completed|May 2014|Dec 2017|Interventional|Feb 2015|Rupture|'],\n ['NCT02757521|Washington University School of Medicine|Terminated|Mar 2016|Dec 2016|Interventional|Apr 2016|Disease,Depression,Depressive Disorder,Bipolar Disorder|Nitrous Oxide'],\n ['NCT02750774|University of Modena and Reggio Emilia|Unknown status|Dec 2015|Dec 2016|Interventional|Apr 2016|Diabetes,Obesity,Pregnancy Complications,Fetal Macrosomia,Overweight,Birth Weight|'],\n ['NCT02754739|Samsung Medical Center|Completed|Apr 2014|Aug 2017|Interventional|Apr 2016|Diabetes Mellitus,Prediabetic State|Pravastatin'],\n ['NCT02758808|University of Michigan|Recruiting|Mar 2016|Oct 2023|Observational [Patient Registry]|Apr 2016|Lung Diseases,Pulmonary Fibrosis,Idiopathic Pulmonary Fibrosis,Fibrosis|'],\n ['NCT02751840|Tel Hai College|Completed|Oct 2014|Apr 2016|Interventional|Apr 2016|Asymptomatic Diseases|Caffeine'],\n ['NCT02752451|University of Arizona|Completed|Mar 2015|Apr 2015|Interventional|Apr 2016||'],\n ['NCT02757599|Rigshospitalet, Denmark|Completed|Aug 2016|Jun 2017|Interventional|Apr 2016||'],\n ['NCT02753894|Astellas Pharma Inc|Completed|Jan 2008|Jun 2008|Interventional|Mar 2016|Kidney Diseases,Renal Insufficiency,Hyperphosphatemia|'],\n ['NCT02757638|Texas A&M University|Active, not recruiting|Oct 2015|Oct 2021|Interventional|Feb 2016|Weight Loss|'],\n ['NCT02757378|Kevin Farrell|Completed|May 2015|Sep 2015|Interventional|Apr 2016|Back Pain,Low Back Pain|'],\n ['NCT02751489|Bayer|Completed|May 2016|May 2016|Interventional|Apr 2016|Dermatitis|'],\n ['NCT02759315|Merck Sharp & Dohme Corp.|Terminated|May 2016|Nov 2017|Interventional|Apr 2016|Hepatitis A,Hepatitis C,Hepatitis|Uprifosbuvir,Ruzasvir'],\n ['NCT02754895|Massachusetts General Hospital|Completed|Oct 2014|May 2017|Interventional|Apr 2016|Acute Coronary Syndrome,Syndrome|'],\n ['NCT02750475|Bayer|Completed|May 2016|May 2016|Interventional|Apr 2016|Dermatitis|Sunscreening Agents'],\n ['NCT02755064|Adil Bharucha|Completed|Jun 2010|Nov 2013|Interventional|Apr 2016|Diabetes Mellitus|Erythromycin,Erythromycin Estolate,Erythromycin Ethylsuccinate,Erythromycin stearate,Erythromycin lactobionate'],\n ['NCT02758002|University of California, San Diego|Withdrawn|Jan 2016|Dec 2018|Interventional|Apr 2016|Atrial Fibrillation|'],\n ['NCT02755142|medac GmbH|Completed|Feb 2000|Jun 2001|Interventional|Apr 2016|Glioma,Brain Neoplasms|Aminolevulinic Acid'],\n ['NCT02756364|Millennium Pharmaceuticals, Inc.|Completed|Jul 2016|Nov 2019|Interventional|Apr 2016|Breast Neoplasms|Fulvestrant'],\n ['NCT02759484|Rush University Medical Center|Unknown status|Mar 2015|Mar 2019|Interventional|Dec 2015|Hypertension,Diabetes Mellitus,Hyperglycemia|'],\n ['NCT02752061|Harvard School of Public Health (HSPH)|Completed|May 2016|Jul 2020|Interventional|Apr 2016||'],\n ['NCT02756598|Aarhus University Hospital|Completed|Jan 2015|Jun 2018|Interventional|Dec 2015||Sufentanil,Dsuvia,Propofol'],\n ['NCT02755727|Royal Devon and Exeter NHS Foundation Trust|Completed|Mar 2016|Sep 2017|Interventional|Apr 2016|Tennis Elbow|'],\n ['NCT02754882|Samsung Bioepis Co., Ltd.|Completed|Jul 2016|Oct 2018|Interventional|Mar 2016|Lung Neoplasms,Carcinoma|Paclitaxel,Bevacizumab,Carboplatin'],\n ['NCT02754778|Martin-Luther-Universität Halle-Wittenberg|Completed|Apr 2016|Mar 2021|Interventional|Apr 2016|Pre-Eclampsia,HELLP Syndrome,Syndrome|'],\n ['NCT02758171|Boehringer Ingelheim|Completed|May 2016|Aug 2016|Interventional|Apr 2016||Empagliflozin,Linagliptin'],\n ['NCT02755376|Samsung Medical Center|Completed|Jan 2014|Dec 2018|Interventional|Feb 2015||Hyaluronic Acid'],\n ['NCT02759016|Boehringer Ingelheim|Completed|Jun 2016|Jul 2019|Interventional|Apr 2016|Leukemia|BI 836826'],\n ['NCT02758457|University of Bologna|Completed|Jan 2008|Apr 2015|Interventional|Apr 2016||'],\n ['NCT02755519|Chongqing Medical University|Completed|May 2014|Oct 2016|Observational|Apr 2016|Hyperaldosteronism|'],\n ['NCT02758782|Charite University, Berlin, Germany|Completed|Sep 2016|Jan 2021|Interventional|Apr 2016|Spondylitis|Celecoxib,Golimumab'],\n ['NCT02756806|Cutera Inc.|Completed|Apr 2016|Sep 2016|Interventional|Apr 2016||'],\n ['NCT02756156|Kahramanmaras Sutcu Imam University|Unknown status|Apr 2016|Aug 2016|Observational|Mar 2016|Humeral Fractures|'],\n ['NCT02759458|Rush University Medical Center|Completed|Nov 2013|Jan 2017|Interventional|Apr 2016|Rotator Cuff Injuries|'],\n ['NCT02750982|Brown, Theodore R., M.D., MPH|Completed|Jul 2016|Aug 2018|Interventional|Apr 2016|Parkinson Disease,Multiple Sclerosis,Alzheimer Disease,Brain Injuries,Spinal Cord Injuries,Motor Neuron Disease,Amyotrophic Lateral Sclerosis,Huntington Disease,Sclerosis,Wounds and Injuries|'],\n ['NCT02751502|NYU Langone Health|Terminated|Jan 2017|Feb 2021|Interventional|Apr 2016|Hemiplegia|'],\n ['NCT02752087|Eli Lilly and Company|Completed|Apr 2016|May 2016|Interventional|Apr 2016||'],\n ['NCT02756858|Anavex Life Sciences Corp.|Completed|Mar 2016|Nov 2020|Interventional|Mar 2016|Alzheimer Disease|'],\n ['NCT02758249|Konkuk University Medical Center|Completed|Jan 2016|Jan 2016|Interventional|Feb 2016||Propofol,Sevoflurane'],\n ['NCT02754570|University of Colorado, Denver|Completed|Jul 2016|Feb 2018|Interventional|Apr 2016|Glaucoma,Ocular Hypertension,Hypertension|Pilocarpine'],\n ['NCT02754102|Bayer|Completed|May 2016|May 2016|Interventional|Apr 2016|Dermatitis|Sunscreening Agents'],\n [\"NCT02751593|Peking University People's Hospital|Unknown status|Jan 2016|Dec 2017|Interventional|Apr 2016|Thrombocytopenia,Purpura|Dexamethasone\"],\n ['NCT02757014|Bayer|Completed|Oct 2015|Oct 2015|Interventional|Apr 2016||'],\n ['NCT02753062|Asan Medical Center|Recruiting|Aug 2015|Aug 2023|Interventional|Apr 2016|Lymphoma|Rituximab,Bendamustine Hydrochloride'],\n ['NCT02752425|Hospices Civils de Lyon|Completed|May 2016|May 2018|Interventional|Apr 2016|Speech Disorders|'],\n ['NCT02757300|Marienhospital Osnabrück|Unknown status|May 2016|Jul 2017|Interventional|Apr 2016|Pharyngitis|'],\n ['NCT02754180|Peking Union Medical College Hospital|Unknown status|Mar 2016|Mar 2021|Interventional|Apr 2016|Adenocarcinoma,Pancreatic Neoplasms|Gemcitabine'],\n ['NCT02752321|Northwell Health|Terminated|Aug 2016|Dec 2017|Interventional|Apr 2016||'],\n ['NCT02753595|Eisai Inc.|Terminated|Jul 2016|Aug 2019|Interventional|Apr 2016|Breast Neoplasms|'],\n ['NCT02755246|Charite University, Berlin, Germany|Completed|Apr 2016|Sep 2016|Interventional|Apr 2016|Cognitive Dysfunction|'],\n ['NCT02754115|Tata Memorial Centre|Recruiting|Apr 2016|Jan 2022|Observational|Mar 2016|Peritoneal Diseases|'],\n ['NCT02756897|M.D. Anderson Cancer Center|Active, not recruiting|Jul 2016|Jul 2024|Interventional|Apr 2016|Lymphoma,Leukemia|Venetoclax'],\n ['NCT02752334|Magrabi Eye & Ear Hospital|Completed|Sep 2015|Mar 2019|Interventional|Mar 2016||Magnesium Sulfate,Bupivacaine'],\n ['NCT02754791|Shaare Zedek Medical Center|Unknown status|May 2016|May 2017|Interventional|Apr 2016||'],\n ['NCT02754128|Holland Bloorview Kids Rehabilitation Hospital|Completed|Jun 2016|Oct 2017|Interventional|Apr 2016|Cerebral Palsy|'],\n ['NCT02751190|Umeå University|Completed|Sep 2013|Feb 2017|Observational [Patient Registry]|Apr 2016|Chronic Pain,Hernia|'],\n ['NCT02751645|Oregon Health and Science University|Unknown status|Jun 2016|May 2020|Interventional|Apr 2016||'],\n ['NCT02758184|Duke University|Terminated|Jun 2016|May 2018|Interventional|Apr 2016||'],\n ['NCT02751892|University of East Anglia|Completed|Oct 2013|Sep 2014|Interventional|Apr 2016|Colorectal Neoplasms|'],\n ['NCT02755324|Leiden University|Completed|Oct 2016|Jan 2019|Interventional|Apr 2016|Schistosomiasis|'],\n ['NCT02758886|Washington State University|Completed|Apr 2014||Interventional|Apr 2016|Stress|'],\n ['NCT02750072|Fraser Orthopaedic Research Society|Active, not recruiting|Sep 2016|Apr 2023|Interventional|Apr 2016|Patellofemoral Pain Syndrome,Fractures,Tibial Fractures|'],\n ['NCT02750332|Cycle Pharmaceuticals Ltd.|Completed|Nov 2015|Jan 2016|Interventional|Apr 2016|Tyrosinemias|Nitisinone'],\n ['NCT02752529|Shanghai General Hospital, Shanghai Jiao Tong University School of Medicine|Unknown status|Mar 2016||Interventional|Mar 2016|Liver Cirrhosis|Tacrolimus'],\n ['NCT02759939|Dartmouth-Hitchcock Medical Center|Completed|Jul 2016|Jul 2017|Interventional|Feb 2016||'],\n ['NCT02757157|European Respiratory Society|Terminated|Oct 2016|Jan 2020|Interventional|Apr 2016|Lung Diseases,Pulmonary Disease|'],\n ['NCT02759627|Istanbul University|Completed|Nov 2014|Mar 2016|Interventional|Apr 2016|Stroke|'],\n ['NCT02752412|Sanofi|Completed|May 2016|Oct 2018|Interventional|Apr 2016|Diabetes Mellitus|Insulin,Metformin,Insulin Glargine,Lixisenatide'],\n ['NCT02756988|Bayer|Completed|Oct 2015|Oct 2015|Interventional|Apr 2016||'],\n ['NCT02751203|Lara McKenzie|Completed|Apr 2016|Dec 2017|Interventional|Mar 2016||'],\n ['NCT02753946|Nabriva Therapeutics AG|Completed|Apr 2016|May 2017|Interventional|Apr 2016|Infections,Communicable Diseases,Urinary Tract Infections,Pyelonephritis|Tazobactam,Piperacillin,Fosfomycin'],\n ['NCT02755480|University Health Network, Toronto|Terminated|Feb 2015|Feb 2017|Interventional|Mar 2015||'],\n ['NCT02753257|Valtari Bio|Unknown status|Sep 2016|Dec 2019|Observational|Apr 2016|Stroke|'],\n ['NCT02758691|Virginia Polytechnic Institute and State University|Completed|Dec 2015|May 2017|Interventional|Apr 2016||Insulin'],\n ['NCT02755623|Centre hospitalier de Ville-Evrard, France|Unknown status|May 2015|Dec 2018|Interventional|Apr 2016|Hallucinations,Schizophrenia|'],\n ['NCT02756234|Lancaster General Hospital|Completed|May 2016|Aug 2018|Observational|Apr 2016|Coronary Artery Disease|'],\n ['NCT02756091|University Hospital Inselspital, Berne|Recruiting|Aug 2016|May 2022|Observational [Patient Registry]|Apr 2016|Cerebrovascular Disorders|'],\n ['NCT02753491|Marmara University|Completed|Oct 2015|Mar 2016|Interventional|Apr 2016||'],\n ['NCT02752737|Medtronic Cardiac Rhythm and Heart Failure|Recruiting|May 2016|Dec 2024|Observational [Patient Registry]|Apr 2016|Atrial Fibrillation|'],\n ['NCT02758925|University Hospital, Caen|Unknown status|Jun 2016|Dec 2018|Interventional|Apr 2016|Lymphoma|Cytarabine,Rituximab,Bendamustine Hydrochloride'],\n ['NCT02751723|Florian Lordick, MD|Unknown status|Sep 2014|Oct 2019|Observational|Apr 2016||'],\n ['NCT02751931|Astellas Pharma Europe B.V.|Completed|Jun 2016|May 2019|Interventional|Apr 2016|Urinary Bladder|Mirabegron'],\n ['NCT02758847|Rabih A. Chaer|Recruiting|Sep 2016|Dec 2022|Interventional|Apr 2016|Ischemia|Paclitaxel,Albumin-Bound Paclitaxel'],\n ['NCT02757807|Eco Fusion|Unknown status|Jul 2016|Dec 2016|Interventional|Apr 2016|Erectile Dysfunction|'],\n ['NCT02755220|Shanghai Cingularbio Co. Ltd|Completed|Jan 2016|Apr 2019|Interventional|Apr 2016||'],\n ['NCT02758548|Novartis Pharmaceuticals|Completed|Mar 2016|May 2016|Interventional|Mar 2016||'],\n ['NCT02756845|Amgen|Recruiting|Aug 2017|Jun 2024|Interventional|Dec 2015|Neoplasms|Talimogene laherparepvec'],\n ['NCT02750605|Skane University Hospital|Active, not recruiting|Feb 2016|Dec 2021|Interventional|Jan 2016|Vascular Diseases,Peripheral Vascular Diseases,Peripheral Arterial Disease,Ischemia|'],\n ['NCT02756702|Aesculap AG|Active, not recruiting|Mar 2016|Dec 2022|Observational|Apr 2016|Osteoarthritis|'],\n [\"NCT02752945|King's College London|Completed|Apr 2016|Dec 2016|Interventional|Apr 2016|Depression,Depressive Disorder,Anxiety Disorders|\"],\n ['NCT02759952|STZ eyetrial|Enrolling by invitation|Jan 2013|Dec 2025|Observational|Apr 2016|Retinitis,Retinitis Pigmentosa|'],\n ['NCT02754661|Medtronic - MITG|Completed|Sep 2016|Aug 2018|Interventional|Apr 2016|Colorectal Neoplasms|'],\n ['NCT02755441|Nils Hoyer|Recruiting|Apr 2016|Dec 2024|Observational|Apr 2016|Pulmonary Fibrosis,Idiopathic Pulmonary Fibrosis,Fibrosis|'],\n ['NCT02750098|Sheba Medical Center|Unknown status|May 2016|Mar 2018|Interventional|Apr 2016|Diabetes Mellitus|'],\n ['NCT02753179|Hospices Civils de Lyon|Completed|May 2016|Jan 2017|Interventional|Apr 2016|Vestibular Diseases|'],\n ['NCT02758509|Parc de Salut Mar|Completed|Jan 2010|Oct 2017|Observational|Apr 2016|Hepatitis C,Hepatitis|Interferons,Ritonavir,Ribavirin,Interferon-alpha,Interferon alpha-2,Sofosbuvir,Peginterferon alfa-2a,Ledipasvir,Simeprevir'],\n ['NCT02751970|Universidad de Valparaiso|Unknown status|Apr 2014|Apr 2018|Interventional|Apr 2016|Dental Caries|'],\n ['NCT02753712|Mundipharma Research Limited|Completed|Jun 2016|Aug 2017|Interventional|Apr 2016|Asthma|Fluticasone,Xhance,Formoterol Fumarate'],\n ['NCT02751151|Inova Health Care Services|Completed|Feb 2016|May 2021|Interventional|Mar 2016|Skin Neoplasms|Aminolevulinic Acid'],\n ['NCT02757716|Sana Klinikum Offenbach|Completed|Apr 2016|Jan 2019|Interventional|Apr 2016|Behavior|'],\n ['NCT02758652|Tampere University Hospital|Active, not recruiting|May 2016|May 2026|Observational|Apr 2016|Ovarian Neoplasms,Carcinoma|'],\n ['NCT02754206|Southern Methodist University|Terminated|Jan 2016|Sep 2021|Observational|Apr 2016|Post-Concussion Syndrome,Brain Concussion|'],\n ['NCT02752243|Peter Bader|Active, not recruiting|Mar 2016|Mar 2022|Interventional|Mar 2016|Leukemia,Preleukemia,Myelodysplastic Syndromes,Syndrome,Acute Disease|'],\n ['NCT02754856|M.D. Anderson Cancer Center|Active, not recruiting|Jul 2016|Jul 2021|Interventional|Apr 2016|Colorectal Neoplasms|Durvalumab,Ipilimumab,Tremelimumab,Immunoglobulins,Antibodies,Immunoglobulin G'],\n ['NCT02759861|University of Nebraska|Active, not recruiting|Aug 2016|Aug 2020|Interventional|Apr 2016|Hepatitis A,Hepatitis C,Hepatitis|Sofosbuvir,Ledipasvir'],\n ['NCT02759679|Haukeland University Hospital|Unknown status|May 2016|Dec 2019|Interventional|Mar 2016|Lung Neoplasms|'],\n ['NCT02752932|Lawson Health Research Institute|Completed|Nov 2015|Oct 2017|Interventional|Feb 2016|Carcinoma,Squamous Cell Carcinoma of Head and Neck,Neoplasms|'],\n ['NCT02759445|RWTH Aachen University|Unknown status|Apr 2016|Oct 2016|Observational|Nov 2015||'],\n [\"NCT02754622|Guy's and St Thomas' NHS Foundation Trust|Completed|Jul 2016|Dec 2016|Observational|Apr 2016|Critical Illness|\"],\n ['NCT02756611|AbbVie|Active, not recruiting|Jun 2016|Sep 2022|Interventional|Apr 2016|Leukemia|Venetoclax'],\n ['NCT02758223|Wuerzburg University Hospital|Active, not recruiting|Apr 2016|Jun 2021|Interventional|Feb 2016|Leukemia,Myelodysplastic Syndromes|'],\n ['NCT02757079|Nobelpharma|Completed|Jun 2016|Jul 2018|Interventional|Apr 2016|Sleep Wake Disorders,Parasomnias,Disease,Neurodevelopmental Disorders|Melatonin'],\n ['NCT02754219|Dong-A ST Co., Ltd.|Completed|Sep 2016|Jan 2018|Interventional|Apr 2016|Liver Diseases|'],\n ['NCT02753101|Stanford University|Completed|Feb 2016|Feb 2017|Interventional|Apr 2016|Complex Regional Pain Syndromes,Reflex Sympathetic Dystrophy,Sciatica|'],\n ['NCT02759003|Fondazione Salvatore Maugeri|Completed|Mar 2011|Mar 2014|Interventional|Apr 2016|Motor Neuron Disease,Amyotrophic Lateral Sclerosis,Sclerosis|'],\n ['NCT02752659|University of British Columbia|Completed|Jun 2016|Jun 2017|Interventional|Apr 2016|Breast Neoplasms,Lymphedema|'],\n ['NCT02758912|Burnasyan Federal Medical Biophysical Center|Completed|Nov 2016|Oct 2019|Interventional|Apr 2016|Stroke,Angina Pectoris,Infarction,Hemorrhage|'],\n ['NCT02754388|National Taiwan University Hospital|Completed|Feb 2016|Dec 2019|Observational [Patient Registry]|Apr 2016|Lung Neoplasms|'],\n ['NCT02759666|Atridia Pty Ltd.|Completed|Jun 2016|Apr 2019|Interventional|Apr 2016|Neoplasms|'],\n ['NCT02750241|The University of Texas Medical Branch, Galveston|Completed|Apr 2016|Jan 2019|Interventional|Apr 2016|Breast Neoplasms|'],\n ['NCT02752568|Kasr El Aini Hospital|Unknown status|May 2016|Dec 2016|Interventional|Apr 2016||'],\n ['NCT02758015|University of California, San Francisco|Completed|Jun 2016|Mar 2018\n\n*** WARNING: max output size exceeded, skipping output. ***\n\nrbidopa,Cabergoline'],\n ['NCT00178620|The University of Texas Health Science Center, Houston|Completed|Nov 2003|Mar 2014|Interventional|Sep 2005|Myocardial Infarction,Heart Diseases,Infarction|Reteplase'],\n ['NCT00177112|University of Minnesota|Completed|Jun 2005|Oct 2007|Interventional|Sep 2005|Infections,Communicable Diseases,Urinary Tract Infections|'],\n ['NCT00173108|National Taiwan University Hospital|Completed|Jan 2006|Oct 2010|Interventional|Sep 2005|Premature Birth|'],\n ['NCT00170404|National Institute of Allergy and Infectious Diseases (NIAID)|Completed|Jun 2000|Oct 2005|Interventional|Sep 2005|Tuberculosis|Vitamins,Folic Acid,Vitamin A,Thiamine,Selenium,Micronutrients,Trace Elements'],\n ['NCT00176280|University of Kentucky|Withdrawn|Sep 2005||Interventional|Sep 2005|Carcinoma|Dexamethasone,Sargramostim'],\n ['NCT00175123|University of Aarhus|Unknown status|May 2005|Jun 2008|Interventional|Sep 2005|Urinary Bladder,Meningomyelocele,Spina Bifida Cystica|Botulinum Toxins,abobotulinumtoxinA'],\n ['NCT00170924|Novartis|Completed|Aug 2004|Jun 2006|Interventional|Sep 2005|Hypertension|Valsartan'],\n ['NCT00170222|Medical Center Alkmaar|Completed|Jul 2002|Aug 2008|Interventional|Sep 2005|Lung Diseases,Pulmonary Disease|Doxycycline'],\n ['NCT00172042|Novartis Pharmaceuticals|Completed|Mar 2005|Jun 2010|Interventional|Sep 2005|Lung Neoplasms,Carcinoma,Neoplasm Metastasis|Zoledronic Acid'],\n ['NCT00170690|North Eastern German Society of Gynaecological Oncology|Completed|Aug 2004|Apr 2012|Interventional|Sep 2005|Ovarian Neoplasms,Carcinoma|Treosulfan,Busulfan'],\n ['NCT00176904|Masonic Cancer Center, University of Minnesota|Completed|Jan 1995|Jun 2010|Interventional|Sep 2005|Gaucher Disease,Adrenoleukodystrophy,Pick Disease of the Brain,Gangliosidoses,Leukodystrophy,Niemann-Pick Diseases,Niemann-Pick Disease,Neuronal Ceroid-Lipofuscinoses,Tay-Sachs Disease,Gangliosidosis,Sandhoff Disease,Fucosidosis,Metabolism,Wolman Disease|Cyclophosphamide,Busulfan,Antilymphocyte Serum'],\n ['NCT00178204|University of Rochester|Completed|Nov 2004|Dec 2011|Observational|Sep 2005|Fatigue|'],\n ['NCT00176345|University of Leipzig|Unknown status|Jan 2001||Interventional|Sep 2005|Coronary Artery Disease,Myocardial Ischemia,Coronary Disease|'],\n ['NCT00178711|The University of Texas Health Science Center, Houston|Terminated|Nov 2005|Dec 2009|Interventional|Sep 2005|Brain Injuries,Hypothermia,Wounds and Injuries|'],\n ['NCT00173680|National Taiwan University Hospital|Unknown status|Aug 2005||Observational|Sep 2005|Lung Neoplasms|'],\n ['NCT00170417|NHS Greater Glasgow and Clyde|Completed|Dec 2000|May 2003|Interventional|Sep 2005|Sleep Initiation and Maintenance Disorders|'],\n ['NCT00173485|National Taiwan University Hospital|Unknown status|Jun 2005|Jun 2009|Observational|Sep 2005|Peritonitis,Renal Insufficiency|'],\n ['NCT00178269|University of Rochester|Completed|Jan 2005||Interventional|Sep 2005|Uterine Cervical Neoplasms|Docetaxel'],\n ['NCT00171301|Novartis Pharmaceuticals|Completed|Jun 2005|May 2008|Interventional|Sep 2005|Thalassemia,beta-Thalassemia,Iron Overload,Hemosiderosis|Deferasirox'],\n ['NCT00171782|Novartis|Completed|Feb 2004|Dec 2004|Interventional|Sep 2005|Hypertension|Valsartan,Hydrochlorothiazide'],\n ['NCT00176566|University of Medicine and Dentistry of New Jersey|Terminated|Sep 2003|Nov 2006|Interventional|Sep 2005|Leukoplakia|'],\n ['NCT00170846|Novartis Pharmaceuticals|Completed|Feb 2005|Oct 2009|Interventional|Sep 2005||Everolimus,Azathioprine,Calcineurin Inhibitors'],\n ['NCT00173836|National Taiwan University Hospital|Completed|Aug 2003|Aug 2006|Observational|Sep 2005|Nasopharyngeal Carcinoma,Nasopharyngeal Neoplasms|'],\n ['NCT00174005|National Taiwan University Hospital|Unknown status|Dec 1994||Observational|Sep 2005||'],\n ['NCT00176527|University of Medicine and Dentistry of New Jersey|Terminated|Nov 2002|Aug 2007|Interventional|Sep 2005|Prostatic Neoplasms|Interferons,Interferon-alpha,Interferon alpha-2,Docetaxel,Estramustine,Isotretinoin'],\n ['NCT00171314|Novartis Pharmaceuticals|Completed|Mar 2004||Interventional|Sep 2005|Breast Neoplasms|Zoledronic Acid,Letrozole'],\n ['NCT00175409|University of British Columbia|Completed|Jan 2008|Jun 2010|Interventional|Sep 2005||'],\n ['NCT00177190|University of Pittsburgh|Completed|Jun 2002|Jan 2006|Observational|Sep 2005|Mycoses,Lymphoma,Mycosis Fungoides,Sezary Syndrome|'],\n ['NCT00179101|Vanderbilt University|Completed|Apr 2004|Nov 2005|Observational|Sep 2005|Parkinson Disease,Depression|'],\n ['NCT00175526|University of British Columbia|Completed|Sep 2005|Dec 2010|Observational|Sep 2005|Toxemia,Sepsis|'],\n ['NCT00176293|University of Kentucky|Terminated|Oct 2005|Feb 2007|Interventional|Sep 2005|Prostatic Neoplasms|Dexamethasone,Doxorubicin'],\n ['NCT00178347|University of Rochester|Terminated|Dec 2004||Observational|Sep 2005||'],\n ['NCT00171964|Novartis Pharmaceuticals|Completed|May 2002|Dec 2008|Interventional|Sep 2005|Neoplasm Metastasis|Zoledronic Acid'],\n ['NCT00178945|Vanderbilt University|Completed|Mar 2004|Mar 2006|Interventional|Sep 2005|Myofascial Pain Syndromes,Fibromyalgia,Dystonia,Dystonic Disorders,Syndrome,Torticollis|Botulinum Toxins,abobotulinumtoxinA'],\n ['NCT00172965|National Taiwan University Hospital|Unknown status|Aug 2004|Jun 2005|Observational|Sep 2005|Mouth Neoplasms|'],\n [\"NCT00179764|Ann & Robert H Lurie Children's Hospital of Chicago|Completed|Mar 2000|Jan 2014|Interventional|Sep 2005|Leukemia,Melanoma,Neoplasms,Hematologic Neoplasms,Precursor Cell Lymphoblastic Leukemia-Lymphoma|Busulfan\"],\n ['NCT00170612|University of Melbourne|Completed|Nov 2005|Aug 2008|Interventional|Sep 2005|Pneumococcal Infections|Heptavalent Pneumococcal Conjugate Vaccine'],\n ['NCT00172627|National Taiwan University Hospital|Unknown status|Jan 2005||Observational|Sep 2005|Stomach Neoplasms|'],\n ['NCT00170872|Novartis|Completed|Nov 2004||Interventional|Sep 2005|Arthritis,Osteoarthritis|Lumiracoxib'],\n ['NCT00172770|National Taiwan University Hospital|Unknown status|Aug 2004|Jul 2006|Observational|Sep 2005|Schizophrenia|'],\n ['NCT00173849|National Taiwan University Hospital|Unknown status|Jan 2006|Jul 2006|Observational|Sep 2005|Mouth Neoplasms|'],\n ['NCT00175682|University of British Columbia|Completed|Dec 2004|Jul 2011|Interventional|Sep 2005|Spinal Cord Injuries,Autonomic Dysreflexia|Prazosin'],\n ['NCT00179127|Vanderbilt University Medical Center|Completed|Aug 2004|Sep 2012|Interventional|Sep 2005|Ketosis,Acidosis,Diabetic Ketoacidosis|Insulin Glargine'],\n ['NCT00178113|University of Pittsburgh|Completed|Jul 2003|Jul 2004|Interventional|Sep 2005|Neoplasms,Carcinoma in Situ,Prostatic Intraepithelial Neoplasia|Lycopene'],\n ['NCT00170560|National Institute of Allergy and Infectious Diseases (NIAID)|Completed|Oct 2001||Observational|Sep 2005|Infections|'],\n ['NCT00178022|University of Pittsburgh|Completed|Feb 2005|Sep 2006|Interventional|Sep 2005|Brain Injuries,Wounds and Injuries,Depression,Anxiety Disorders|'],\n ['NCT00178425|University of Rochester|Completed|Jan 2005|Jun 2006|Interventional|Sep 2005||'],\n ['NCT00178438|University of Rochester|Withdrawn|Jun 2005|Jun 2006|Interventional|Sep 2005|Crohn Disease|'],\n ['NCT00173173|National Taiwan University Hospital|Completed|Aug 2003|Jul 2004|Observational|Sep 2005|Disease,Feeding and Eating Disorders|'],\n ['NCT00177294|University of Pittsburgh|Completed|Apr 2004|Aug 2009|Interventional|Sep 2005|Depression,Depressive Disorder|Citalopram'],\n ['NCT00175461|University of British Columbia|Completed|Sep 2005|Aug 2011|Interventional|Sep 2005|Osteoarthritis|'],\n ['NCT00179062|Vanderbilt University|Completed|Feb 2000|Jun 2007|Interventional|Sep 2005|Disease,Schizophrenia,Depressive Disorder,Bipolar Disorder,Psychotic Disorders|Olanzapine,Risperidone'],\n ['NCT00173550|National Taiwan University Hospital|Unknown status|Aug 2004||Observational|Sep 2005|Premature Birth,Menopause,Primary Ovarian Insufficiency|'],\n ['NCT00177385|University of Pittsburgh|Completed|Jun 2003|Sep 2011|Interventional|Sep 2005||'],\n ['NCT00171002|Novartis|Completed|Nov 2004|Jun 2005|Interventional|Sep 2005|Hypertension|Amlodipine,Valsartan'],\n ['NCT00177125|University of Minnesota|Completed|Jan 2004|Jan 2004|Interventional|Sep 2005|Prostatic Neoplasms|'],\n ['NCT00172861|National Taiwan University Hospital|Unknown status|Jan 2005||Observational|Sep 2005|Stomach Neoplasms|'],\n ['NCT00174798|Sanofi|Completed|May 2005|May 2006|Interventional|Sep 2005|Urinary Incontinence,Enuresis,Urinary Bladder|Tolterodine Tartrate'],\n ['NCT00177892|National Institute on Aging (NIA)|Unknown status|Sep 2003|Aug 2008|Interventional|Sep 2005|Apnea,Sleep Apnea Syndromes,Sleep Apnea,Metabolic Syndrome,Syndrome|'],\n ['NCT00176761|University of Michigan Rogel Cancer Center|Terminated|Mar 2000|May 2006|Interventional|Sep 2005|Colorectal Neoplasms|Interleukin-2'],\n ['NCT00176319|University of Leipzig|Completed|May 2005||Interventional|Sep 2005|Heart Failure|'],\n ['NCT00177203|University of Pittsburgh|Completed|Jun 2003|Jan 2009|Interventional|Sep 2005|Sleep Initiation and Maintenance Disorders|'],\n ['NCT00174993|Takeda|Completed|May 2001|Jan 2005|Interventional|Sep 2005|Diabetes Mellitus|Pioglitazone'],\n ['NCT00177658|University of Pittsburgh|Completed|Mar 2006|Jun 2017|Observational|Sep 2005|Salmonella Infections|'],\n ['NCT00174928|Takeda|Completed|May 2005|Aug 2005|Interventional|Sep 2005|Gastroesophageal Reflux,Esophagitis|Lansoprazole,Dexlansoprazole'],\n ['NCT00170677|North Eastern German Society of Gynaecological Oncology|Completed|Sep 2005|Jan 2013|Interventional|Sep 2005|Ovarian Neoplasms,Carcinoma|Topotecan'],\n ['NCT00178295|University of Rochester|Completed|Nov 1999||Observational|Sep 2005|Brain Neoplasms,Trauma|'],\n ['NCT00176449|University of Maryland, Baltimore|Completed|Apr 2001|Dec 2005|Interventional|Sep 2005|Tobacco Use Disorder|Bupropion'],\n ['NCT00179751|Celgene Corporation|Terminated|Apr 2005|Aug 2006|Interventional|Sep 2005|Pancreatic Neoplasms|Gemcitabine,Lenalidomide'],\n ['NCT00172744|National Taiwan University Hospital|Unknown status|Apr 2005|Jul 2006|Observational|Sep 2005||'],\n ['NCT00177255|University of Pittsburgh|Terminated|Apr 2005|Dec 2008|Interventional|Sep 2005||Docetaxel,Capecitabine'],\n ['NCT00171925|Novartis Pharmaceuticals|Terminated|Aug 2000|Nov 2008|Interventional|Sep 2005|Multiple Myeloma,Neoplasms|Vitamin D,Zoledronic Acid,Calcium'],\n ['NCT00177307|University of Pittsburgh|Completed|Jan 2005|Feb 2012|Interventional|Sep 2005|Colorectal Neoplasms|Bevacizumab,Capecitabine,Oxaliplatin'],\n ['NCT00173862|National Taiwan University Hospital|Completed|May 2000|Jun 2006|Interventional|Jun 2005|Carcinoma|Gemcitabine,Ifosfamide'],\n ['NCT00171990|Novartis|Completed|Jan 2003|Feb 2006|Interventional|Sep 2005|Herpes Genitalis|Famciclovir'],\n ['NCT00177060|Hordinsky, Maria K., MD|Terminated|Oct 2003|May 2007|Interventional|Sep 2005|Wounds and Injuries|Hydromorphone'],\n ['NCT00173043|National Taiwan University Hospital|Unknown status|Oct 2004|Aug 2005|Observational|Sep 2005|Polycystic Ovary Syndrome,Insulin Resistance,Syndrome|'],\n ['NCT00171769|Novartis|Completed|Apr 2005||Interventional|Sep 2005|Atrial Fibrillation|Certoparin'],\n ['NCT00171951|Novartis Pharmaceuticals|Completed|Aug 2004|Jul 2013|Interventional|Sep 2005|ACTH-Secreting Pituitary Adenoma,Pituitary ACTH Hypersecretion|Pasireotide'],\n ['NCT00174850|State University of New York - Upstate Medical University|Completed|Jul 2004|May 2005|Interventional|Sep 2005|Anxiety Disorders|'],\n ['NCT00177970|University of Pittsburgh|Terminated|Oct 2003|Apr 2008|Interventional|Sep 2005|Diarrhea|Immunoglobulins,Antibodies,Immunoglobulin G,gamma-Globulins,Rho(D) Immune Globulin'],\n ['NCT00171834|Novartis Pharmaceuticals|Completed|Aug 2003|Sep 2008|Interventional|Sep 2005|Lung Neoplasms,Carcinoma|Epothilones,Epothilone B'],\n ['NCT00172601|National Taiwan University Hospital|Unknown status|Aug 2005||Interventional|Sep 2005|Bursitis|'],\n ['NCT00176254|Susanne Arnold|Completed|May 2000|Oct 2012|Interventional|Sep 2005|Carcinoma,Head and Neck Neoplasms|Paclitaxel,Carboplatin'],\n ['NCT00176553|University of Medicine and Dentistry of New Jersey|Terminated|Mar 2003|May 2007|Interventional|Sep 2005|Neurotoxicity Syndromes|Dextromethorphan'],\n ['NCT00171405|Novartis|Completed|Jun 2005|Feb 2006|Interventional|Aug 2005|Hypertension|'],\n ['NCT00177814|University of Pittsburgh|Completed|Sep 2005|Jun 2017|Observational|Sep 2005|Bacterial Infections,Gram-Negative Bacterial Infections|'],\n ['NCT00174122|National Taiwan University Hospital|Unknown status|Jul 2005|Jun 2006|Observational|Sep 2005||'],\n ['NCT00179608|Celgene|Completed|Sep 2005|Jun 2007|Interventional|Sep 2005|Melanoma|Lenalidomide'],\n ['NCT00173394|National Taiwan University Hospital|Unknown status|Aug 2005|Dec 2008|Observational|Sep 2005|Ovarian Neoplasms,Carcinoma|'],\n ['NCT00170001|Mayo Clinic|Completed|Apr 2005|Aug 2006|Interventional|Sep 2005|Gastroesophageal Reflux|Esomeprazole'],\n ['NCT00170963|Novartis|Completed|Oct 2004|Jun 2005|Interventional|Sep 2005|Hypertension|Amlodipine,Valsartan'],\n ['NCT00170365|Hennepin Healthcare Research Institute|Completed|Jul 2004|Mar 2005|Interventional|Sep 2005||'],\n ['NCT00173810|National Taiwan University Hospital|Unknown status|Aug 2005|Apr 2007|Observational|Sep 2005|Stroke|'],\n ['NCT00179335|Albert Einstein College of Medicine|Completed|Aug 2003|Sep 2006|Observational|Sep 2005|HIV Infections|'],\n ['NCT00178256|University of Rochester|Completed|Jun 1998|Dec 2012|Interventional|Sep 2005|Carcinoma|Paclitaxel'],\n ['NCT00178035|University of Pittsburgh|Completed|Dec 1999|Aug 2003|Interventional|Sep 2005|Depression,Depressive Disorder|Paroxetine'],\n ['NCT00177567|University of Pittsburgh|Completed|Jul 2001|Jan 2004|Interventional|Sep 2005|Disease,Bipolar Disorder,Mood Disorders|Lamotrigine,Valproic Acid,Olanzapine,Risperidone,Lithium Carbonate,Mirtazapine,Tranylcypromine,Bupropion,Paroxetine,Venlafaxine Hydrochloride'],\n ['NCT00172666|National Taiwan University Hospital|Unknown status|Aug 2005|Jul 2006|Observational|Sep 2005|Arthritis,Lupus Erythematosus|'],\n ['NCT00172731|National Taiwan University Hospital|Completed|Mar 2005|Jun 2005|Observational|Sep 2005|Schizophrenia|'],\n ['NCT00171873|Carmen Schade-Brittinger|Completed|Sep 2001|Dec 2013|Interventional|Sep 2005|Neuroendocrine Tumors,Neoplasm Metastasis|Octreotide'],\n ['NCT00173355|National Taiwan University Hospital|Unknown status|Jun 2005|Aug 2005|Observational|Sep 2005|Dermatofibrosarcoma,Soft Tissue Neoplasms|'],\n ['NCT00176111|Heidelberg University|Terminated|Jan 2004|Jan 2005|Interventional|Sep 2005||'],\n ['NCT00170274|Medtronic Bakken Research Center|Completed|Aug 2000|Oct 2014|Interventional|Sep 2005|Arrhythmias,Tachycardia|'],\n ['NCT00172250|National Taiwan University Hospital|Completed|Sep 2003||Observational|Sep 2005|Coronary Artery Disease|'],\n ['NCT00174356|Pfizer|Completed|Dec 2002|Oct 2005|Interventional|Sep 2005|Carcinoma|Paclitaxel,Carboplatin'],\n ['NCT00170989|Novartis|Completed|Sep 2004|Jul 2005|Interventional|Sep 2005|Hypertension|Valsartan,Hydrochlorothiazide'],\n ['NCT00179569|Beth Israel Deaconess Medical Center|Completed|Aug 2005|Sep 2007|Interventional|Sep 2005||'],\n ['NCT00172796|National Taiwan University Hospital|Unknown status|Apr 2005||Observational|Sep 2005|Metabolic Syndrome,Prediabetic State|'],\n ['NCT00178126|University of Pittsburgh|Completed|Mar 2004|Oct 2008|Interventional|Sep 2005|Pressure Ulcer,Ulcer|'],\n ['NCT00172029|Novartis|Completed|Apr 2003||Interventional|Sep 2005|Breast Neoplasms,Bone Diseases|Zoledronic Acid'],\n ['NCT00176696|University of Medicine and Dentistry of New Jersey|Terminated|Aug 2005|Apr 2007|Observational|Sep 2005|Pain|Anesthetics'],\n ['NCT00177788|University of Pittsburgh|Completed|Sep 2005|Aug 2012|Observational|Sep 2005|Mycoses,Fungemia|'],\n ['NCT00171938|Novartis|Terminated|Apr 2004|Jun 2006|Interventional|Sep 2005|Glioblastoma|Imatinib Mesylate'],\n ['NCT00177359|University of Pittsburgh|Completed|Nov 2005|Jun 2007|Interventional|Sep 2005|Mobility Limitation|'],\n ['NCT00171860|Novartis Pharmaceuticals|Terminated|Sep 2002||Interventional|Sep 2005|Hypereosinophilic Syndrome,Syndrome|Imatinib Mesylate'],\n ['NCT00171717|Novartis|Completed|Feb 2004|Dec 2005|Interventional|Sep 2005|Diabetes Mellitus|Cyclosporine,Cyclosporins'],\n ['NCT00176748|University of Michigan Rogel Cancer Center|Completed|Jul 2005|Jun 2009|Interventional|Sep 2005|Thyroid Neoplasms,Thyroid Diseases|'],\n ['NCT00175084|Tufts University|Completed|Oct 2004|Dec 2012|Interventional|Sep 2005|Cardiovascular Diseases,Metabolic Syndrome,Hyperlipidemias|'],\n ['NCT00178334|University of Rochester|Completed|Mar 2006|Jul 2006|Observational|Sep 2005|Urinary Incontinence,Enuresis|'],\n ['NCT00172822|National Taiwan University Hospital|Unknown status|Jan 2003|Jun 2005|Observational|Sep 2005|Appendicitis|'],\n ['NCT00170885|Novartis|Completed|May 2005|Jul 2007|Interventional|Sep 2005||Everolimus'],\n ['NCT00177684|University of Pittsburgh|Completed|Sep 2004|Sep 2005|Interventional|Sep 2005|Mycoses|Amphotericin B,Liposomal amphotericin B'],\n ['NCT00178672|The University of Texas Health Science Center, Houston|Completed|Nov 2002|Aug 2007|Interventional|Sep 2005|Carotid Stenosis,Carotid Artery Diseases,Stroke,Heart Diseases|'],\n ['NCT00171080|Novartis|Completed|Apr 2004|Mar 2006|Interventional|Sep 2005|Hypertension|Valsartan,Irbesartan'],\n ['NCT00176891|Masonic Cancer Center, University of Minnesota|Completed|Mar 2004|Nov 2012|Interventional|Sep 2005|Mucopolysaccharidoses,Mucopolysaccharidosis I,Syndrome|'],\n ['NCT00172107|Shire|Completed|May 1995|Mar 1997|Interventional|Sep 2005|Osteoporosis|Parathyroid Hormone'],\n ['NCT00177827|University of Pittsburgh|Completed|Mar 2004|Mar 2006|Observational|Sep 2005|Aspergillosis|'],\n ['NCT00177502|University of Pittsburgh|Completed|Jan 2003|Dec 2006|Interventional|Sep 2005|Body Weight,Weight Loss,Weight Gain|'],\n ['NCT00175045|Takeda|Completed|Jun 2003|Oct 2003|Interventional|Sep 2005|Esophagitis|Lansoprazole,Dexlansoprazole'],\n ['NCT00175981|Heidelberg University|Completed|Feb 2003|Nov 2004|Interventional|Sep 2005||Sildenafil Citrate,Fluvoxamine'],\n ['NCT00177983|University of Pittsburgh|Completed|Jan 2003|Jan 2005|Interventional|Sep 2005|Recurrence|'],\n ['NCT00179699|Celgene Corporation|Terminated|Sep 2005|Nov 2006|Interventional|Sep 2005|Lung Neoplasms,Carcinoma|Pemetrexed,Lenalidomide'],\n ['NCT00175383|University of British Columbia|Unknown status|Jun 2004|Dec 2013|Interventional|Sep 2005|Prostatic Neoplasms|Hormones,Prolactin Release-Inhibiting Factors'],\n ['NCT00178230|University of Rochester|Completed|Mar 1996|Nov 2013|Observational|Sep 2005|Lung Neoplasms|'],\n ['NCT00170859|Novartis Pharmaceuticals|Completed|Aug 2004|Dec 2006|Interventional|Sep 2005||Everolimus'],\n ['NCT00179465|Beth Israel Deaconess Medical Center|Active, not recruiting|Nov 2003|Sep 2022|Interventional|Sep 2005|Schizophrenia|Tiagabine,Antipsychotic Agents'],\n ['NCT00173732|National Taiwan University Hospital|Unknown status|Sep 2005||Observational|Sep 2005||'],\n ['NCT00170976|Novartis|Completed|Apr 2004|Jun 2005|Interventional|Sep 2005|Hypertension|Amlodipine,Valsartan'],\n ['NCT00173641|National Taiwan University Hospital|Unknown status|Sep 2005|Aug 2006|Observational|Sep 2005|Diabetes Mellitus|'],\n ['NCT00173342|National Taiwan University Hospital|Unknown status|Jun 2005||Observational|Sep 2005|Bundle-Branch Block,Heart Block|'],\n ['NCT00174148|National Taiwan University Hospital|Unknown status|Jul 2005|Jul 2006|Observational|Sep 2005|Neck Pain|'],\n ['NCT00170144|Mayo Clinic|Completed|Sep 2005|Jun 2007|Interventional|Sep 2005||'],\n ['NCT00170469|PharmAthene UK Limited|Completed|Mar 2005|Feb 2007|Interventional|Sep 2005|Anthrax|Aluminum Hydroxide'],\n ['NCT00179634|Beth Israel Deaconess Medical Center|Terminated|Mar 2005|Mar 2008|Interventional|Sep 2005|Breast Neoplasms|'],\n ['NCT00175318|University of British Columbia|Completed|Apr 2005|Feb 2011|Interventional|Sep 2005|Dental Caries|'],\n ['NCT00175812|University of Bergen|Completed|Nov 2004|Nov 2009|Interventional|Sep 2005|Leukemia|Tretinoin,Theophylline,Valproic Acid'],\n ['NCT00178906|Vanderbilt University|Completed|Dec 1999|Apr 2008|Observational|Sep 2005|Depression|'],\n ['NCT00175448|University of British Columbia|Completed|Sep 2005|Dec 2007|Interventional|Sep 2005|Arthritis|'],\n ['NCT00173069|National Taiwan University Hospital|Unknown status|Jan 2006|Dec 2010|Observational|Sep 2005|Schizophrenia|'],\n ['NCT00176956|Hordinsky, Maria K., MD|Terminated|Nov 2002|Jan 2007|Interventional|Sep 2005|Dermatitis,Skin Diseases|'],\n ['NCT00173095|National Taiwan University Hospital|Unknown status|Jan 2005|Jan 2008|Observational|Sep 2005|Subarachnoid Hemorrhage,Hemorrhage|'],\n ['NCT00177424|University of Pittsburgh|Terminated|Jul 2004|Oct 2007|Interventional|Sep 2005|Stroke,Depression,Depressive Disorder|Sertraline'],\n ['NCT00172783|National Taiwan University Hospital|Unknown status|Jun 2005|Dec 2005|Observational|Sep 2005|Tuberculosis|'],\n ['NCT00176917|Masonic Cancer Center, University of Minnesota|Completed|May 1999|May 2010|Interventional|Sep 2005|Mucolipidoses,Mucopolysaccharidoses,Mucopolysaccharidosis I,Mannosidase Deficiency Diseases,alpha-Mannosidosis,Mucopolysaccharidosis VI|Cyclophosphamide,Busulfan,Thymoglobulin'],\n ['NCT00176839|Masonic Cancer Center, University of Minnesota|Terminated|Jun 2000|Feb 2012|Interventional|Sep 2005|Neoplasms,Hematologic Neoplasms,Leukemia,Precursor Cell Lymphoblastic Leukemia-Lymphoma|Cyclophosphamide,Melphalan,Busulfan,Antilymphocyte Serum,Lenograstim,Sargramostim'],\n ['NCT00179322|National Institute on Deafness and Other Communication Disorders (NIDCD)|Completed|Sep 2005|Sep 2016|Observational|Sep 2005|Sleep Deprivation|'],\n ['NCT00170664|North Eastern German Society of Gynaecological Oncology|Completed|Jan 1999|Sep 2004|Interventional|Sep 2005|Ovarian Neoplasms,Carcinoma|Paclitaxel,Carboplatin'],\n ['NCT00172003|Novartis Pharmaceuticals|Completed|Sep 2004|Jul 2009|Interventional|Sep 2005|Neoplasm Metastasis,Neoplasms,Carcinoma|Zoledronic Acid'],\n ['NCT00170261|Medtronic Bakken Research Center|Completed|Apr 2002|Sep 2006|Interventional|Sep 2005|Syncope|'],\n ['NCT00179075|Vanderbilt University|Completed|Apr 2003|Apr 2008|Observational|Sep 2005|Graft vs Host Disease|'],\n ['NCT00179777|University of Helsinki|Completed|May 2002|Sep 2017|Interventional|Sep 2005|Diabetes Mellitus|'],\n ['NCT00174018|National Taiwan University Hospital|Completed|Sep 1993||Observational|Sep 2005|Shoulder Impingement Syndrome|'],\n ['NCT00171535|Novartis|Completed|Oct 2004|Apr 2005|Interventional|Sep 2005|Hypertension|Amlodipine,Valsartan'],\n ['NCT00173914|National Taiwan University Hospital|Unknown status|Mar 2003||Observational|Sep 2005||'],\n ['NCT00175825|UCB Pharma|Completed|Nov 2005|Jun 2006|Interventional|Sep 2005|Epilepsy,Seizures|Brivaracetam'],\n ['NCT00172198|National Taiwan University Hospital|Unknown status|Mar 2005|Mar 2007|Interventional|Sep 2005||'],\n ['NCT00171366|Novartis|Completed|Jul 2004|Jul 2005|Interventional|Sep 2005|Hypertension|Amlodipine,Benazepril'],\n ['NCT00170287|Medtronic Bakken Research Center|Completed|May 2002|Aug 2011|Interventional|Sep 2005|Tachycardia|'],\n ['NCT00170729|Novartis|Completed|Aug 2004|Feb 2005|Interventional|Sep 2005|Cataract,Capsule Opacification,Uveitis,Inflammation|Prednisolone,Methylprednisolone Acetate,Methylprednisolone,Methylprednisolone Hemisuccinate,Prednisolone acetate,Prednisolone hemisuccinate,Prednisolone phosphate'],\n ['NCT00173225|National Taiwan University Hospital|Unknown status|Jun 2005|Jun 2005|Observational|Sep 2005|Asthma,Cough|'],\n ['NCT00178100|University of Pittsburgh|Completed|Mar 1999|Aug 2005|Interventional|Sep 2005|Depression,Depressive Disorder|Paroxetine'],\n ['NCT00176397|University of Leipzig|Unknown status|Aug 2003||Interventional|Sep 2005|Coronary Artery Disease,Myocardial Ischemia,Coronary Disease,Coronary Stenosis,Constriction|'],\n ['NCT00177333|University of Pittsburgh|Completed|Sep 2005|May 2006|Interventional|Sep 2005|Vomiting|Doxycycline'],\n ['NCT00175643|University of British Columbia|Completed|Feb 2005|Nov 2005|Interventional|Sep 2005|Keratosis|Imiquimod'],\n ['NCT00172913|National Taiwan University Hospital|Unknown status|Jun 2005|Jul 2008|Observational|Sep 2005|Myopia|'],\n ['NCT00173628|National Taiwan University Hospital|Unknown status|Jan 1990|Dec 2006|Observational|Sep 2005|Diabetes Mellitus|'],\n ['NCT00172757|National Taiwan University Hospital|Unknown status|Jan 2002|Jun 2005|Observational|Sep 2005|Colorectal Neoplasms,Diabetes Mellitus|'],\n ['NCT00174512|Pfizer|Completed|Mar 2005|Jun 2006|Interventional|Sep 2005|Heart Diseases,Myocardial Ischemia,Coronary Artery Disease|Moxifloxacin'],\n ['NCT00172939|National Taiwan University Hospital|Unknown status|Jun 2005|Jan 2008|Interventional|Sep 2005|Vitiligo|'],\n ['NCT00176995|Hordinsky, Maria K., MD|Completed|Mar 1999|Oct 2000|Interventional|Sep 2005|Hair Diseases|Eflornithine'],\n ...]"
     ]
    }
   ],
   "source": [
    "# Load clinical trial data as RDD\n",
    "clinicaltrial_2020_rdd = sc.textFile(\"/FileStore/tables/clinicaltrial_2020.csv\")\n",
    "clinicaltrial_2020_rdd1 = clinicaltrial_2020_rdd.map(lambda x: x.split(\"\\t\"))\n",
    "# Filter out the header row\n",
    "header_row = clinicaltrial_2020_rdd1.first()\n",
    "clinicaltrial_2020_rdd2 = clinicaltrial_2020_rdd1.filter(lambda row: row != header_row)\n",
    "clinicaltrial_2020_rdd2 .collect()"
   ]
  },
  {
   "cell_type": "code",
   "execution_count": 0,
   "metadata": {
    "application/vnd.databricks.v1+cell": {
     "cellMetadata": {
      "byteLimit": 2048000,
      "rowLimit": 10000
     },
     "inputWidgets": {},
     "nuid": "ba551c75-b4c0-4b3a-9c66-422b62570841",
     "showTitle": false,
     "title": ""
    }
   },
   "outputs": [
    {
     "output_type": "stream",
     "name": "stdout",
     "output_type": "stream",
     "text": [
      "Out[38]: [['NCT02758028|The University of Hong Kong|Recruiting|Aug 2005|Nov 2021|Interventional|Apr 2016||'],\n ['NCT02751957|Duke University|Completed|Jul 2016|Jul 2020|Interventional|Apr 2016|Autistic Disorder,Autism Spectrum Disorder|'],\n ['NCT02758483|Universidade Federal do Rio de Janeiro|Completed|Mar 2017|Jan 2018|Interventional|Apr 2016|Diabetes Mellitus|'],\n ['NCT02759848|Istanbul Medeniyet University|Completed|Jan 2012|Dec 2014|Observational|May 2016|Tuberculosis,Lung Diseases,Pulmonary Disease|'],\n ['NCT02758860|University of Roma La Sapienza|Active, not recruiting|Jun 2016|Sep 2020|Observational [Patient Registry]|Apr 2016|Diverticular Diseases,Diverticulum,Diverticulosis|'],\n ['NCT02757209|Consorzio Futuro in Ricerca|Completed|Apr 2016|Jan 2018|Interventional|Apr 2016|Asthma|Fluticasone,Xhance,Budesonide,Formoterol Fumarate,Salmeterol Xinafoate'],\n ['NCT02752438|Ankara University|Unknown status|May 2016|Jul 2017|Observational [Patient Registry]|Apr 2016|Hypoventilation|'],\n ['NCT02753543|Ruijin Hospital|Unknown status|Nov 2015|Nov 2019|Interventional|Apr 2016|Lymphoma|'],\n ['NCT02757508|Washington University School of Medicine|Completed|Mar 2016|Jul 2017|Interventional|Apr 2016||Vitamins'],\n ['NCT02753530|Orphazyme|Completed|Aug 2017|Jan 2021|Interventional|Apr 2016|Myositis|'],\n ['NCT02754817|Novo Nordisk A/S|Completed|Apr 2016|Oct 2016|Observational|Apr 2016|Diabetes Mellitus|Liraglutide,Xultophy'],\n ['NCT02759276|Daniel Alexandre Bottino|Completed|May 2015|Dec 2015|Observational|Apr 2016|Hypertension|'],\n ['NCT02750956|Bulent Ecevit University|Completed|Jun 2015|Mar 2016|Observational|Apr 2016|Periodontal Diseases|'],\n ['NCT02752113|Institut für Pharmakologie und Präventive Medizin|Completed|Apr 2016|May 2019|Interventional|Apr 2016|Diabetes Mellitus|Metformin,Empagliflozin,Linagliptin'],\n ['NCT02752698|The Third Xiangya Hospital of Central South University|Active, not recruiting|Jan 2015|Dec 2021|Interventional|Jun 2015|Appendicitis,Stomach Ulcer,Cholecystolithiasis,Cholelithiasis,Gallstones|'],\n ['NCT02755779|Tel Aviv Medical Center|Unknown status|Jun 2016|Jun 2017|Observational|Apr 2016||'],\n ['NCT02750384|Medicines for Malaria Venture|Terminated|May 2016|Jul 2016|Interventional|Apr 2016||'],\n ['NCT02754609|James Cook University, Queensland, Australia|Completed|Sep 2016|Oct 2019|Interventional|Apr 2016|Hookworm Infections,Celiac Disease|'],\n ['NCT02755701|Soonchunhyang University Hospital|Unknown status|Jul 2016|Dec 2018|Interventional|Apr 2016|Ascites|'],\n ['NCT02751762|Member Companies of the Opioid PMR Consortium|Recruiting|Nov 2017|Oct 2022|Observational|Apr 2016|Chronic Pain,Substance-Related Disorders,Opioid-Related Disorders,Narcotic-Related Disorders,Behavior|'],\n ['NCT02756299|Marmara University|Completed|Jun 2014|Apr 2015|Interventional|Apr 2016|Sleep Apnea Syndromes,Sleep Apnea|'],\n ['NCT02750709|Cycle Pharmaceuticals Ltd.|Completed|Oct 2015|Jan 2016|Interventional|Apr 2016|Tyrosinemias|Nitisinone'],\n ['NCT02753907|Yonsei University|Completed|Jun 2015||Interventional|Apr 2016||'],\n ['NCT02755467|Cutera Inc.|Completed|May 2016|Apr 2017|Interventional|Apr 2016|Hemangioma|'],\n ['NCT02755298|University of Zurich|Completed|Oct 2016|Nov 2020|Interventional|Mar 2016|Hypertension|Acetazolamide'],\n ['NCT02759614|Guangdong Association of Clinical Trials|Unknown status|Apr 2016|Jun 2019|Interventional|Mar 2016|Carcinoma|Bevacizumab,Erlotinib Hydrochloride'],\n ['NCT02752815|Ruijin Hospital|Unknown status|Apr 2016|Jun 2020|Interventional|Apr 2016|Lymphoma|Prednisone,Cyclophosphamide,Rituximab,Vincristine,Epirubicin'],\n ['NCT02757131|The Cleveland Clinic|Completed|Jul 2016|Jul 2017|Interventional|Apr 2016|Iatrogenic Disease|'],\n [\"NCT02758704|St. Justine's Hospital|Completed|Oct 2015|Jun 2021|Interventional|Apr 2016||\"],\n ['NCT02750501|Alcresta Therapeutics, Inc.|Completed|Jul 2016|Mar 2017|Interventional|Apr 2016|Cystic Fibrosis,Fibrosis|'],\n ['NCT02759913|Iron Horse Diagnostics, Inc.|Unknown status|Jan 2015|Dec 2016|Observational|Apr 2016|Motor Neuron Disease,Amyotrophic Lateral Sclerosis,Sclerosis|'],\n ['NCT02752724|VA Puget Sound Health Care System|Completed|Mar 2016|Apr 2018|Interventional|Mar 2016|Depressive Disorder,Depression|Ketamine,Methohexital'],\n ['NCT02758444|University of Colorado, Denver|Completed|Nov 2015|Feb 2019|Interventional|Apr 2016||Micronutrients,Trace Elements'],\n ['NCT02758067|H. Lundbeck A/S|Withdrawn|Jun 2016||Interventional|Apr 2016|Schizophrenia|Risperidone,Brexpiprazole'],\n ['NCT02759341|Ospedale San Giovanni Bellinzona|Completed|Feb 2016|Nov 2017|Interventional|Apr 2016|Myocardial Infarction,Cardiomyopathies,Microvascular Angina,Takotsubo Cardiomyopathy,Syndrome,Infarction|'],\n ['NCT02753803|Dong-A ST Co., Ltd.|Completed|Jul 2016|Mar 2017|Interventional|Apr 2016||Pioglitazone'],\n ['NCT02752490|The University of Texas Health Science Center, Houston|Completed|Apr 2016|Jul 2016|Interventional|Apr 2016||'],\n ['NCT02759562|Gilead Sciences|Terminated|Nov 2016|Jul 2017|Interventional|Apr 2016|Cystic Fibrosis,Fibrosis|'],\n ['NCT02758262|Laval University|Unknown status|Apr 2016|Dec 2017|Interventional|Apr 2016|Hyperphagia|'],\n [\"NCT02754258|Children's Hospital of Eastern Ontario|Unknown status|Jan 2017|Dec 2018|Interventional|Apr 2016||Methylphenidate\"],\n ['NCT02755207|Xinhua Hospital, Shanghai Jiao Tong University School of Medicine|Unknown status|Apr 2016|Dec 2020|Observational|Mar 2016|Acute Coronary Syndrome,Syndrome|'],\n ['NCT02759900|The Skin Center Dermatology Group|Recruiting|Jan 2016|Jan 2023|Interventional|Apr 2016|Molluscum Contagiosum,Keratosis,Bowens Disease,Rosacea,Skin Diseases|'],\n ['NCT02752581|Mert Özcan|Completed|Jan 2009|Apr 2013|Interventional|Apr 2016|Hemarthrosis|'],\n ['NCT02759796|Instituto de Investigación Hospital Universitario La Paz|Completed|Nov 2015|Apr 2017|Interventional|Apr 2016|Necrosis,Neovascularization,Fat Necrosis|'],\n ['NCT02754063|University Hospital, Grenoble|Active, not recruiting|Jun 2016|Apr 2022|Interventional|Apr 2016|Brain Injuries,Wounds and Injuries|3'],\n ['NCT02750917|Foisor Orthopedics Clinical Hospital|Completed|Sep 2014|Mar 2015|Interventional|Feb 2016|Pain|Etoricoxib,Lornoxicam'],\n ['NCT02753569|Institute of Cancer Research, United Kingdom|Completed|May 2016|May 2020|Observational|Apr 2016||'],\n ['NCT02751255|VU University Medical Center|Active, not recruiting|Jul 2016|Mar 2022|Interventional|Apr 2016|Multiple Myeloma,Neoplasms|Tretinoin'],\n ['NCT02751528|NantBioScience, Inc.|Unknown status|Dec 2016|Dec 2020|Interventional|Apr 2016|Breast Neoplasms|Vaccines'],\n ['NCT02751619|University of Campania Luigi Vanvitelli|Completed|Jan 2013|Dec 2015|Interventional|Apr 2016|Pain|Lidocaine'],\n ['NCT02757833|Lawson Health Research Institute|Withdrawn|Feb 2019|Feb 2019|Interventional|Apr 2016|Depression,Depressive Disorder|'],\n ['NCT02750761|Merck Sharp & Dohme Corp.|Completed|May 2016|Dec 2018|Interventional|Apr 2016|Infections,Bacterial Infections,Gram-Positive Bacterial Infections|Tedizolid phosphate,Tedizolid,Oxazolidinones'],\n ['NCT02752594|Sharda University|Completed|Apr 2015|Apr 2015|Interventional|Apr 2016|Dental Caries|'],\n ['NCT02753452|Holland Bloorview Kids Rehabilitation Hospital|Unknown status|May 2015|Mar 2020|Interventional|Apr 2016||'],\n ['NCT02752763|Niğde State Hospital|Completed|Oct 2015|Mar 2016|Interventional|Mar 2016|Dry Eye Syndromes,Keratoconjunctivitis Sicca|Dextrans,Povidone,Ophthalmic Solutions,Lubricant Eye Drops'],\n ['NCT02753816|Spectrum Health Hospitals|Terminated|Apr 2016|Dec 2019|Interventional|Apr 2016|Burns|Tranexamic Acid'],\n ['NCT02751294|GlaxoSmithKline|Completed|May 2016|Aug 2016|Interventional|Apr 2016|Malaria|Tafenoquine'],\n ['NCT02756429|Hospices Civils de Lyon|Completed|Feb 2014|Jan 2018|Interventional|Apr 2016|Atrial Fibrillation|'],\n ['NCT02750163|Università Politecnica delle Marche|Completed|Jul 2017|Jun 2019|Observational|Apr 2016|Shock|Acetaminophen'],\n ['NCT02751905|Biogen|Completed|Apr 2016|May 2016|Interventional|Apr 2016|Neuralgia|'],\n ['NCT02753153|University of Liege|Completed|May 2011|May 2015|Interventional|Apr 2016|Tooth Loss|'],\n ['NCT02750891|Sumitomo Dainippon Pharma Co., Ltd.|Completed|Apr 2016|Jan 2020|Interventional|Apr 2016|Glioblastoma,Glioma,Diffuse Intrinsic Pontine Glioma|'],\n ['NCT02751073|Mayo Clinic|Completed|Feb 2016|Jul 2018|Observational|Feb 2016|Infections,Communicable Diseases,Urinary Tract Infections,Prolapse,Pelvic Organ Prolapse|'],\n ['NCT02753114|University of British Columbia|Completed|Nov 2017|May 2018|Interventional|Apr 2016|Acute Pain|Ketamine'],\n ['NCT02752516|Chia Tai Tianqing Pharmaceutical Group Co., Ltd.|Unknown status|Apr 2016|Dec 2017|Interventional|Apr 2016||'],\n ['NCT02752269|Medical University of Graz|Completed|Oct 2014|Jun 2019|Observational|Nov 2015|Sjogrens Syndrome,Hypertension,Vascular Diseases,Syndrome|'],\n ['NCT02754713|Hippocration General Hospital|Recruiting|Sep 2009|Dec 2025|Observational|Apr 2016|Pericarditis|'],\n ['NCT02759770|Beijing Anzhen Hospital|Completed|Jul 2017|Sep 2017|Observational|Apr 2016|Respiratory Distress Syndrome,Acute Lung Injury|'],\n ['NCT02755129|Medtronic BRC|Completed|Sep 2016|Jul 2017|Interventional|Mar 2016|Frailty|'],\n ['NCT02754674|Samsung Medical Center|Completed|May 2014|Dec 2017|Interventional|Feb 2015|Rupture|'],\n ['NCT02757521|Washington University School of Medicine|Terminated|Mar 2016|Dec 2016|Interventional|Apr 2016|Disease,Depression,Depressive Disorder,Bipolar Disorder|Nitrous Oxide'],\n ['NCT02750774|University of Modena and Reggio Emilia|Unknown status|Dec 2015|Dec 2016|Interventional|Apr 2016|Diabetes,Obesity,Pregnancy Complications,Fetal Macrosomia,Overweight,Birth Weight|'],\n ['NCT02754739|Samsung Medical Center|Completed|Apr 2014|Aug 2017|Interventional|Apr 2016|Diabetes Mellitus,Prediabetic State|Pravastatin'],\n ['NCT02758808|University of Michigan|Recruiting|Mar 2016|Oct 2023|Observational [Patient Registry]|Apr 2016|Lung Diseases,Pulmonary Fibrosis,Idiopathic Pulmonary Fibrosis,Fibrosis|'],\n ['NCT02751840|Tel Hai College|Completed|Oct 2014|Apr 2016|Interventional|Apr 2016|Asymptomatic Diseases|Caffeine'],\n ['NCT02752451|University of Arizona|Completed|Mar 2015|Apr 2015|Interventional|Apr 2016||'],\n ['NCT02757599|Rigshospitalet, Denmark|Completed|Aug 2016|Jun 2017|Interventional|Apr 2016||'],\n ['NCT02753894|Astellas Pharma Inc|Completed|Jan 2008|Jun 2008|Interventional|Mar 2016|Kidney Diseases,Renal Insufficiency,Hyperphosphatemia|'],\n ['NCT02757638|Texas A&M University|Active, not recruiting|Oct 2015|Oct 2021|Interventional|Feb 2016|Weight Loss|'],\n ['NCT02757378|Kevin Farrell|Completed|May 2015|Sep 2015|Interventional|Apr 2016|Back Pain,Low Back Pain|'],\n ['NCT02751489|Bayer|Completed|May 2016|May 2016|Interventional|Apr 2016|Dermatitis|'],\n ['NCT02759315|Merck Sharp & Dohme Corp.|Terminated|May 2016|Nov 2017|Interventional|Apr 2016|Hepatitis A,Hepatitis C,Hepatitis|Uprifosbuvir,Ruzasvir'],\n ['NCT02754895|Massachusetts General Hospital|Completed|Oct 2014|May 2017|Interventional|Apr 2016|Acute Coronary Syndrome,Syndrome|'],\n ['NCT02750475|Bayer|Completed|May 2016|May 2016|Interventional|Apr 2016|Dermatitis|Sunscreening Agents'],\n ['NCT02755064|Adil Bharucha|Completed|Jun 2010|Nov 2013|Interventional|Apr 2016|Diabetes Mellitus|Erythromycin,Erythromycin Estolate,Erythromycin Ethylsuccinate,Erythromycin stearate,Erythromycin lactobionate'],\n ['NCT02758002|University of California, San Diego|Withdrawn|Jan 2016|Dec 2018|Interventional|Apr 2016|Atrial Fibrillation|'],\n ['NCT02755142|medac GmbH|Completed|Feb 2000|Jun 2001|Interventional|Apr 2016|Glioma,Brain Neoplasms|Aminolevulinic Acid'],\n ['NCT02756364|Millennium Pharmaceuticals, Inc.|Completed|Jul 2016|Nov 2019|Interventional|Apr 2016|Breast Neoplasms|Fulvestrant'],\n ['NCT02759484|Rush University Medical Center|Unknown status|Mar 2015|Mar 2019|Interventional|Dec 2015|Hypertension,Diabetes Mellitus,Hyperglycemia|'],\n ['NCT02752061|Harvard School of Public Health (HSPH)|Completed|May 2016|Jul 2020|Interventional|Apr 2016||'],\n ['NCT02756598|Aarhus University Hospital|Completed|Jan 2015|Jun 2018|Interventional|Dec 2015||Sufentanil,Dsuvia,Propofol'],\n ['NCT02755727|Royal Devon and Exeter NHS Foundation Trust|Completed|Mar 2016|Sep 2017|Interventional|Apr 2016|Tennis Elbow|'],\n ['NCT02754882|Samsung Bioepis Co., Ltd.|Completed|Jul 2016|Oct 2018|Interventional|Mar 2016|Lung Neoplasms,Carcinoma|Paclitaxel,Bevacizumab,Carboplatin'],\n ['NCT02754778|Martin-Luther-Universität Halle-Wittenberg|Completed|Apr 2016|Mar 2021|Interventional|Apr 2016|Pre-Eclampsia,HELLP Syndrome,Syndrome|'],\n ['NCT02758171|Boehringer Ingelheim|Completed|May 2016|Aug 2016|Interventional|Apr 2016||Empagliflozin,Linagliptin'],\n ['NCT02755376|Samsung Medical Center|Completed|Jan 2014|Dec 2018|Interventional|Feb 2015||Hyaluronic Acid'],\n ['NCT02759016|Boehringer Ingelheim|Completed|Jun 2016|Jul 2019|Interventional|Apr 2016|Leukemia|BI 836826'],\n ['NCT02758457|University of Bologna|Completed|Jan 2008|Apr 2015|Interventional|Apr 2016||'],\n ['NCT02755519|Chongqing Medical University|Completed|May 2014|Oct 2016|Observational|Apr 2016|Hyperaldosteronism|'],\n ['NCT02758782|Charite University, Berlin, Germany|Completed|Sep 2016|Jan 2021|Interventional|Apr 2016|Spondylitis|Celecoxib,Golimumab'],\n ['NCT02756806|Cutera Inc.|Completed|Apr 2016|Sep 2016|Interventional|Apr 2016||'],\n ['NCT02756156|Kahramanmaras Sutcu Imam University|Unknown status|Apr 2016|Aug 2016|Observational|Mar 2016|Humeral Fractures|'],\n ['NCT02759458|Rush University Medical Center|Completed|Nov 2013|Jan 2017|Interventional|Apr 2016|Rotator Cuff Injuries|'],\n ['NCT02750982|Brown, Theodore R., M.D., MPH|Completed|Jul 2016|Aug 2018|Interventional|Apr 2016|Parkinson Disease,Multiple Sclerosis,Alzheimer Disease,Brain Injuries,Spinal Cord Injuries,Motor Neuron Disease,Amyotrophic Lateral Sclerosis,Huntington Disease,Sclerosis,Wounds and Injuries|'],\n ['NCT02751502|NYU Langone Health|Terminated|Jan 2017|Feb 2021|Interventional|Apr 2016|Hemiplegia|'],\n ['NCT02752087|Eli Lilly and Company|Completed|Apr 2016|May 2016|Interventional|Apr 2016||'],\n ['NCT02756858|Anavex Life Sciences Corp.|Completed|Mar 2016|Nov 2020|Interventional|Mar 2016|Alzheimer Disease|'],\n ['NCT02758249|Konkuk University Medical Center|Completed|Jan 2016|Jan 2016|Interventional|Feb 2016||Propofol,Sevoflurane'],\n ['NCT02754570|University of Colorado, Denver|Completed|Jul 2016|Feb 2018|Interventional|Apr 2016|Glaucoma,Ocular Hypertension,Hypertension|Pilocarpine'],\n ['NCT02754102|Bayer|Completed|May 2016|May 2016|Interventional|Apr 2016|Dermatitis|Sunscreening Agents'],\n [\"NCT02751593|Peking University People's Hospital|Unknown status|Jan 2016|Dec 2017|Interventional|Apr 2016|Thrombocytopenia,Purpura|Dexamethasone\"],\n ['NCT02757014|Bayer|Completed|Oct 2015|Oct 2015|Interventional|Apr 2016||'],\n ['NCT02753062|Asan Medical Center|Recruiting|Aug 2015|Aug 2023|Interventional|Apr 2016|Lymphoma|Rituximab,Bendamustine Hydrochloride'],\n ['NCT02752425|Hospices Civils de Lyon|Completed|May 2016|May 2018|Interventional|Apr 2016|Speech Disorders|'],\n ['NCT02757300|Marienhospital Osnabrück|Unknown status|May 2016|Jul 2017|Interventional|Apr 2016|Pharyngitis|'],\n ['NCT02754180|Peking Union Medical College Hospital|Unknown status|Mar 2016|Mar 2021|Interventional|Apr 2016|Adenocarcinoma,Pancreatic Neoplasms|Gemcitabine'],\n ['NCT02752321|Northwell Health|Terminated|Aug 2016|Dec 2017|Interventional|Apr 2016||'],\n ['NCT02753595|Eisai Inc.|Terminated|Jul 2016|Aug 2019|Interventional|Apr 2016|Breast Neoplasms|'],\n ['NCT02755246|Charite University, Berlin, Germany|Completed|Apr 2016|Sep 2016|Interventional|Apr 2016|Cognitive Dysfunction|'],\n ['NCT02754115|Tata Memorial Centre|Recruiting|Apr 2016|Jan 2022|Observational|Mar 2016|Peritoneal Diseases|'],\n ['NCT02756897|M.D. Anderson Cancer Center|Active, not recruiting|Jul 2016|Jul 2024|Interventional|Apr 2016|Lymphoma,Leukemia|Venetoclax'],\n ['NCT02752334|Magrabi Eye & Ear Hospital|Completed|Sep 2015|Mar 2019|Interventional|Mar 2016||Magnesium Sulfate,Bupivacaine'],\n ['NCT02754791|Shaare Zedek Medical Center|Unknown status|May 2016|May 2017|Interventional|Apr 2016||'],\n ['NCT02754128|Holland Bloorview Kids Rehabilitation Hospital|Completed|Jun 2016|Oct 2017|Interventional|Apr 2016|Cerebral Palsy|'],\n ['NCT02751190|Umeå University|Completed|Sep 2013|Feb 2017|Observational [Patient Registry]|Apr 2016|Chronic Pain,Hernia|'],\n ['NCT02751645|Oregon Health and Science University|Unknown status|Jun 2016|May 2020|Interventional|Apr 2016||'],\n ['NCT02758184|Duke University|Terminated|Jun 2016|May 2018|Interventional|Apr 2016||'],\n ['NCT02751892|University of East Anglia|Completed|Oct 2013|Sep 2014|Interventional|Apr 2016|Colorectal Neoplasms|'],\n ['NCT02755324|Leiden University|Completed|Oct 2016|Jan 2019|Interventional|Apr 2016|Schistosomiasis|'],\n ['NCT02758886|Washington State University|Completed|Apr 2014||Interventional|Apr 2016|Stress|'],\n ['NCT02750072|Fraser Orthopaedic Research Society|Active, not recruiting|Sep 2016|Apr 2023|Interventional|Apr 2016|Patellofemoral Pain Syndrome,Fractures,Tibial Fractures|'],\n ['NCT02750332|Cycle Pharmaceuticals Ltd.|Completed|Nov 2015|Jan 2016|Interventional|Apr 2016|Tyrosinemias|Nitisinone'],\n ['NCT02752529|Shanghai General Hospital, Shanghai Jiao Tong University School of Medicine|Unknown status|Mar 2016||Interventional|Mar 2016|Liver Cirrhosis|Tacrolimus'],\n ['NCT02759939|Dartmouth-Hitchcock Medical Center|Completed|Jul 2016|Jul 2017|Interventional|Feb 2016||'],\n ['NCT02757157|European Respiratory Society|Terminated|Oct 2016|Jan 2020|Interventional|Apr 2016|Lung Diseases,Pulmonary Disease|'],\n ['NCT02759627|Istanbul University|Completed|Nov 2014|Mar 2016|Interventional|Apr 2016|Stroke|'],\n ['NCT02752412|Sanofi|Completed|May 2016|Oct 2018|Interventional|Apr 2016|Diabetes Mellitus|Insulin,Metformin,Insulin Glargine,Lixisenatide'],\n ['NCT02756988|Bayer|Completed|Oct 2015|Oct 2015|Interventional|Apr 2016||'],\n ['NCT02751203|Lara McKenzie|Completed|Apr 2016|Dec 2017|Interventional|Mar 2016||'],\n ['NCT02753946|Nabriva Therapeutics AG|Completed|Apr 2016|May 2017|Interventional|Apr 2016|Infections,Communicable Diseases,Urinary Tract Infections,Pyelonephritis|Tazobactam,Piperacillin,Fosfomycin'],\n ['NCT02755480|University Health Network, Toronto|Terminated|Feb 2015|Feb 2017|Interventional|Mar 2015||'],\n ['NCT02753257|Valtari Bio|Unknown status|Sep 2016|Dec 2019|Observational|Apr 2016|Stroke|'],\n ['NCT02758691|Virginia Polytechnic Institute and State University|Completed|Dec 2015|May 2017|Interventional|Apr 2016||Insulin'],\n ['NCT02755623|Centre hospitalier de Ville-Evrard, France|Unknown status|May 2015|Dec 2018|Interventional|Apr 2016|Hallucinations,Schizophrenia|'],\n ['NCT02756234|Lancaster General Hospital|Completed|May 2016|Aug 2018|Observational|Apr 2016|Coronary Artery Disease|'],\n ['NCT02756091|University Hospital Inselspital, Berne|Recruiting|Aug 2016|May 2022|Observational [Patient Registry]|Apr 2016|Cerebrovascular Disorders|'],\n ['NCT02753491|Marmara University|Completed|Oct 2015|Mar 2016|Interventional|Apr 2016||'],\n ['NCT02752737|Medtronic Cardiac Rhythm and Heart Failure|Recruiting|May 2016|Dec 2024|Observational [Patient Registry]|Apr 2016|Atrial Fibrillation|'],\n ['NCT02758925|University Hospital, Caen|Unknown status|Jun 2016|Dec 2018|Interventional|Apr 2016|Lymphoma|Cytarabine,Rituximab,Bendamustine Hydrochloride'],\n ['NCT02751723|Florian Lordick, MD|Unknown status|Sep 2014|Oct 2019|Observational|Apr 2016||'],\n ['NCT02751931|Astellas Pharma Europe B.V.|Completed|Jun 2016|May 2019|Interventional|Apr 2016|Urinary Bladder|Mirabegron'],\n ['NCT02758847|Rabih A. Chaer|Recruiting|Sep 2016|Dec 2022|Interventional|Apr 2016|Ischemia|Paclitaxel,Albumin-Bound Paclitaxel'],\n ['NCT02757807|Eco Fusion|Unknown status|Jul 2016|Dec 2016|Interventional|Apr 2016|Erectile Dysfunction|'],\n ['NCT02755220|Shanghai Cingularbio Co. Ltd|Completed|Jan 2016|Apr 2019|Interventional|Apr 2016||'],\n ['NCT02758548|Novartis Pharmaceuticals|Completed|Mar 2016|May 2016|Interventional|Mar 2016||'],\n ['NCT02756845|Amgen|Recruiting|Aug 2017|Jun 2024|Interventional|Dec 2015|Neoplasms|Talimogene laherparepvec'],\n ['NCT02750605|Skane University Hospital|Active, not recruiting|Feb 2016|Dec 2021|Interventional|Jan 2016|Vascular Diseases,Peripheral Vascular Diseases,Peripheral Arterial Disease,Ischemia|'],\n ['NCT02756702|Aesculap AG|Active, not recruiting|Mar 2016|Dec 2022|Observational|Apr 2016|Osteoarthritis|'],\n [\"NCT02752945|King's College London|Completed|Apr 2016|Dec 2016|Interventional|Apr 2016|Depression,Depressive Disorder,Anxiety Disorders|\"],\n ['NCT02759952|STZ eyetrial|Enrolling by invitation|Jan 2013|Dec 2025|Observational|Apr 2016|Retinitis,Retinitis Pigmentosa|'],\n ['NCT02754661|Medtronic - MITG|Completed|Sep 2016|Aug 2018|Interventional|Apr 2016|Colorectal Neoplasms|'],\n ['NCT02755441|Nils Hoyer|Recruiting|Apr 2016|Dec 2024|Observational|Apr 2016|Pulmonary Fibrosis,Idiopathic Pulmonary Fibrosis,Fibrosis|'],\n ['NCT02750098|Sheba Medical Center|Unknown status|May 2016|Mar 2018|Interventional|Apr 2016|Diabetes Mellitus|'],\n ['NCT02753179|Hospices Civils de Lyon|Completed|May 2016|Jan 2017|Interventional|Apr 2016|Vestibular Diseases|'],\n ['NCT02758509|Parc de Salut Mar|Completed|Jan 2010|Oct 2017|Observational|Apr 2016|Hepatitis C,Hepatitis|Interferons,Ritonavir,Ribavirin,Interferon-alpha,Interferon alpha-2,Sofosbuvir,Peginterferon alfa-2a,Ledipasvir,Simeprevir'],\n ['NCT02751970|Universidad de Valparaiso|Unknown status|Apr 2014|Apr 2018|Interventional|Apr 2016|Dental Caries|'],\n ['NCT02753712|Mundipharma Research Limited|Completed|Jun 2016|Aug 2017|Interventional|Apr 2016|Asthma|Fluticasone,Xhance,Formoterol Fumarate'],\n ['NCT02751151|Inova Health Care Services|Completed|Feb 2016|May 2021|Interventional|Mar 2016|Skin Neoplasms|Aminolevulinic Acid'],\n ['NCT02757716|Sana Klinikum Offenbach|Completed|Apr 2016|Jan 2019|Interventional|Apr 2016|Behavior|'],\n ['NCT02758652|Tampere University Hospital|Active, not recruiting|May 2016|May 2026|Observational|Apr 2016|Ovarian Neoplasms,Carcinoma|'],\n ['NCT02754206|Southern Methodist University|Terminated|Jan 2016|Sep 2021|Observational|Apr 2016|Post-Concussion Syndrome,Brain Concussion|'],\n ['NCT02752243|Peter Bader|Active, not recruiting|Mar 2016|Mar 2022|Interventional|Mar 2016|Leukemia,Preleukemia,Myelodysplastic Syndromes,Syndrome,Acute Disease|'],\n ['NCT02754856|M.D. Anderson Cancer Center|Active, not recruiting|Jul 2016|Jul 2021|Interventional|Apr 2016|Colorectal Neoplasms|Durvalumab,Ipilimumab,Tremelimumab,Immunoglobulins,Antibodies,Immunoglobulin G'],\n ['NCT02759861|University of Nebraska|Active, not recruiting|Aug 2016|Aug 2020|Interventional|Apr 2016|Hepatitis A,Hepatitis C,Hepatitis|Sofosbuvir,Ledipasvir'],\n ['NCT02759679|Haukeland University Hospital|Unknown status|May 2016|Dec 2019|Interventional|Mar 2016|Lung Neoplasms|'],\n ['NCT02752932|Lawson Health Research Institute|Completed|Nov 2015|Oct 2017|Interventional|Feb 2016|Carcinoma,Squamous Cell Carcinoma of Head and Neck,Neoplasms|'],\n ['NCT02759445|RWTH Aachen University|Unknown status|Apr 2016|Oct 2016|Observational|Nov 2015||'],\n [\"NCT02754622|Guy's and St Thomas' NHS Foundation Trust|Completed|Jul 2016|Dec 2016|Observational|Apr 2016|Critical Illness|\"],\n ['NCT02756611|AbbVie|Active, not recruiting|Jun 2016|Sep 2022|Interventional|Apr 2016|Leukemia|Venetoclax'],\n ['NCT02758223|Wuerzburg University Hospital|Active, not recruiting|Apr 2016|Jun 2021|Interventional|Feb 2016|Leukemia,Myelodysplastic Syndromes|'],\n ['NCT02757079|Nobelpharma|Completed|Jun 2016|Jul 2018|Interventional|Apr 2016|Sleep Wake Disorders,Parasomnias,Disease,Neurodevelopmental Disorders|Melatonin'],\n ['NCT02754219|Dong-A ST Co., Ltd.|Completed|Sep 2016|Jan 2018|Interventional|Apr 2016|Liver Diseases|'],\n ['NCT02753101|Stanford University|Completed|Feb 2016|Feb 2017|Interventional|Apr 2016|Complex Regional Pain Syndromes,Reflex Sympathetic Dystrophy,Sciatica|'],\n ['NCT02759003|Fondazione Salvatore Maugeri|Completed|Mar 2011|Mar 2014|Interventional|Apr 2016|Motor Neuron Disease,Amyotrophic Lateral Sclerosis,Sclerosis|'],\n ['NCT02752659|University of British Columbia|Completed|Jun 2016|Jun 2017|Interventional|Apr 2016|Breast Neoplasms,Lymphedema|'],\n ['NCT02758912|Burnasyan Federal Medical Biophysical Center|Completed|Nov 2016|Oct 2019|Interventional|Apr 2016|Stroke,Angina Pectoris,Infarction,Hemorrhage|'],\n ['NCT02754388|National Taiwan University Hospital|Completed|Feb 2016|Dec 2019|Observational [Patient Registry]|Apr 2016|Lung Neoplasms|'],\n ['NCT02759666|Atridia Pty Ltd.|Completed|Jun 2016|Apr 2019|Interventional|Apr 2016|Neoplasms|'],\n ['NCT02750241|The University of Texas Medical Branch, Galveston|Completed|Apr 2016|Jan 2019|Interventional|Apr 2016|Breast Neoplasms|'],\n ['NCT02752568|Kasr El Aini Hospital|Unknown status|May 2016|Dec 2016|Interventional|Apr 2016||'],\n ['NCT02758015|University of California, San Francisco|Completed|Jun 2016|Mar 2018\n\n*** WARNING: max output size exceeded, skipping output. ***\n\nrbidopa,Cabergoline'],\n ['NCT00178620|The University of Texas Health Science Center, Houston|Completed|Nov 2003|Mar 2014|Interventional|Sep 2005|Myocardial Infarction,Heart Diseases,Infarction|Reteplase'],\n ['NCT00177112|University of Minnesota|Completed|Jun 2005|Oct 2007|Interventional|Sep 2005|Infections,Communicable Diseases,Urinary Tract Infections|'],\n ['NCT00173108|National Taiwan University Hospital|Completed|Jan 2006|Oct 2010|Interventional|Sep 2005|Premature Birth|'],\n ['NCT00170404|National Institute of Allergy and Infectious Diseases (NIAID)|Completed|Jun 2000|Oct 2005|Interventional|Sep 2005|Tuberculosis|Vitamins,Folic Acid,Vitamin A,Thiamine,Selenium,Micronutrients,Trace Elements'],\n ['NCT00176280|University of Kentucky|Withdrawn|Sep 2005||Interventional|Sep 2005|Carcinoma|Dexamethasone,Sargramostim'],\n ['NCT00175123|University of Aarhus|Unknown status|May 2005|Jun 2008|Interventional|Sep 2005|Urinary Bladder,Meningomyelocele,Spina Bifida Cystica|Botulinum Toxins,abobotulinumtoxinA'],\n ['NCT00170924|Novartis|Completed|Aug 2004|Jun 2006|Interventional|Sep 2005|Hypertension|Valsartan'],\n ['NCT00170222|Medical Center Alkmaar|Completed|Jul 2002|Aug 2008|Interventional|Sep 2005|Lung Diseases,Pulmonary Disease|Doxycycline'],\n ['NCT00172042|Novartis Pharmaceuticals|Completed|Mar 2005|Jun 2010|Interventional|Sep 2005|Lung Neoplasms,Carcinoma,Neoplasm Metastasis|Zoledronic Acid'],\n ['NCT00170690|North Eastern German Society of Gynaecological Oncology|Completed|Aug 2004|Apr 2012|Interventional|Sep 2005|Ovarian Neoplasms,Carcinoma|Treosulfan,Busulfan'],\n ['NCT00176904|Masonic Cancer Center, University of Minnesota|Completed|Jan 1995|Jun 2010|Interventional|Sep 2005|Gaucher Disease,Adrenoleukodystrophy,Pick Disease of the Brain,Gangliosidoses,Leukodystrophy,Niemann-Pick Diseases,Niemann-Pick Disease,Neuronal Ceroid-Lipofuscinoses,Tay-Sachs Disease,Gangliosidosis,Sandhoff Disease,Fucosidosis,Metabolism,Wolman Disease|Cyclophosphamide,Busulfan,Antilymphocyte Serum'],\n ['NCT00178204|University of Rochester|Completed|Nov 2004|Dec 2011|Observational|Sep 2005|Fatigue|'],\n ['NCT00176345|University of Leipzig|Unknown status|Jan 2001||Interventional|Sep 2005|Coronary Artery Disease,Myocardial Ischemia,Coronary Disease|'],\n ['NCT00178711|The University of Texas Health Science Center, Houston|Terminated|Nov 2005|Dec 2009|Interventional|Sep 2005|Brain Injuries,Hypothermia,Wounds and Injuries|'],\n ['NCT00173680|National Taiwan University Hospital|Unknown status|Aug 2005||Observational|Sep 2005|Lung Neoplasms|'],\n ['NCT00170417|NHS Greater Glasgow and Clyde|Completed|Dec 2000|May 2003|Interventional|Sep 2005|Sleep Initiation and Maintenance Disorders|'],\n ['NCT00173485|National Taiwan University Hospital|Unknown status|Jun 2005|Jun 2009|Observational|Sep 2005|Peritonitis,Renal Insufficiency|'],\n ['NCT00178269|University of Rochester|Completed|Jan 2005||Interventional|Sep 2005|Uterine Cervical Neoplasms|Docetaxel'],\n ['NCT00171301|Novartis Pharmaceuticals|Completed|Jun 2005|May 2008|Interventional|Sep 2005|Thalassemia,beta-Thalassemia,Iron Overload,Hemosiderosis|Deferasirox'],\n ['NCT00171782|Novartis|Completed|Feb 2004|Dec 2004|Interventional|Sep 2005|Hypertension|Valsartan,Hydrochlorothiazide'],\n ['NCT00176566|University of Medicine and Dentistry of New Jersey|Terminated|Sep 2003|Nov 2006|Interventional|Sep 2005|Leukoplakia|'],\n ['NCT00170846|Novartis Pharmaceuticals|Completed|Feb 2005|Oct 2009|Interventional|Sep 2005||Everolimus,Azathioprine,Calcineurin Inhibitors'],\n ['NCT00173836|National Taiwan University Hospital|Completed|Aug 2003|Aug 2006|Observational|Sep 2005|Nasopharyngeal Carcinoma,Nasopharyngeal Neoplasms|'],\n ['NCT00174005|National Taiwan University Hospital|Unknown status|Dec 1994||Observational|Sep 2005||'],\n ['NCT00176527|University of Medicine and Dentistry of New Jersey|Terminated|Nov 2002|Aug 2007|Interventional|Sep 2005|Prostatic Neoplasms|Interferons,Interferon-alpha,Interferon alpha-2,Docetaxel,Estramustine,Isotretinoin'],\n ['NCT00171314|Novartis Pharmaceuticals|Completed|Mar 2004||Interventional|Sep 2005|Breast Neoplasms|Zoledronic Acid,Letrozole'],\n ['NCT00175409|University of British Columbia|Completed|Jan 2008|Jun 2010|Interventional|Sep 2005||'],\n ['NCT00177190|University of Pittsburgh|Completed|Jun 2002|Jan 2006|Observational|Sep 2005|Mycoses,Lymphoma,Mycosis Fungoides,Sezary Syndrome|'],\n ['NCT00179101|Vanderbilt University|Completed|Apr 2004|Nov 2005|Observational|Sep 2005|Parkinson Disease,Depression|'],\n ['NCT00175526|University of British Columbia|Completed|Sep 2005|Dec 2010|Observational|Sep 2005|Toxemia,Sepsis|'],\n ['NCT00176293|University of Kentucky|Terminated|Oct 2005|Feb 2007|Interventional|Sep 2005|Prostatic Neoplasms|Dexamethasone,Doxorubicin'],\n ['NCT00178347|University of Rochester|Terminated|Dec 2004||Observational|Sep 2005||'],\n ['NCT00171964|Novartis Pharmaceuticals|Completed|May 2002|Dec 2008|Interventional|Sep 2005|Neoplasm Metastasis|Zoledronic Acid'],\n ['NCT00178945|Vanderbilt University|Completed|Mar 2004|Mar 2006|Interventional|Sep 2005|Myofascial Pain Syndromes,Fibromyalgia,Dystonia,Dystonic Disorders,Syndrome,Torticollis|Botulinum Toxins,abobotulinumtoxinA'],\n ['NCT00172965|National Taiwan University Hospital|Unknown status|Aug 2004|Jun 2005|Observational|Sep 2005|Mouth Neoplasms|'],\n [\"NCT00179764|Ann & Robert H Lurie Children's Hospital of Chicago|Completed|Mar 2000|Jan 2014|Interventional|Sep 2005|Leukemia,Melanoma,Neoplasms,Hematologic Neoplasms,Precursor Cell Lymphoblastic Leukemia-Lymphoma|Busulfan\"],\n ['NCT00170612|University of Melbourne|Completed|Nov 2005|Aug 2008|Interventional|Sep 2005|Pneumococcal Infections|Heptavalent Pneumococcal Conjugate Vaccine'],\n ['NCT00172627|National Taiwan University Hospital|Unknown status|Jan 2005||Observational|Sep 2005|Stomach Neoplasms|'],\n ['NCT00170872|Novartis|Completed|Nov 2004||Interventional|Sep 2005|Arthritis,Osteoarthritis|Lumiracoxib'],\n ['NCT00172770|National Taiwan University Hospital|Unknown status|Aug 2004|Jul 2006|Observational|Sep 2005|Schizophrenia|'],\n ['NCT00173849|National Taiwan University Hospital|Unknown status|Jan 2006|Jul 2006|Observational|Sep 2005|Mouth Neoplasms|'],\n ['NCT00175682|University of British Columbia|Completed|Dec 2004|Jul 2011|Interventional|Sep 2005|Spinal Cord Injuries,Autonomic Dysreflexia|Prazosin'],\n ['NCT00179127|Vanderbilt University Medical Center|Completed|Aug 2004|Sep 2012|Interventional|Sep 2005|Ketosis,Acidosis,Diabetic Ketoacidosis|Insulin Glargine'],\n ['NCT00178113|University of Pittsburgh|Completed|Jul 2003|Jul 2004|Interventional|Sep 2005|Neoplasms,Carcinoma in Situ,Prostatic Intraepithelial Neoplasia|Lycopene'],\n ['NCT00170560|National Institute of Allergy and Infectious Diseases (NIAID)|Completed|Oct 2001||Observational|Sep 2005|Infections|'],\n ['NCT00178022|University of Pittsburgh|Completed|Feb 2005|Sep 2006|Interventional|Sep 2005|Brain Injuries,Wounds and Injuries,Depression,Anxiety Disorders|'],\n ['NCT00178425|University of Rochester|Completed|Jan 2005|Jun 2006|Interventional|Sep 2005||'],\n ['NCT00178438|University of Rochester|Withdrawn|Jun 2005|Jun 2006|Interventional|Sep 2005|Crohn Disease|'],\n ['NCT00173173|National Taiwan University Hospital|Completed|Aug 2003|Jul 2004|Observational|Sep 2005|Disease,Feeding and Eating Disorders|'],\n ['NCT00177294|University of Pittsburgh|Completed|Apr 2004|Aug 2009|Interventional|Sep 2005|Depression,Depressive Disorder|Citalopram'],\n ['NCT00175461|University of British Columbia|Completed|Sep 2005|Aug 2011|Interventional|Sep 2005|Osteoarthritis|'],\n ['NCT00179062|Vanderbilt University|Completed|Feb 2000|Jun 2007|Interventional|Sep 2005|Disease,Schizophrenia,Depressive Disorder,Bipolar Disorder,Psychotic Disorders|Olanzapine,Risperidone'],\n ['NCT00173550|National Taiwan University Hospital|Unknown status|Aug 2004||Observational|Sep 2005|Premature Birth,Menopause,Primary Ovarian Insufficiency|'],\n ['NCT00177385|University of Pittsburgh|Completed|Jun 2003|Sep 2011|Interventional|Sep 2005||'],\n ['NCT00171002|Novartis|Completed|Nov 2004|Jun 2005|Interventional|Sep 2005|Hypertension|Amlodipine,Valsartan'],\n ['NCT00177125|University of Minnesota|Completed|Jan 2004|Jan 2004|Interventional|Sep 2005|Prostatic Neoplasms|'],\n ['NCT00172861|National Taiwan University Hospital|Unknown status|Jan 2005||Observational|Sep 2005|Stomach Neoplasms|'],\n ['NCT00174798|Sanofi|Completed|May 2005|May 2006|Interventional|Sep 2005|Urinary Incontinence,Enuresis,Urinary Bladder|Tolterodine Tartrate'],\n ['NCT00177892|National Institute on Aging (NIA)|Unknown status|Sep 2003|Aug 2008|Interventional|Sep 2005|Apnea,Sleep Apnea Syndromes,Sleep Apnea,Metabolic Syndrome,Syndrome|'],\n ['NCT00176761|University of Michigan Rogel Cancer Center|Terminated|Mar 2000|May 2006|Interventional|Sep 2005|Colorectal Neoplasms|Interleukin-2'],\n ['NCT00176319|University of Leipzig|Completed|May 2005||Interventional|Sep 2005|Heart Failure|'],\n ['NCT00177203|University of Pittsburgh|Completed|Jun 2003|Jan 2009|Interventional|Sep 2005|Sleep Initiation and Maintenance Disorders|'],\n ['NCT00174993|Takeda|Completed|May 2001|Jan 2005|Interventional|Sep 2005|Diabetes Mellitus|Pioglitazone'],\n ['NCT00177658|University of Pittsburgh|Completed|Mar 2006|Jun 2017|Observational|Sep 2005|Salmonella Infections|'],\n ['NCT00174928|Takeda|Completed|May 2005|Aug 2005|Interventional|Sep 2005|Gastroesophageal Reflux,Esophagitis|Lansoprazole,Dexlansoprazole'],\n ['NCT00170677|North Eastern German Society of Gynaecological Oncology|Completed|Sep 2005|Jan 2013|Interventional|Sep 2005|Ovarian Neoplasms,Carcinoma|Topotecan'],\n ['NCT00178295|University of Rochester|Completed|Nov 1999||Observational|Sep 2005|Brain Neoplasms,Trauma|'],\n ['NCT00176449|University of Maryland, Baltimore|Completed|Apr 2001|Dec 2005|Interventional|Sep 2005|Tobacco Use Disorder|Bupropion'],\n ['NCT00179751|Celgene Corporation|Terminated|Apr 2005|Aug 2006|Interventional|Sep 2005|Pancreatic Neoplasms|Gemcitabine,Lenalidomide'],\n ['NCT00172744|National Taiwan University Hospital|Unknown status|Apr 2005|Jul 2006|Observational|Sep 2005||'],\n ['NCT00177255|University of Pittsburgh|Terminated|Apr 2005|Dec 2008|Interventional|Sep 2005||Docetaxel,Capecitabine'],\n ['NCT00171925|Novartis Pharmaceuticals|Terminated|Aug 2000|Nov 2008|Interventional|Sep 2005|Multiple Myeloma,Neoplasms|Vitamin D,Zoledronic Acid,Calcium'],\n ['NCT00177307|University of Pittsburgh|Completed|Jan 2005|Feb 2012|Interventional|Sep 2005|Colorectal Neoplasms|Bevacizumab,Capecitabine,Oxaliplatin'],\n ['NCT00173862|National Taiwan University Hospital|Completed|May 2000|Jun 2006|Interventional|Jun 2005|Carcinoma|Gemcitabine,Ifosfamide'],\n ['NCT00171990|Novartis|Completed|Jan 2003|Feb 2006|Interventional|Sep 2005|Herpes Genitalis|Famciclovir'],\n ['NCT00177060|Hordinsky, Maria K., MD|Terminated|Oct 2003|May 2007|Interventional|Sep 2005|Wounds and Injuries|Hydromorphone'],\n ['NCT00173043|National Taiwan University Hospital|Unknown status|Oct 2004|Aug 2005|Observational|Sep 2005|Polycystic Ovary Syndrome,Insulin Resistance,Syndrome|'],\n ['NCT00171769|Novartis|Completed|Apr 2005||Interventional|Sep 2005|Atrial Fibrillation|Certoparin'],\n ['NCT00171951|Novartis Pharmaceuticals|Completed|Aug 2004|Jul 2013|Interventional|Sep 2005|ACTH-Secreting Pituitary Adenoma,Pituitary ACTH Hypersecretion|Pasireotide'],\n ['NCT00174850|State University of New York - Upstate Medical University|Completed|Jul 2004|May 2005|Interventional|Sep 2005|Anxiety Disorders|'],\n ['NCT00177970|University of Pittsburgh|Terminated|Oct 2003|Apr 2008|Interventional|Sep 2005|Diarrhea|Immunoglobulins,Antibodies,Immunoglobulin G,gamma-Globulins,Rho(D) Immune Globulin'],\n ['NCT00171834|Novartis Pharmaceuticals|Completed|Aug 2003|Sep 2008|Interventional|Sep 2005|Lung Neoplasms,Carcinoma|Epothilones,Epothilone B'],\n ['NCT00172601|National Taiwan University Hospital|Unknown status|Aug 2005||Interventional|Sep 2005|Bursitis|'],\n ['NCT00176254|Susanne Arnold|Completed|May 2000|Oct 2012|Interventional|Sep 2005|Carcinoma,Head and Neck Neoplasms|Paclitaxel,Carboplatin'],\n ['NCT00176553|University of Medicine and Dentistry of New Jersey|Terminated|Mar 2003|May 2007|Interventional|Sep 2005|Neurotoxicity Syndromes|Dextromethorphan'],\n ['NCT00171405|Novartis|Completed|Jun 2005|Feb 2006|Interventional|Aug 2005|Hypertension|'],\n ['NCT00177814|University of Pittsburgh|Completed|Sep 2005|Jun 2017|Observational|Sep 2005|Bacterial Infections,Gram-Negative Bacterial Infections|'],\n ['NCT00174122|National Taiwan University Hospital|Unknown status|Jul 2005|Jun 2006|Observational|Sep 2005||'],\n ['NCT00179608|Celgene|Completed|Sep 2005|Jun 2007|Interventional|Sep 2005|Melanoma|Lenalidomide'],\n ['NCT00173394|National Taiwan University Hospital|Unknown status|Aug 2005|Dec 2008|Observational|Sep 2005|Ovarian Neoplasms,Carcinoma|'],\n ['NCT00170001|Mayo Clinic|Completed|Apr 2005|Aug 2006|Interventional|Sep 2005|Gastroesophageal Reflux|Esomeprazole'],\n ['NCT00170963|Novartis|Completed|Oct 2004|Jun 2005|Interventional|Sep 2005|Hypertension|Amlodipine,Valsartan'],\n ['NCT00170365|Hennepin Healthcare Research Institute|Completed|Jul 2004|Mar 2005|Interventional|Sep 2005||'],\n ['NCT00173810|National Taiwan University Hospital|Unknown status|Aug 2005|Apr 2007|Observational|Sep 2005|Stroke|'],\n ['NCT00179335|Albert Einstein College of Medicine|Completed|Aug 2003|Sep 2006|Observational|Sep 2005|HIV Infections|'],\n ['NCT00178256|University of Rochester|Completed|Jun 1998|Dec 2012|Interventional|Sep 2005|Carcinoma|Paclitaxel'],\n ['NCT00178035|University of Pittsburgh|Completed|Dec 1999|Aug 2003|Interventional|Sep 2005|Depression,Depressive Disorder|Paroxetine'],\n ['NCT00177567|University of Pittsburgh|Completed|Jul 2001|Jan 2004|Interventional|Sep 2005|Disease,Bipolar Disorder,Mood Disorders|Lamotrigine,Valproic Acid,Olanzapine,Risperidone,Lithium Carbonate,Mirtazapine,Tranylcypromine,Bupropion,Paroxetine,Venlafaxine Hydrochloride'],\n ['NCT00172666|National Taiwan University Hospital|Unknown status|Aug 2005|Jul 2006|Observational|Sep 2005|Arthritis,Lupus Erythematosus|'],\n ['NCT00172731|National Taiwan University Hospital|Completed|Mar 2005|Jun 2005|Observational|Sep 2005|Schizophrenia|'],\n ['NCT00171873|Carmen Schade-Brittinger|Completed|Sep 2001|Dec 2013|Interventional|Sep 2005|Neuroendocrine Tumors,Neoplasm Metastasis|Octreotide'],\n ['NCT00173355|National Taiwan University Hospital|Unknown status|Jun 2005|Aug 2005|Observational|Sep 2005|Dermatofibrosarcoma,Soft Tissue Neoplasms|'],\n ['NCT00176111|Heidelberg University|Terminated|Jan 2004|Jan 2005|Interventional|Sep 2005||'],\n ['NCT00170274|Medtronic Bakken Research Center|Completed|Aug 2000|Oct 2014|Interventional|Sep 2005|Arrhythmias,Tachycardia|'],\n ['NCT00172250|National Taiwan University Hospital|Completed|Sep 2003||Observational|Sep 2005|Coronary Artery Disease|'],\n ['NCT00174356|Pfizer|Completed|Dec 2002|Oct 2005|Interventional|Sep 2005|Carcinoma|Paclitaxel,Carboplatin'],\n ['NCT00170989|Novartis|Completed|Sep 2004|Jul 2005|Interventional|Sep 2005|Hypertension|Valsartan,Hydrochlorothiazide'],\n ['NCT00179569|Beth Israel Deaconess Medical Center|Completed|Aug 2005|Sep 2007|Interventional|Sep 2005||'],\n ['NCT00172796|National Taiwan University Hospital|Unknown status|Apr 2005||Observational|Sep 2005|Metabolic Syndrome,Prediabetic State|'],\n ['NCT00178126|University of Pittsburgh|Completed|Mar 2004|Oct 2008|Interventional|Sep 2005|Pressure Ulcer,Ulcer|'],\n ['NCT00172029|Novartis|Completed|Apr 2003||Interventional|Sep 2005|Breast Neoplasms,Bone Diseases|Zoledronic Acid'],\n ['NCT00176696|University of Medicine and Dentistry of New Jersey|Terminated|Aug 2005|Apr 2007|Observational|Sep 2005|Pain|Anesthetics'],\n ['NCT00177788|University of Pittsburgh|Completed|Sep 2005|Aug 2012|Observational|Sep 2005|Mycoses,Fungemia|'],\n ['NCT00171938|Novartis|Terminated|Apr 2004|Jun 2006|Interventional|Sep 2005|Glioblastoma|Imatinib Mesylate'],\n ['NCT00177359|University of Pittsburgh|Completed|Nov 2005|Jun 2007|Interventional|Sep 2005|Mobility Limitation|'],\n ['NCT00171860|Novartis Pharmaceuticals|Terminated|Sep 2002||Interventional|Sep 2005|Hypereosinophilic Syndrome,Syndrome|Imatinib Mesylate'],\n ['NCT00171717|Novartis|Completed|Feb 2004|Dec 2005|Interventional|Sep 2005|Diabetes Mellitus|Cyclosporine,Cyclosporins'],\n ['NCT00176748|University of Michigan Rogel Cancer Center|Completed|Jul 2005|Jun 2009|Interventional|Sep 2005|Thyroid Neoplasms,Thyroid Diseases|'],\n ['NCT00175084|Tufts University|Completed|Oct 2004|Dec 2012|Interventional|Sep 2005|Cardiovascular Diseases,Metabolic Syndrome,Hyperlipidemias|'],\n ['NCT00178334|University of Rochester|Completed|Mar 2006|Jul 2006|Observational|Sep 2005|Urinary Incontinence,Enuresis|'],\n ['NCT00172822|National Taiwan University Hospital|Unknown status|Jan 2003|Jun 2005|Observational|Sep 2005|Appendicitis|'],\n ['NCT00170885|Novartis|Completed|May 2005|Jul 2007|Interventional|Sep 2005||Everolimus'],\n ['NCT00177684|University of Pittsburgh|Completed|Sep 2004|Sep 2005|Interventional|Sep 2005|Mycoses|Amphotericin B,Liposomal amphotericin B'],\n ['NCT00178672|The University of Texas Health Science Center, Houston|Completed|Nov 2002|Aug 2007|Interventional|Sep 2005|Carotid Stenosis,Carotid Artery Diseases,Stroke,Heart Diseases|'],\n ['NCT00171080|Novartis|Completed|Apr 2004|Mar 2006|Interventional|Sep 2005|Hypertension|Valsartan,Irbesartan'],\n ['NCT00176891|Masonic Cancer Center, University of Minnesota|Completed|Mar 2004|Nov 2012|Interventional|Sep 2005|Mucopolysaccharidoses,Mucopolysaccharidosis I,Syndrome|'],\n ['NCT00172107|Shire|Completed|May 1995|Mar 1997|Interventional|Sep 2005|Osteoporosis|Parathyroid Hormone'],\n ['NCT00177827|University of Pittsburgh|Completed|Mar 2004|Mar 2006|Observational|Sep 2005|Aspergillosis|'],\n ['NCT00177502|University of Pittsburgh|Completed|Jan 2003|Dec 2006|Interventional|Sep 2005|Body Weight,Weight Loss,Weight Gain|'],\n ['NCT00175045|Takeda|Completed|Jun 2003|Oct 2003|Interventional|Sep 2005|Esophagitis|Lansoprazole,Dexlansoprazole'],\n ['NCT00175981|Heidelberg University|Completed|Feb 2003|Nov 2004|Interventional|Sep 2005||Sildenafil Citrate,Fluvoxamine'],\n ['NCT00177983|University of Pittsburgh|Completed|Jan 2003|Jan 2005|Interventional|Sep 2005|Recurrence|'],\n ['NCT00179699|Celgene Corporation|Terminated|Sep 2005|Nov 2006|Interventional|Sep 2005|Lung Neoplasms,Carcinoma|Pemetrexed,Lenalidomide'],\n ['NCT00175383|University of British Columbia|Unknown status|Jun 2004|Dec 2013|Interventional|Sep 2005|Prostatic Neoplasms|Hormones,Prolactin Release-Inhibiting Factors'],\n ['NCT00178230|University of Rochester|Completed|Mar 1996|Nov 2013|Observational|Sep 2005|Lung Neoplasms|'],\n ['NCT00170859|Novartis Pharmaceuticals|Completed|Aug 2004|Dec 2006|Interventional|Sep 2005||Everolimus'],\n ['NCT00179465|Beth Israel Deaconess Medical Center|Active, not recruiting|Nov 2003|Sep 2022|Interventional|Sep 2005|Schizophrenia|Tiagabine,Antipsychotic Agents'],\n ['NCT00173732|National Taiwan University Hospital|Unknown status|Sep 2005||Observational|Sep 2005||'],\n ['NCT00170976|Novartis|Completed|Apr 2004|Jun 2005|Interventional|Sep 2005|Hypertension|Amlodipine,Valsartan'],\n ['NCT00173641|National Taiwan University Hospital|Unknown status|Sep 2005|Aug 2006|Observational|Sep 2005|Diabetes Mellitus|'],\n ['NCT00173342|National Taiwan University Hospital|Unknown status|Jun 2005||Observational|Sep 2005|Bundle-Branch Block,Heart Block|'],\n ['NCT00174148|National Taiwan University Hospital|Unknown status|Jul 2005|Jul 2006|Observational|Sep 2005|Neck Pain|'],\n ['NCT00170144|Mayo Clinic|Completed|Sep 2005|Jun 2007|Interventional|Sep 2005||'],\n ['NCT00170469|PharmAthene UK Limited|Completed|Mar 2005|Feb 2007|Interventional|Sep 2005|Anthrax|Aluminum Hydroxide'],\n ['NCT00179634|Beth Israel Deaconess Medical Center|Terminated|Mar 2005|Mar 2008|Interventional|Sep 2005|Breast Neoplasms|'],\n ['NCT00175318|University of British Columbia|Completed|Apr 2005|Feb 2011|Interventional|Sep 2005|Dental Caries|'],\n ['NCT00175812|University of Bergen|Completed|Nov 2004|Nov 2009|Interventional|Sep 2005|Leukemia|Tretinoin,Theophylline,Valproic Acid'],\n ['NCT00178906|Vanderbilt University|Completed|Dec 1999|Apr 2008|Observational|Sep 2005|Depression|'],\n ['NCT00175448|University of British Columbia|Completed|Sep 2005|Dec 2007|Interventional|Sep 2005|Arthritis|'],\n ['NCT00173069|National Taiwan University Hospital|Unknown status|Jan 2006|Dec 2010|Observational|Sep 2005|Schizophrenia|'],\n ['NCT00176956|Hordinsky, Maria K., MD|Terminated|Nov 2002|Jan 2007|Interventional|Sep 2005|Dermatitis,Skin Diseases|'],\n ['NCT00173095|National Taiwan University Hospital|Unknown status|Jan 2005|Jan 2008|Observational|Sep 2005|Subarachnoid Hemorrhage,Hemorrhage|'],\n ['NCT00177424|University of Pittsburgh|Terminated|Jul 2004|Oct 2007|Interventional|Sep 2005|Stroke,Depression,Depressive Disorder|Sertraline'],\n ['NCT00172783|National Taiwan University Hospital|Unknown status|Jun 2005|Dec 2005|Observational|Sep 2005|Tuberculosis|'],\n ['NCT00176917|Masonic Cancer Center, University of Minnesota|Completed|May 1999|May 2010|Interventional|Sep 2005|Mucolipidoses,Mucopolysaccharidoses,Mucopolysaccharidosis I,Mannosidase Deficiency Diseases,alpha-Mannosidosis,Mucopolysaccharidosis VI|Cyclophosphamide,Busulfan,Thymoglobulin'],\n ['NCT00176839|Masonic Cancer Center, University of Minnesota|Terminated|Jun 2000|Feb 2012|Interventional|Sep 2005|Neoplasms,Hematologic Neoplasms,Leukemia,Precursor Cell Lymphoblastic Leukemia-Lymphoma|Cyclophosphamide,Melphalan,Busulfan,Antilymphocyte Serum,Lenograstim,Sargramostim'],\n ['NCT00179322|National Institute on Deafness and Other Communication Disorders (NIDCD)|Completed|Sep 2005|Sep 2016|Observational|Sep 2005|Sleep Deprivation|'],\n ['NCT00170664|North Eastern German Society of Gynaecological Oncology|Completed|Jan 1999|Sep 2004|Interventional|Sep 2005|Ovarian Neoplasms,Carcinoma|Paclitaxel,Carboplatin'],\n ['NCT00172003|Novartis Pharmaceuticals|Completed|Sep 2004|Jul 2009|Interventional|Sep 2005|Neoplasm Metastasis,Neoplasms,Carcinoma|Zoledronic Acid'],\n ['NCT00170261|Medtronic Bakken Research Center|Completed|Apr 2002|Sep 2006|Interventional|Sep 2005|Syncope|'],\n ['NCT00179075|Vanderbilt University|Completed|Apr 2003|Apr 2008|Observational|Sep 2005|Graft vs Host Disease|'],\n ['NCT00179777|University of Helsinki|Completed|May 2002|Sep 2017|Interventional|Sep 2005|Diabetes Mellitus|'],\n ['NCT00174018|National Taiwan University Hospital|Completed|Sep 1993||Observational|Sep 2005|Shoulder Impingement Syndrome|'],\n ['NCT00171535|Novartis|Completed|Oct 2004|Apr 2005|Interventional|Sep 2005|Hypertension|Amlodipine,Valsartan'],\n ['NCT00173914|National Taiwan University Hospital|Unknown status|Mar 2003||Observational|Sep 2005||'],\n ['NCT00175825|UCB Pharma|Completed|Nov 2005|Jun 2006|Interventional|Sep 2005|Epilepsy,Seizures|Brivaracetam'],\n ['NCT00172198|National Taiwan University Hospital|Unknown status|Mar 2005|Mar 2007|Interventional|Sep 2005||'],\n ['NCT00171366|Novartis|Completed|Jul 2004|Jul 2005|Interventional|Sep 2005|Hypertension|Amlodipine,Benazepril'],\n ['NCT00170287|Medtronic Bakken Research Center|Completed|May 2002|Aug 2011|Interventional|Sep 2005|Tachycardia|'],\n ['NCT00170729|Novartis|Completed|Aug 2004|Feb 2005|Interventional|Sep 2005|Cataract,Capsule Opacification,Uveitis,Inflammation|Prednisolone,Methylprednisolone Acetate,Methylprednisolone,Methylprednisolone Hemisuccinate,Prednisolone acetate,Prednisolone hemisuccinate,Prednisolone phosphate'],\n ['NCT00173225|National Taiwan University Hospital|Unknown status|Jun 2005|Jun 2005|Observational|Sep 2005|Asthma,Cough|'],\n ['NCT00178100|University of Pittsburgh|Completed|Mar 1999|Aug 2005|Interventional|Sep 2005|Depression,Depressive Disorder|Paroxetine'],\n ['NCT00176397|University of Leipzig|Unknown status|Aug 2003||Interventional|Sep 2005|Coronary Artery Disease,Myocardial Ischemia,Coronary Disease,Coronary Stenosis,Constriction|'],\n ['NCT00177333|University of Pittsburgh|Completed|Sep 2005|May 2006|Interventional|Sep 2005|Vomiting|Doxycycline'],\n ['NCT00175643|University of British Columbia|Completed|Feb 2005|Nov 2005|Interventional|Sep 2005|Keratosis|Imiquimod'],\n ['NCT00172913|National Taiwan University Hospital|Unknown status|Jun 2005|Jul 2008|Observational|Sep 2005|Myopia|'],\n ['NCT00173628|National Taiwan University Hospital|Unknown status|Jan 1990|Dec 2006|Observational|Sep 2005|Diabetes Mellitus|'],\n ['NCT00172757|National Taiwan University Hospital|Unknown status|Jan 2002|Jun 2005|Observational|Sep 2005|Colorectal Neoplasms,Diabetes Mellitus|'],\n ['NCT00174512|Pfizer|Completed|Mar 2005|Jun 2006|Interventional|Sep 2005|Heart Diseases,Myocardial Ischemia,Coronary Artery Disease|Moxifloxacin'],\n ['NCT00172939|National Taiwan University Hospital|Unknown status|Jun 2005|Jan 2008|Interventional|Sep 2005|Vitiligo|'],\n ['NCT00176995|Hordinsky, Maria K., MD|Completed|Mar 1999|Oct 2000|Interventional|Sep 2005|Hair Diseases|Eflornithine'],\n ...]"
     ]
    }
   ],
   "source": [
    "# Load clinical trial data as RDD\n",
    "clinicaltrial_2021_rdd = sc.textFile(\"/FileStore/tables/clinicaltrial_2021.csv\")\n",
    "clinicaltrial_2021_rdd1 = clinicaltrial_2021_rdd.map(lambda x: x.split(\"\\t\"))\n",
    "# Filter out the header row\n",
    "header_row = clinicaltrial_2021_rdd1.first()\n",
    "clinicaltrial_2021_rdd2 = clinicaltrial_2021_rdd1.filter(lambda row: row != header_row)\n",
    "clinicaltrial_2021_rdd2 .collect()"
   ]
  }
 ],
 "metadata": {
  "application/vnd.databricks.v1+notebook": {
   "dashboards": [],
   "language": "python",
   "notebookMetadata": {
    "mostRecentlyExecutedCommandWithImplicitDF": {
     "commandId": 998132394464151,
     "dataframes": [
      "_sqldf"
     ]
    },
    "pythonIndentUnit": 4
   },
   "notebookName": "Nafeesa Hasan_Shaik Khaja Nagoor_rdd",
   "widgets": {}
  }
 },
 "nbformat": 4,
 "nbformat_minor": 0
}
